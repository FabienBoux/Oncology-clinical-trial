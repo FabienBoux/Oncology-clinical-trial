{
 "cells": [
  {
   "cell_type": "markdown",
   "id": "071e1704-6520-484e-9260-208bbb77cb65",
   "metadata": {},
   "source": [
    "# Randomisation\n",
    "\n",
    "This tab allows to have a look at thje balance between groups. First, you can select the metadata that will be monitored in this tab (list of selected metadata is saved in the config file). Second, the selected metadata are listed in a table and size of subgroups are given. An indicator of balance is given for each metadata (*green*: balanced, *orange*: risk of unbalanced, and *red*: unbalanced), see explanation about the method used at the end of this page."
   ]
  },
  {
   "cell_type": "code",
   "execution_count": 1,
   "id": "db257440-ad77-4f04-aa9b-e7d190532f2e",
   "metadata": {
    "jupyter": {
     "source_hidden": true
    },
    "tags": []
   },
   "outputs": [],
   "source": [
    "from functions.config import Config\n",
    "\n",
    "config = Config()\n",
    "config.read()    "
   ]
  },
  {
   "cell_type": "code",
   "execution_count": 7,
   "id": "59500ba6-e9a0-4f02-8fdb-40d051ebd743",
   "metadata": {
    "tags": []
   },
   "outputs": [
    {
     "data": {
      "application/vnd.jupyter.widget-view+json": {
       "model_id": "86135fc7b73a4f11968a7ad8d6aabcd8",
       "version_major": 2,
       "version_minor": 0
      },
      "text/plain": [
       "HBox(children=(Select(description='Metadata:', options=('Metadata 0', 'Metadata 1', 'Metadata 2', 'Metadata 3'…"
      ]
     },
     "metadata": {},
     "output_type": "display_data"
    }
   ],
   "source": [
    "import ipywidgets as widgets\n",
    "\n",
    "if config.is_key('list_metadata'):\n",
    "    list_metadata = config.get_value('list_metadata')\n",
    "else:\n",
    "    list_metadata = config.extract_config_values('list_metadata')\n",
    "    config.write()\n",
    "    \n",
    "if config.is_key('monitored_metadata'):\n",
    "    list_selected = config.get_value('monitored_metadata')\n",
    "else:\n",
    "    list_selected = list_metadata[:1]\n",
    "\n",
    "all_metadata = widgets.Select(\n",
    "    options=list_metadata,\n",
    "    value=list_metadata[0],\n",
    "    description='Metadata:',\n",
    "    disabled=False\n",
    ")\n",
    "\n",
    "selected_metadata = widgets.Select(\n",
    "    options=list_selected,\n",
    "    value=list_selected[0],\n",
    "    description='Monitored:',\n",
    "    disabled=False\n",
    ")\n",
    "\n",
    "def on_button_add_clicked(var):\n",
    "    list_selected.append(all_metadata.value)\n",
    "    selected_metadata.options = list_selected\n",
    "\n",
    "def on_button_remove_clicked(var):\n",
    "    list_selected.remove(selected_metadata.value)\n",
    "    selected_metadata.options = list_selected\n",
    "\n",
    "def on_button_save_clicked(var):\n",
    "    config.set_value(list_selected, 'monitored_metadata', section='METADATA')\n",
    "    config.write()\n",
    "    \n",
    "button_add = widgets.Button(description='Add', command=on_button_add_clicked)\n",
    "button_remove = widgets.Button(description='Remove', command=on_button_remove_clicked)\n",
    "button_save = widgets.Button(description='Save', command=on_button_save_clicked)\n",
    "\n",
    "button_add.on_click(on_button_add_clicked)\n",
    "button_remove.on_click(on_button_remove_clicked)\n",
    "button_save.on_click(on_button_save_clicked)\n",
    "\n",
    "widgets.HBox([all_metadata, widgets.VBox([button_add, button_remove, button_save]), selected_metadata])"
   ]
  },
  {
   "cell_type": "code",
   "execution_count": 8,
   "id": "eb58ae8d-35df-4a20-8a98-6906b690c48f",
   "metadata": {},
   "outputs": [
    {
     "data": {
      "text/plain": [
       "['Metadata 0', 'Metadata 1', 'Metadata 4']"
      ]
     },
     "execution_count": 8,
     "metadata": {},
     "output_type": "execute_result"
    }
   ],
   "source": [
    "config.get_value('monitored_metadata')"
   ]
  }
 ],
 "metadata": {
  "kernelspec": {
   "display_name": "Python 3 (ipykernel)",
   "language": "python",
   "name": "python3"
  },
  "language_info": {
   "codemirror_mode": {
    "name": "ipython",
    "version": 3
   },
   "file_extension": ".py",
   "mimetype": "text/x-python",
   "name": "python",
   "nbconvert_exporter": "python",
   "pygments_lexer": "ipython3",
   "version": "3.9.9"
  },
  "widgets": {
   "application/vnd.jupyter.widget-state+json": {
    "state": {
     "059d35707144430b8b2ba0c155f82870": {
      "model_module": "@jupyter-widgets/base",
      "model_module_version": "1.2.0",
      "model_name": "LayoutModel",
      "state": {}
     },
     "0c7a998e090546fe820dd6444d596a1e": {
      "model_module": "@jupyter-widgets/base",
      "model_module_version": "1.2.0",
      "model_name": "LayoutModel",
      "state": {}
     },
     "0e237fb60f5041dbb864c3a9b4081ef4": {
      "model_module": "@jupyter-widgets/controls",
      "model_module_version": "1.5.0",
      "model_name": "DescriptionStyleModel",
      "state": {
       "description_width": ""
      }
     },
     "0e9bbce4c8cb4af5ac7f4210303daa4e": {
      "model_module": "@jupyter-widgets/base",
      "model_module_version": "1.2.0",
      "model_name": "LayoutModel",
      "state": {}
     },
     "11cc374b1ebc457ba3a9fcb46c8613b9": {
      "model_module": "@jupyter-widgets/controls",
      "model_module_version": "1.5.0",
      "model_name": "SelectModel",
      "state": {
       "_options_labels": [
        "Metadata 0",
        "Metadata 1",
        "Metadata 2",
        "Metadata 3",
        "Metadata 4",
        "Metadata 5",
        "Metadata 6",
        "Metadata 7",
        "Metadata 8",
        "Metadata 9"
       ],
       "description": "Metadata:",
       "index": 4,
       "layout": "IPY_MODEL_0c7a998e090546fe820dd6444d596a1e",
       "style": "IPY_MODEL_0e237fb60f5041dbb864c3a9b4081ef4"
      }
     },
     "1532737d86fb477883de2f01a74ab372": {
      "model_module": "@jupyter-widgets/controls",
      "model_module_version": "1.5.0",
      "model_name": "HBoxModel",
      "state": {
       "children": [
        "IPY_MODEL_a1b37aeadb844d63a45eca2006449677",
        "IPY_MODEL_36d18ad1354e40dfbe9b67f847e40945",
        "IPY_MODEL_ddf160a952da497eaf50a9da6b127a0f"
       ],
       "layout": "IPY_MODEL_758229215b874b41aa5d5d2e7ff676b0"
      }
     },
     "1611501f272d4ae1977509bf6bd7fa9a": {
      "model_module": "@jupyter-widgets/base",
      "model_module_version": "1.2.0",
      "model_name": "LayoutModel",
      "state": {}
     },
     "1a8b2ff12f314b40998441f7db4a065b": {
      "model_module": "@jupyter-widgets/controls",
      "model_module_version": "1.5.0",
      "model_name": "ButtonStyleModel",
      "state": {}
     },
     "21db250c61df4dd8bb42ad8dd5d524ad": {
      "model_module": "@jupyter-widgets/controls",
      "model_module_version": "1.5.0",
      "model_name": "ButtonStyleModel",
      "state": {}
     },
     "24fdafe0cd63466b9bf590d5920ccb79": {
      "model_module": "@jupyter-widgets/base",
      "model_module_version": "1.2.0",
      "model_name": "LayoutModel",
      "state": {}
     },
     "33ac93f11e2f489ea07a507558807050": {
      "model_module": "@jupyter-widgets/controls",
      "model_module_version": "1.5.0",
      "model_name": "ButtonModel",
      "state": {
       "description": "Add",
       "layout": "IPY_MODEL_df81571d715f45c5bf79342c2bf9293e",
       "style": "IPY_MODEL_99922909df074183bfc2560fb54326da"
      }
     },
     "34f79a61747a471c891b970504573f0d": {
      "model_module": "@jupyter-widgets/controls",
      "model_module_version": "1.5.0",
      "model_name": "ButtonModel",
      "state": {
       "description": "Remove",
       "layout": "IPY_MODEL_24fdafe0cd63466b9bf590d5920ccb79",
       "style": "IPY_MODEL_1a8b2ff12f314b40998441f7db4a065b"
      }
     },
     "36d18ad1354e40dfbe9b67f847e40945": {
      "model_module": "@jupyter-widgets/controls",
      "model_module_version": "1.5.0",
      "model_name": "VBoxModel",
      "state": {
       "children": [
        "IPY_MODEL_33ac93f11e2f489ea07a507558807050",
        "IPY_MODEL_34f79a61747a471c891b970504573f0d",
        "IPY_MODEL_f9598e7b63a546458ab6a7d4634f9506"
       ],
       "layout": "IPY_MODEL_5b4bf9ce25df481d80fc2f900d509cdf"
      }
     },
     "382a0ca17c4544ceafe92523d592e877": {
      "model_module": "@jupyter-widgets/base",
      "model_module_version": "1.2.0",
      "model_name": "LayoutModel",
      "state": {}
     },
     "3c2632233cda4b6789ea9c627b5b437d": {
      "model_module": "@jupyter-widgets/controls",
      "model_module_version": "1.5.0",
      "model_name": "DescriptionStyleModel",
      "state": {
       "description_width": ""
      }
     },
     "3f7f6daa48c148b882bdf0172bf1245a": {
      "model_module": "@jupyter-widgets/controls",
      "model_module_version": "1.5.0",
      "model_name": "ButtonModel",
      "state": {
       "description": "Remove",
       "layout": "IPY_MODEL_fe1c2c46595949cfb5f8789fe21da8f7",
       "style": "IPY_MODEL_8984b37ebc7b481cb5540fd568769423"
      }
     },
     "45c40dc8a60943208a3f1b7974c1fd8e": {
      "model_module": "@jupyter-widgets/controls",
      "model_module_version": "1.5.0",
      "model_name": "DescriptionStyleModel",
      "state": {
       "description_width": ""
      }
     },
     "5b4bf9ce25df481d80fc2f900d509cdf": {
      "model_module": "@jupyter-widgets/base",
      "model_module_version": "1.2.0",
      "model_name": "LayoutModel",
      "state": {}
     },
     "6ace2e9da1c74b0a86ef84a3da5c59c2": {
      "model_module": "@jupyter-widgets/base",
      "model_module_version": "1.2.0",
      "model_name": "LayoutModel",
      "state": {}
     },
     "6c5c18f636414dac9a0d4d0d49f4da62": {
      "model_module": "@jupyter-widgets/controls",
      "model_module_version": "1.5.0",
      "model_name": "ButtonStyleModel",
      "state": {}
     },
     "758229215b874b41aa5d5d2e7ff676b0": {
      "model_module": "@jupyter-widgets/base",
      "model_module_version": "1.2.0",
      "model_name": "LayoutModel",
      "state": {}
     },
     "807981f2ac7342daa1299f1c4d71ac29": {
      "model_module": "@jupyter-widgets/controls",
      "model_module_version": "1.5.0",
      "model_name": "DescriptionStyleModel",
      "state": {
       "description_width": ""
      }
     },
     "86135fc7b73a4f11968a7ad8d6aabcd8": {
      "model_module": "@jupyter-widgets/controls",
      "model_module_version": "1.5.0",
      "model_name": "HBoxModel",
      "state": {
       "children": [
        "IPY_MODEL_11cc374b1ebc457ba3a9fcb46c8613b9",
        "IPY_MODEL_b0e780cf386a49eba6f6c26a89587d3e",
        "IPY_MODEL_faae04df75144d9ea04fbdffd4ad55ac"
       ],
       "layout": "IPY_MODEL_382a0ca17c4544ceafe92523d592e877"
      }
     },
     "8984b37ebc7b481cb5540fd568769423": {
      "model_module": "@jupyter-widgets/controls",
      "model_module_version": "1.5.0",
      "model_name": "ButtonStyleModel",
      "state": {}
     },
     "99922909df074183bfc2560fb54326da": {
      "model_module": "@jupyter-widgets/controls",
      "model_module_version": "1.5.0",
      "model_name": "ButtonStyleModel",
      "state": {}
     },
     "a1b37aeadb844d63a45eca2006449677": {
      "model_module": "@jupyter-widgets/controls",
      "model_module_version": "1.5.0",
      "model_name": "SelectModel",
      "state": {
       "_options_labels": [
        "Metadata 0",
        "Metadata 1",
        "Metadata 2",
        "Metadata 3",
        "Metadata 4",
        "Metadata 5",
        "Metadata 6",
        "Metadata 7",
        "Metadata 8",
        "Metadata 9"
       ],
       "description": "Metadata:",
       "index": 3,
       "layout": "IPY_MODEL_ec79dafb2aa64cd7a7eee2f94a3b2c66",
       "style": "IPY_MODEL_807981f2ac7342daa1299f1c4d71ac29"
      }
     },
     "b0e780cf386a49eba6f6c26a89587d3e": {
      "model_module": "@jupyter-widgets/controls",
      "model_module_version": "1.5.0",
      "model_name": "VBoxModel",
      "state": {
       "children": [
        "IPY_MODEL_e1b1e52aed6542e48854baf1cc8f4056",
        "IPY_MODEL_3f7f6daa48c148b882bdf0172bf1245a",
        "IPY_MODEL_ec50bcef0bc246e2815f4fc58136edb9"
       ],
       "layout": "IPY_MODEL_b6098630aa724a2db4a24452f6d37d48"
      }
     },
     "b6098630aa724a2db4a24452f6d37d48": {
      "model_module": "@jupyter-widgets/base",
      "model_module_version": "1.2.0",
      "model_name": "LayoutModel",
      "state": {}
     },
     "c001f4b7e15741389bee19db8bddac65": {
      "model_module": "@jupyter-widgets/controls",
      "model_module_version": "1.5.0",
      "model_name": "ButtonStyleModel",
      "state": {}
     },
     "cff71fc222c84b2e90d4d369ab8052b9": {
      "model_module": "@jupyter-widgets/base",
      "model_module_version": "1.2.0",
      "model_name": "LayoutModel",
      "state": {}
     },
     "ddf160a952da497eaf50a9da6b127a0f": {
      "model_module": "@jupyter-widgets/controls",
      "model_module_version": "1.5.0",
      "model_name": "SelectModel",
      "state": {
       "_options_labels": [
        "Metadata 0",
        "Metadata 3"
       ],
       "description": "Monitored:",
       "index": 0,
       "layout": "IPY_MODEL_cff71fc222c84b2e90d4d369ab8052b9",
       "style": "IPY_MODEL_45c40dc8a60943208a3f1b7974c1fd8e"
      }
     },
     "df81571d715f45c5bf79342c2bf9293e": {
      "model_module": "@jupyter-widgets/base",
      "model_module_version": "1.2.0",
      "model_name": "LayoutModel",
      "state": {}
     },
     "e1b1e52aed6542e48854baf1cc8f4056": {
      "model_module": "@jupyter-widgets/controls",
      "model_module_version": "1.5.0",
      "model_name": "ButtonModel",
      "state": {
       "description": "Add",
       "layout": "IPY_MODEL_6ace2e9da1c74b0a86ef84a3da5c59c2",
       "style": "IPY_MODEL_6c5c18f636414dac9a0d4d0d49f4da62"
      }
     },
     "ec50bcef0bc246e2815f4fc58136edb9": {
      "model_module": "@jupyter-widgets/controls",
      "model_module_version": "1.5.0",
      "model_name": "ButtonModel",
      "state": {
       "description": "Save",
       "layout": "IPY_MODEL_0e9bbce4c8cb4af5ac7f4210303daa4e",
       "style": "IPY_MODEL_c001f4b7e15741389bee19db8bddac65"
      }
     },
     "ec79dafb2aa64cd7a7eee2f94a3b2c66": {
      "model_module": "@jupyter-widgets/base",
      "model_module_version": "1.2.0",
      "model_name": "LayoutModel",
      "state": {}
     },
     "f9598e7b63a546458ab6a7d4634f9506": {
      "model_module": "@jupyter-widgets/controls",
      "model_module_version": "1.5.0",
      "model_name": "ButtonModel",
      "state": {
       "description": "Save",
       "layout": "IPY_MODEL_1611501f272d4ae1977509bf6bd7fa9a",
       "style": "IPY_MODEL_21db250c61df4dd8bb42ad8dd5d524ad"
      }
     },
     "faae04df75144d9ea04fbdffd4ad55ac": {
      "model_module": "@jupyter-widgets/controls",
      "model_module_version": "1.5.0",
      "model_name": "SelectModel",
      "state": {
       "_options_labels": [
        "Metadata 0",
        "Metadata 4"
       ],
       "description": "Monitored:",
       "index": 0,
       "layout": "IPY_MODEL_059d35707144430b8b2ba0c155f82870",
       "style": "IPY_MODEL_3c2632233cda4b6789ea9c627b5b437d"
      }
     },
     "fe1c2c46595949cfb5f8789fe21da8f7": {
      "model_module": "@jupyter-widgets/base",
      "model_module_version": "1.2.0",
      "model_name": "LayoutModel",
      "state": {}
     }
    },
    "version_major": 2,
    "version_minor": 0
   }
  }
 },
 "nbformat": 4,
 "nbformat_minor": 5
}
