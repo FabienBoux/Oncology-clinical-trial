{
 "cells": [
  {
   "cell_type": "markdown",
   "id": "071e1704-6520-484e-9260-208bbb77cb65",
   "metadata": {},
   "source": [
    "# Randomisation\n",
    "\n",
    "This tab allows to have a look at thje balance between groups. First, you can select the metadata that will be monitored in this tab (list of selected metadata is saved in the config file). Second, the selected metadata are listed in a table and size of subgroups are given. An indicator of balance is given for each metadata, see below for details."
   ]
  },
  {
   "cell_type": "code",
   "execution_count": 1,
   "id": "db257440-ad77-4f04-aa9b-e7d190532f2e",
   "metadata": {
    "jupyter": {
     "source_hidden": true
    },
    "tags": []
   },
   "outputs": [],
   "source": [
    "import sys\n",
    "sys.path.append(\"C:\\\\Users\\\\Fabien Boux\\\\Code\\\\ClinLib\")\n",
    "\n",
    "from clinlib.database import Database\n",
    "database = Database(\"C:\\\\Users\\\\Fabien Boux\\\\Code\\\\Oncology-clinical-trial\\\\data\\\\dummy\", idlength=3)\n",
    "database.add_resource({'metadata': \"C:\\\\Users\\\\Fabien Boux\\\\Code\\\\Oncology-clinical-trial\\\\data\\\\dummy\\\\metadata.xlsx\"})\n",
    "\n",
    "from functions.config import Config\n",
    "\n",
    "config = Config()\n",
    "config.read()    "
   ]
  },
  {
   "cell_type": "code",
   "execution_count": 2,
   "id": "59500ba6-e9a0-4f02-8fdb-40d051ebd743",
   "metadata": {
    "jupyter": {
     "source_hidden": true
    },
    "tags": []
   },
   "outputs": [
    {
     "data": {
      "application/vnd.jupyter.widget-view+json": {
       "model_id": "67b2b9d03d1e45289290a4bffc0add6d",
       "version_major": 2,
       "version_minor": 0
      },
      "text/plain": [
       "HBox(children=(Select(description='Metadata:', options=('Metadata 0', 'Metadata 1', 'Metadata 2', 'Metadata 3'…"
      ]
     },
     "metadata": {},
     "output_type": "display_data"
    }
   ],
   "source": [
    "import ipywidgets as widgets\n",
    "\n",
    "if config.is_key('list_metadata'):\n",
    "    list_metadata = config.get_value('list_metadata')\n",
    "else:\n",
    "    list_metadata = config.extract_config_values('list_metadata')\n",
    "    config.write()\n",
    "    \n",
    "if config.is_key('monitored_metadata'):\n",
    "    list_selected = config.get_value('monitored_metadata')\n",
    "else:\n",
    "    list_selected = list_metadata[:1]\n",
    "\n",
    "all_metadata = widgets.Select(\n",
    "    options=list_metadata,\n",
    "    value=list_metadata[0],\n",
    "    description='Metadata:',\n",
    "    disabled=False\n",
    ")\n",
    "\n",
    "selected_metadata = widgets.Select(\n",
    "    options=list_selected,\n",
    "    value=list_selected[0],\n",
    "    description='Monitored:',\n",
    "    disabled=False\n",
    ")\n",
    "\n",
    "def on_button_add_clicked(var):\n",
    "    if all_metadata.value not in list_selected:\n",
    "        list_selected.append(all_metadata.value)\n",
    "        list_selected.sort()\n",
    "        selected_metadata.options = list_selected\n",
    "\n",
    "def on_button_remove_clicked(var):\n",
    "    list_selected.remove(selected_metadata.value)\n",
    "    selected_metadata.options = list_selected\n",
    "\n",
    "def on_button_save_clicked(var):\n",
    "    config.set_value(list_selected, 'monitored_metadata', section='METADATA')\n",
    "    config.write()\n",
    "    \n",
    "button_add = widgets.Button(description='Add', command=on_button_add_clicked)\n",
    "button_remove = widgets.Button(description='Remove', command=on_button_remove_clicked)\n",
    "button_save = widgets.Button(description='Save', command=on_button_save_clicked)\n",
    "\n",
    "button_add.on_click(on_button_add_clicked)\n",
    "button_remove.on_click(on_button_remove_clicked)\n",
    "button_save.on_click(on_button_save_clicked)\n",
    "\n",
    "widgets.HBox([all_metadata, widgets.VBox([button_add, button_remove, button_save]), selected_metadata])"
   ]
  },
  {
   "cell_type": "markdown",
   "id": "1dbd21bd-7d0b-4c3a-8038-2d986df32727",
   "metadata": {
    "tags": []
   },
   "source": [
    "The next table reports the selected metadata. The indicator of balance is the coefficient of variation (ratio between standard deviation and mean), in range 0-10: subgroups are considered balanced (*green*), around 20 (*orange*): risk of unbalanced, and from 30 and above: subgroups are considered unbalanced (*red*)."
   ]
  },
  {
   "cell_type": "code",
   "execution_count": 17,
   "id": "deafa8a0-7b1c-42f8-9de1-58820f37e0aa",
   "metadata": {
    "jupyter": {
     "source_hidden": true
    },
    "tags": []
   },
   "outputs": [
    {
     "data": {
      "text/html": [
       "<style type=\"text/css\">\n",
       "#T_e2325_row0_col2, #T_e2325_row1_col2, #T_e2325_row2_col2, #T_e2325_row4_col2, #T_e2325_row5_col2, #T_e2325_row7_col2, #T_e2325_row8_col2, #T_e2325_row11_col2 {\n",
       "  background-color: #00e600;\n",
       "  color: #000000;\n",
       "}\n",
       "#T_e2325_row3_col2 {\n",
       "  background-color: #ff8000;\n",
       "  color: #f1f1f1;\n",
       "}\n",
       "#T_e2325_row6_col2 {\n",
       "  background-color: #ada000;\n",
       "  color: #f1f1f1;\n",
       "}\n",
       "#T_e2325_row9_col2 {\n",
       "  background-color: #ff0000;\n",
       "  color: #f1f1f1;\n",
       "}\n",
       "#T_e2325_row10_col2 {\n",
       "  background-color: #40cc00;\n",
       "  color: #000000;\n",
       "}\n",
       "</style>\n",
       "<table id=\"T_e2325_\">\n",
       "  <thead>\n",
       "    <tr>\n",
       "      <th class=\"blank level0\" >&nbsp;</th>\n",
       "      <th class=\"col_heading level0 col0\" >0</th>\n",
       "      <th class=\"col_heading level0 col1\" >1</th>\n",
       "      <th class=\"col_heading level0 col2\" >Balance</th>\n",
       "    </tr>\n",
       "  </thead>\n",
       "  <tbody>\n",
       "    <tr>\n",
       "      <th id=\"T_e2325_level0_row0\" class=\"row_heading level0 row0\" >Metadata 0: 0</th>\n",
       "      <td id=\"T_e2325_row0_col0\" class=\"data row0 col0\" >51</td>\n",
       "      <td id=\"T_e2325_row0_col1\" class=\"data row0 col1\" >44</td>\n",
       "      <td id=\"T_e2325_row0_col2\" class=\"data row0 col2\" >7.4</td>\n",
       "    </tr>\n",
       "    <tr>\n",
       "      <th id=\"T_e2325_level0_row1\" class=\"row_heading level0 row1\" >Metadata 0: 1</th>\n",
       "      <td id=\"T_e2325_row1_col0\" class=\"data row1 col0\" >57</td>\n",
       "      <td id=\"T_e2325_row1_col1\" class=\"data row1 col1\" >48</td>\n",
       "      <td id=\"T_e2325_row1_col2\" class=\"data row1 col2\" >8.6</td>\n",
       "    </tr>\n",
       "    <tr>\n",
       "      <th id=\"T_e2325_level0_row2\" class=\"row_heading level0 row2\" >Metadata 1: 0.00-2.27</th>\n",
       "      <td id=\"T_e2325_row2_col0\" class=\"data row2 col0\" >24</td>\n",
       "      <td id=\"T_e2325_row2_col1\" class=\"data row2 col1\" >26</td>\n",
       "      <td id=\"T_e2325_row2_col2\" class=\"data row2 col2\" >4.0</td>\n",
       "    </tr>\n",
       "    <tr>\n",
       "      <th id=\"T_e2325_level0_row3\" class=\"row_heading level0 row3\" >Metadata 1: 2.27-5.01</th>\n",
       "      <td id=\"T_e2325_row3_col0\" class=\"data row3 col0\" >30</td>\n",
       "      <td id=\"T_e2325_row3_col1\" class=\"data row3 col1\" >20</td>\n",
       "      <td id=\"T_e2325_row3_col2\" class=\"data row3 col2\" >20.0</td>\n",
       "    </tr>\n",
       "    <tr>\n",
       "      <th id=\"T_e2325_level0_row4\" class=\"row_heading level0 row4\" >Metadata 1: 5.01-6.85</th>\n",
       "      <td id=\"T_e2325_row4_col0\" class=\"data row4 col0\" >27</td>\n",
       "      <td id=\"T_e2325_row4_col1\" class=\"data row4 col1\" >23</td>\n",
       "      <td id=\"T_e2325_row4_col2\" class=\"data row4 col2\" >8.0</td>\n",
       "    </tr>\n",
       "    <tr>\n",
       "      <th id=\"T_e2325_level0_row5\" class=\"row_heading level0 row5\" >Metadata 2: 1</th>\n",
       "      <td id=\"T_e2325_row5_col0\" class=\"data row5 col0\" >19</td>\n",
       "      <td id=\"T_e2325_row5_col1\" class=\"data row5 col1\" >21</td>\n",
       "      <td id=\"T_e2325_row5_col2\" class=\"data row5 col2\" >5.0</td>\n",
       "    </tr>\n",
       "    <tr>\n",
       "      <th id=\"T_e2325_level0_row6\" class=\"row_heading level0 row6\" >Metadata 2: 4</th>\n",
       "      <td id=\"T_e2325_row6_col0\" class=\"data row6 col0\" >28</td>\n",
       "      <td id=\"T_e2325_row6_col1\" class=\"data row6 col1\" >20</td>\n",
       "      <td id=\"T_e2325_row6_col2\" class=\"data row6 col2\" >16.7</td>\n",
       "    </tr>\n",
       "    <tr>\n",
       "      <th id=\"T_e2325_level0_row7\" class=\"row_heading level0 row7\" >Metadata 2: 2</th>\n",
       "      <td id=\"T_e2325_row7_col0\" class=\"data row7 col0\" >18</td>\n",
       "      <td id=\"T_e2325_row7_col1\" class=\"data row7 col1\" >21</td>\n",
       "      <td id=\"T_e2325_row7_col2\" class=\"data row7 col2\" >7.7</td>\n",
       "    </tr>\n",
       "    <tr>\n",
       "      <th id=\"T_e2325_level0_row8\" class=\"row_heading level0 row8\" >Metadata 2: 0</th>\n",
       "      <td id=\"T_e2325_row8_col0\" class=\"data row8 col0\" >17</td>\n",
       "      <td id=\"T_e2325_row8_col1\" class=\"data row8 col1\" >19</td>\n",
       "      <td id=\"T_e2325_row8_col2\" class=\"data row8 col2\" >5.6</td>\n",
       "    </tr>\n",
       "    <tr>\n",
       "      <th id=\"T_e2325_level0_row9\" class=\"row_heading level0 row9\" >Metadata 2: 3</th>\n",
       "      <td id=\"T_e2325_row9_col0\" class=\"data row9 col0\" >26</td>\n",
       "      <td id=\"T_e2325_row9_col1\" class=\"data row9 col1\" >11</td>\n",
       "      <td id=\"T_e2325_row9_col2\" class=\"data row9 col2\" >40.5</td>\n",
       "    </tr>\n",
       "    <tr>\n",
       "      <th id=\"T_e2325_level0_row10\" class=\"row_heading level0 row10\" >Metadata 4: 1</th>\n",
       "      <td id=\"T_e2325_row10_col0\" class=\"data row10 col0\" >58</td>\n",
       "      <td id=\"T_e2325_row10_col1\" class=\"data row10 col1\" >45</td>\n",
       "      <td id=\"T_e2325_row10_col2\" class=\"data row10 col2\" >12.6</td>\n",
       "    </tr>\n",
       "    <tr>\n",
       "      <th id=\"T_e2325_level0_row11\" class=\"row_heading level0 row11\" >Metadata 4: 0</th>\n",
       "      <td id=\"T_e2325_row11_col0\" class=\"data row11 col0\" >50</td>\n",
       "      <td id=\"T_e2325_row11_col1\" class=\"data row11 col1\" >47</td>\n",
       "      <td id=\"T_e2325_row11_col2\" class=\"data row11 col2\" >3.1</td>\n",
       "    </tr>\n",
       "  </tbody>\n",
       "</table>\n"
      ],
      "text/plain": [
       "<pandas.io.formats.style.Styler at 0x279042eda90>"
      ]
     },
     "execution_count": 17,
     "metadata": {},
     "output_type": "execute_result"
    }
   ],
   "source": [
    "import pandas as pd\n",
    "import numpy as np\n",
    "\n",
    "metadata = database.get_metadata(which='all')\n",
    "\n",
    "group = metadata['Group']\n",
    "group_labels = group.unique()\n",
    "\n",
    "metadata = metadata[list_selected]\n",
    "\n",
    "df = pd.DataFrame([], columns=group_labels, index=[])\n",
    "for m in list_selected:\n",
    "    if len(metadata[m].unique()) > 10:\n",
    "        labels = [np.quantile(metadata[m], q) for q in [0, 0.25, 0.50, 0.75]]\n",
    "        for i in range(1, len(labels)):\n",
    "            df.loc['{}: {:.2f}-{:.2f}'.format(m, labels[i-1], labels[i])] = [((labels[i-1] <= metadata[m][group == g]) & (metadata[m][group == g] < labels[i])).sum() for g in group_labels]\n",
    "    else:\n",
    "        labels = metadata[m].unique()\n",
    "        for i in labels:\n",
    "            df.loc['{}: {}'.format(m, str(i))] = [(metadata[m][group == g]==i).sum() for g in group_labels]\n",
    "\n",
    "balance = pd.Series([np.nan]*len(df.index), index=df.index)\n",
    "for i in df.index:\n",
    "    if (df.loc[i] > 4).all():\n",
    "        balance[i] = round(100 * df.loc[i].values.std() / df.loc[i].values.mean(), 1)\n",
    "        \n",
    "df.insert(loc=len(df.columns), column='Balance', value=balance)\n",
    "\n",
    "import matplotlib\n",
    "N = 200\n",
    "vals = np.ones((N, 4))\n",
    "vals[:, 0] = np.concatenate((np.linspace(0,1, N//2), np.linspace(1, 1, N//2)), axis=None)\n",
    "vals[:, 1] = np.concatenate((np.linspace(.9, .5, N//2), np.linspace(.5, 0, N//2)), axis=None)\n",
    "vals[:, 2] = np.concatenate((np.linspace(0, 0, N//2), np.linspace(0, 0, N//2)), axis=None)\n",
    "my_cmap = matplotlib.colors.ListedColormap(vals)\n",
    "\n",
    "def make_pretty(styler):\n",
    "    styler.background_gradient(axis=None, vmin=10, vmax=30, cmap=my_cmap)\n",
    "    styler.format(precision=1)\n",
    "    return styler\n",
    "\n",
    "df.style.pipe(make_pretty)\n"
   ]
  }
 ],
 "metadata": {
  "kernelspec": {
   "display_name": "Python 3 (ipykernel)",
   "language": "python",
   "name": "python3"
  },
  "language_info": {
   "codemirror_mode": {
    "name": "ipython",
    "version": 3
   },
   "file_extension": ".py",
   "mimetype": "text/x-python",
   "name": "python",
   "nbconvert_exporter": "python",
   "pygments_lexer": "ipython3",
   "version": "3.9.9"
  },
  "widgets": {
   "application/vnd.jupyter.widget-state+json": {
    "state": {
     "0bc6273a83934ce194110386b48e5a43": {
      "model_module": "@jupyter-widgets/controls",
      "model_module_version": "1.5.0",
      "model_name": "ButtonModel",
      "state": {
       "description": "Add",
       "layout": "IPY_MODEL_1e0dee1c68554d31b243f672ed61b764",
       "style": "IPY_MODEL_fb46ec6248ee4ed5a2d01a1e5e8074ea"
      }
     },
     "1166bd33a19b450485764309110dcdd8": {
      "model_module": "@jupyter-widgets/controls",
      "model_module_version": "1.5.0",
      "model_name": "VBoxModel",
      "state": {
       "children": [
        "IPY_MODEL_0bc6273a83934ce194110386b48e5a43",
        "IPY_MODEL_189eda41e15e43f1a4153de10224fd88",
        "IPY_MODEL_25e18dcb265045ce80de892aea930b70"
       ],
       "layout": "IPY_MODEL_490e343ee347437192cf3c116e8041f9"
      }
     },
     "189eda41e15e43f1a4153de10224fd88": {
      "model_module": "@jupyter-widgets/controls",
      "model_module_version": "1.5.0",
      "model_name": "ButtonModel",
      "state": {
       "description": "Remove",
       "layout": "IPY_MODEL_faa0919bc0b6461f9ff8cc9ef08d5395",
       "style": "IPY_MODEL_cb164a25262547e2a04c5a80e876ef6b"
      }
     },
     "1e0dee1c68554d31b243f672ed61b764": {
      "model_module": "@jupyter-widgets/base",
      "model_module_version": "1.2.0",
      "model_name": "LayoutModel",
      "state": {}
     },
     "25e18dcb265045ce80de892aea930b70": {
      "model_module": "@jupyter-widgets/controls",
      "model_module_version": "1.5.0",
      "model_name": "ButtonModel",
      "state": {
       "description": "Save",
       "layout": "IPY_MODEL_7f33c3fedb084d4aa007f6b8d7c60df1",
       "style": "IPY_MODEL_f46d4988a31e484c8ad81b9f9b932151"
      }
     },
     "3ac5d2722f63402b82f8b243dcf08d73": {
      "model_module": "@jupyter-widgets/controls",
      "model_module_version": "1.5.0",
      "model_name": "SelectModel",
      "state": {
       "_options_labels": [
        "Metadata 0",
        "Metadata 1",
        "Metadata 2",
        "Metadata 3",
        "Metadata 4",
        "Metadata 5",
        "Metadata 6",
        "Metadata 7",
        "Metadata 8",
        "Metadata 9"
       ],
       "description": "Metadata:",
       "index": 0,
       "layout": "IPY_MODEL_b021a52e15494ec5a9301bb7d5f6dd2a",
       "style": "IPY_MODEL_72e20220a6bd4a6294bc664da263de7a"
      }
     },
     "490e343ee347437192cf3c116e8041f9": {
      "model_module": "@jupyter-widgets/base",
      "model_module_version": "1.2.0",
      "model_name": "LayoutModel",
      "state": {}
     },
     "625604ff1e964da698e678e1cdcc108b": {
      "model_module": "@jupyter-widgets/controls",
      "model_module_version": "1.5.0",
      "model_name": "SelectModel",
      "state": {
       "_options_labels": [
        "Metadata 0",
        "Metadata 1",
        "Metadata 2",
        "Metadata 4"
       ],
       "description": "Monitored:",
       "index": 0,
       "layout": "IPY_MODEL_9b7f0343125544a5a153f7f0e5e1a03e",
       "style": "IPY_MODEL_8ece4b28ae244af09b824a1d1cc4fce1"
      }
     },
     "67b2b9d03d1e45289290a4bffc0add6d": {
      "model_module": "@jupyter-widgets/controls",
      "model_module_version": "1.5.0",
      "model_name": "HBoxModel",
      "state": {
       "children": [
        "IPY_MODEL_3ac5d2722f63402b82f8b243dcf08d73",
        "IPY_MODEL_1166bd33a19b450485764309110dcdd8",
        "IPY_MODEL_625604ff1e964da698e678e1cdcc108b"
       ],
       "layout": "IPY_MODEL_83a851d8af494895aaca0bd438ae5c31"
      }
     },
     "72e20220a6bd4a6294bc664da263de7a": {
      "model_module": "@jupyter-widgets/controls",
      "model_module_version": "1.5.0",
      "model_name": "DescriptionStyleModel",
      "state": {
       "description_width": ""
      }
     },
     "7f33c3fedb084d4aa007f6b8d7c60df1": {
      "model_module": "@jupyter-widgets/base",
      "model_module_version": "1.2.0",
      "model_name": "LayoutModel",
      "state": {}
     },
     "83a851d8af494895aaca0bd438ae5c31": {
      "model_module": "@jupyter-widgets/base",
      "model_module_version": "1.2.0",
      "model_name": "LayoutModel",
      "state": {}
     },
     "8ece4b28ae244af09b824a1d1cc4fce1": {
      "model_module": "@jupyter-widgets/controls",
      "model_module_version": "1.5.0",
      "model_name": "DescriptionStyleModel",
      "state": {
       "description_width": ""
      }
     },
     "9b7f0343125544a5a153f7f0e5e1a03e": {
      "model_module": "@jupyter-widgets/base",
      "model_module_version": "1.2.0",
      "model_name": "LayoutModel",
      "state": {}
     },
     "b021a52e15494ec5a9301bb7d5f6dd2a": {
      "model_module": "@jupyter-widgets/base",
      "model_module_version": "1.2.0",
      "model_name": "LayoutModel",
      "state": {}
     },
     "cb164a25262547e2a04c5a80e876ef6b": {
      "model_module": "@jupyter-widgets/controls",
      "model_module_version": "1.5.0",
      "model_name": "ButtonStyleModel",
      "state": {}
     },
     "f46d4988a31e484c8ad81b9f9b932151": {
      "model_module": "@jupyter-widgets/controls",
      "model_module_version": "1.5.0",
      "model_name": "ButtonStyleModel",
      "state": {}
     },
     "faa0919bc0b6461f9ff8cc9ef08d5395": {
      "model_module": "@jupyter-widgets/base",
      "model_module_version": "1.2.0",
      "model_name": "LayoutModel",
      "state": {}
     },
     "fb46ec6248ee4ed5a2d01a1e5e8074ea": {
      "model_module": "@jupyter-widgets/controls",
      "model_module_version": "1.5.0",
      "model_name": "ButtonStyleModel",
      "state": {}
     }
    },
    "version_major": 2,
    "version_minor": 0
   }
  }
 },
 "nbformat": 4,
 "nbformat_minor": 5
}
