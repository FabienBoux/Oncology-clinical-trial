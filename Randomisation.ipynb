{
 "cells": [
  {
   "cell_type": "markdown",
   "id": "071e1704-6520-484e-9260-208bbb77cb65",
   "metadata": {},
   "source": [
    "# Randomisation\n",
    "\n",
    "This tab allows to have a look at the balance between groups and subgroup analyses. First, you can select the metadata that will be monitored in this tab (list of selected metadata is saved in the config file). Second, the selected metadata are listed in a table and size of corresponding subgroups are given. An indicator of balance is also provided for each metadata, see below for details."
   ]
  },
  {
   "cell_type": "code",
   "execution_count": 1,
   "id": "db257440-ad77-4f04-aa9b-e7d190532f2e",
   "metadata": {
    "jupyter": {
     "source_hidden": true
    },
    "tags": []
   },
   "outputs": [],
   "source": [
    "import os\n",
    "import sys\n",
    "sys.path.append(\"C:\\\\Users\\\\Fabien Boux\\\\Code\\\\ClinLib\")\n",
    "\n",
    "from functions.config import Config\n",
    "config = Config()\n",
    "config.read()\n",
    "\n",
    "from clinlib.database import Database\n",
    "database = Database(config.get_value('database', section='PATH'), idlength=3)\n",
    "database.add_resource({'metadata': os.path.join(config.get_value('database', section='PATH'), config.get_value('metadata', section='PATH'))})"
   ]
  },
  {
   "cell_type": "code",
   "execution_count": 2,
   "id": "59500ba6-e9a0-4f02-8fdb-40d051ebd743",
   "metadata": {
    "jupyter": {
     "source_hidden": true
    },
    "tags": []
   },
   "outputs": [
    {
     "data": {
      "application/vnd.jupyter.widget-view+json": {
       "model_id": "35b7c6fd5b2548258ae89acc6cc31739",
       "version_major": 2,
       "version_minor": 0
      },
      "text/plain": [
       "HBox(children=(Select(description='Metadata:', options=('Metadata 0', 'Metadata 1', 'Metadata 2', 'Metadata 3'…"
      ]
     },
     "metadata": {},
     "output_type": "display_data"
    }
   ],
   "source": [
    "import ipywidgets as widgets\n",
    "\n",
    "if config.is_key('list_metadata'):\n",
    "    list_metadata = config.get_value('list_metadata')\n",
    "else:\n",
    "    list_metadata = config.extract_config_values('list_metadata')\n",
    "    config.write()\n",
    "    \n",
    "if config.is_key('monitored_metadata'):\n",
    "    list_selected = config.get_value('monitored_metadata')\n",
    "else:\n",
    "    list_selected = list_metadata[:1]\n",
    "\n",
    "all_metadata = widgets.Select(\n",
    "    options=list_metadata,\n",
    "    value=list_metadata[0],\n",
    "    description='Metadata:',\n",
    "    disabled=False\n",
    ")\n",
    "\n",
    "selected_metadata = widgets.Select(\n",
    "    options=list_selected,\n",
    "    value=list_selected[0],\n",
    "    description='Monitored:',\n",
    "    disabled=False\n",
    ")\n",
    "\n",
    "def on_button_add_clicked(var):\n",
    "    if all_metadata.value not in list_selected:\n",
    "        list_selected.append(all_metadata.value)\n",
    "        list_selected.sort()\n",
    "        selected_metadata.options = list_selected\n",
    "\n",
    "def on_button_remove_clicked(var):\n",
    "    list_selected.remove(selected_metadata.value)\n",
    "    selected_metadata.options = list_selected\n",
    "\n",
    "def on_button_save_clicked(var):\n",
    "    config.set_value(list_selected, 'monitored_metadata', section='METADATA')\n",
    "    config.write()\n",
    "    \n",
    "button_add = widgets.Button(description='Add', command=on_button_add_clicked)\n",
    "button_remove = widgets.Button(description='Remove', command=on_button_remove_clicked)\n",
    "button_save = widgets.Button(description='Save', command=on_button_save_clicked)\n",
    "\n",
    "button_add.on_click(on_button_add_clicked)\n",
    "button_remove.on_click(on_button_remove_clicked)\n",
    "button_save.on_click(on_button_save_clicked)\n",
    "\n",
    "widgets.HBox([all_metadata, widgets.VBox([button_add, button_remove, button_save]), selected_metadata])"
   ]
  },
  {
   "cell_type": "markdown",
   "id": "1dbd21bd-7d0b-4c3a-8038-2d986df32727",
   "metadata": {
    "tags": []
   },
   "source": [
    "## Balance\n",
    "\n",
    "The next table reports the selected metadata. The indicator of balance is the coefficient of variation (ratio between standard deviation and mean), in range 0-10: subgroups are considered balanced (*green*), around 20 (*orange*): risk of unbalancy, and from 30 and above: subgroups are considered unbalanced (*red*)."
   ]
  },
  {
   "cell_type": "code",
   "execution_count": 4,
   "id": "deafa8a0-7b1c-42f8-9de1-58820f37e0aa",
   "metadata": {
    "jupyter": {
     "source_hidden": true
    },
    "tags": []
   },
   "outputs": [
    {
     "data": {
      "text/html": [
       "<style type=\"text/css\">\n",
       "#T_90957_row0_col2, #T_90957_row2_col2, #T_90957_row5_col2, #T_90957_row6_col2, #T_90957_row8_col2 {\n",
       "  background-color: #00e600;\n",
       "  color: #000000;\n",
       "}\n",
       "#T_90957_row1_col2 {\n",
       "  background-color: #76b600;\n",
       "  color: #f1f1f1;\n",
       "}\n",
       "#T_90957_row3_col2 {\n",
       "  background-color: #ff4600;\n",
       "  color: #f1f1f1;\n",
       "}\n",
       "#T_90957_row4_col2 {\n",
       "  background-color: #ff2400;\n",
       "  color: #f1f1f1;\n",
       "}\n",
       "#T_90957_row7_col2 {\n",
       "  background-color: #ff1800;\n",
       "  color: #f1f1f1;\n",
       "}\n",
       "</style>\n",
       "<table id=\"T_90957_\">\n",
       "  <thead>\n",
       "    <tr>\n",
       "      <th class=\"blank level0\" >&nbsp;</th>\n",
       "      <th class=\"col_heading level0 col0\" >0</th>\n",
       "      <th class=\"col_heading level0 col1\" >1</th>\n",
       "      <th class=\"col_heading level0 col2\" >Balance</th>\n",
       "    </tr>\n",
       "  </thead>\n",
       "  <tbody>\n",
       "    <tr>\n",
       "      <th id=\"T_90957_level0_row0\" class=\"row_heading level0 row0\" >Metadata 0: 0</th>\n",
       "      <td id=\"T_90957_row0_col0\" class=\"data row0 col0\" >49</td>\n",
       "      <td id=\"T_90957_row0_col1\" class=\"data row0 col1\" >48</td>\n",
       "      <td id=\"T_90957_row0_col2\" class=\"data row0 col2\" >1.0</td>\n",
       "    </tr>\n",
       "    <tr>\n",
       "      <th id=\"T_90957_level0_row1\" class=\"row_heading level0 row1\" >Metadata 0: 1</th>\n",
       "      <td id=\"T_90957_row1_col0\" class=\"data row1 col0\" >59</td>\n",
       "      <td id=\"T_90957_row1_col1\" class=\"data row1 col1\" >44</td>\n",
       "      <td id=\"T_90957_row1_col2\" class=\"data row1 col2\" >14.6</td>\n",
       "    </tr>\n",
       "    <tr>\n",
       "      <th id=\"T_90957_level0_row2\" class=\"row_heading level0 row2\" >Metadata 1: 0</th>\n",
       "      <td id=\"T_90957_row2_col0\" class=\"data row2 col0\" >47</td>\n",
       "      <td id=\"T_90957_row2_col1\" class=\"data row2 col1\" >55</td>\n",
       "      <td id=\"T_90957_row2_col2\" class=\"data row2 col2\" >7.8</td>\n",
       "    </tr>\n",
       "    <tr>\n",
       "      <th id=\"T_90957_level0_row3\" class=\"row_heading level0 row3\" >Metadata 1: 1</th>\n",
       "      <td id=\"T_90957_row3_col0\" class=\"data row3 col0\" >61</td>\n",
       "      <td id=\"T_90957_row3_col1\" class=\"data row3 col1\" >37</td>\n",
       "      <td id=\"T_90957_row3_col2\" class=\"data row3 col2\" >24.5</td>\n",
       "    </tr>\n",
       "    <tr>\n",
       "      <th id=\"T_90957_level0_row4\" class=\"row_heading level0 row4\" >Metadata 4: 1</th>\n",
       "      <td id=\"T_90957_row4_col0\" class=\"data row4 col0\" >61</td>\n",
       "      <td id=\"T_90957_row4_col1\" class=\"data row4 col1\" >35</td>\n",
       "      <td id=\"T_90957_row4_col2\" class=\"data row4 col2\" >27.1</td>\n",
       "    </tr>\n",
       "    <tr>\n",
       "      <th id=\"T_90957_level0_row5\" class=\"row_heading level0 row5\" >Metadata 4: 0</th>\n",
       "      <td id=\"T_90957_row5_col0\" class=\"data row5 col0\" >47</td>\n",
       "      <td id=\"T_90957_row5_col1\" class=\"data row5 col1\" >57</td>\n",
       "      <td id=\"T_90957_row5_col2\" class=\"data row5 col2\" >9.6</td>\n",
       "    </tr>\n",
       "    <tr>\n",
       "      <th id=\"T_90957_level0_row6\" class=\"row_heading level0 row6\" >Metadata 8: 0.01-0.26</th>\n",
       "      <td id=\"T_90957_row6_col0\" class=\"data row6 col0\" >24</td>\n",
       "      <td id=\"T_90957_row6_col1\" class=\"data row6 col1\" >26</td>\n",
       "      <td id=\"T_90957_row6_col2\" class=\"data row6 col2\" >4.0</td>\n",
       "    </tr>\n",
       "    <tr>\n",
       "      <th id=\"T_90957_level0_row7\" class=\"row_heading level0 row7\" >Metadata 8: 0.26-0.52</th>\n",
       "      <td id=\"T_90957_row7_col0\" class=\"data row7 col0\" >32</td>\n",
       "      <td id=\"T_90957_row7_col1\" class=\"data row7 col1\" >18</td>\n",
       "      <td id=\"T_90957_row7_col2\" class=\"data row7 col2\" >28.0</td>\n",
       "    </tr>\n",
       "    <tr>\n",
       "      <th id=\"T_90957_level0_row8\" class=\"row_heading level0 row8\" >Metadata 8: 0.52-0.72</th>\n",
       "      <td id=\"T_90957_row8_col0\" class=\"data row8 col0\" >25</td>\n",
       "      <td id=\"T_90957_row8_col1\" class=\"data row8 col1\" >25</td>\n",
       "      <td id=\"T_90957_row8_col2\" class=\"data row8 col2\" >0.0</td>\n",
       "    </tr>\n",
       "  </tbody>\n",
       "</table>\n"
      ],
      "text/plain": [
       "<pandas.io.formats.style.Styler at 0x1b0bf9c8400>"
      ]
     },
     "execution_count": 4,
     "metadata": {},
     "output_type": "execute_result"
    }
   ],
   "source": [
    "import pandas as pd\n",
    "import numpy as np\n",
    "\n",
    "metadata = database.get_metadata(which='all')\n",
    "\n",
    "group = metadata['Group']\n",
    "group_labels = group.unique()\n",
    "\n",
    "metadata = metadata[list_selected]\n",
    "\n",
    "df = pd.DataFrame([], columns=group_labels, index=[])\n",
    "for m in list_selected:\n",
    "    if len(metadata[m].unique()) > 10:\n",
    "        labels = [np.quantile(metadata[m], q) for q in [0, 0.25, 0.50, 0.75]]\n",
    "        for i in range(1, len(labels)):\n",
    "            df.loc['{}: {:.2f}-{:.2f}'.format(m, labels[i-1], labels[i])] = [((labels[i-1] <= metadata[m][group == g]) & (metadata[m][group == g] < labels[i])).sum() for g in group_labels]\n",
    "    else:\n",
    "        labels = metadata[m].unique()\n",
    "        for i in labels:\n",
    "            df.loc['{}: {}'.format(m, str(i))] = [(metadata[m][group == g]==i).sum() for g in group_labels]\n",
    "\n",
    "balance = pd.Series([np.nan]*len(df.index), index=df.index)\n",
    "for i in df.index:\n",
    "    if (df.loc[i] > 4).all():\n",
    "        balance[i] = round(100 * df.loc[i].values.std() / df.loc[i].values.mean(), 1)\n",
    "        \n",
    "df.insert(loc=len(df.columns), column='Balance', value=balance)\n",
    "\n",
    "import matplotlib\n",
    "N = 200\n",
    "vals = np.ones((N, 4))\n",
    "vals[:, 0] = np.concatenate((np.linspace(0,1, N//2), np.linspace(1, 1, N//2)), axis=None)\n",
    "vals[:, 1] = np.concatenate((np.linspace(.9, .5, N//2), np.linspace(.5, 0, N//2)), axis=None)\n",
    "vals[:, 2] = np.concatenate((np.linspace(0, 0, N//2), np.linspace(0, 0, N//2)), axis=None)\n",
    "my_cmap = matplotlib.colors.ListedColormap(vals)\n",
    "\n",
    "def make_pretty(styler):\n",
    "    styler.background_gradient(axis=None, vmin=10, vmax=30, cmap=my_cmap)\n",
    "    styler.format(precision=1)\n",
    "    return styler\n",
    "\n",
    "df.style.pipe(make_pretty)\n"
   ]
  },
  {
   "cell_type": "markdown",
   "id": "bb77a680-5762-428f-89c2-da546e3539ad",
   "metadata": {},
   "source": [
    "## Subgroup analysis\n",
    "\n",
    "The next graph is a *forest plot*. This figure is used to easily account for benefit in specific subgroups. The benefit can be investigated using different metrics: risk ratio, hazard ratio, or median event time. For each line (each subgroup), the metric chosen is providen (*mark*) with a confidence index (*line*) and the benefit is in favor of the first group (respectivelly, the second group) if the mark is positionned to the right (respectivelly, to the left) of the line \"no effect\". This interpretation is valid for an event related to treatment, for survival analysis invert right and left."
   ]
  },
  {
   "cell_type": "code",
   "execution_count": 5,
   "id": "4723eaed-be5c-4c9e-9769-ac5bd6aa2322",
   "metadata": {
    "jupyter": {
     "source_hidden": true
    },
    "tags": []
   },
   "outputs": [
    {
     "data": {
      "application/vnd.jupyter.widget-view+json": {
       "model_id": "031fa9cec531473897d6b7dcec2e6b8b",
       "version_major": 2,
       "version_minor": 0
      },
      "text/plain": [
       "interactive(children=(Dropdown(description='Criteria', options=('Hazard ratio', 'Risk ratio', 'Median event ti…"
      ]
     },
     "metadata": {},
     "output_type": "display_data"
    }
   ],
   "source": [
    "from ipywidgets import interactive\n",
    "from functions.graph import forest_plot\n",
    "\n",
    "# w = widgets.RadioButtons(\n",
    "#     options=['pepperoni', 'pineapple', 'anchovies'],\n",
    "# #    value='pineapple', # Defaults to 'pineapple'\n",
    "# #    layout={'width': 'max-content'}, # If the items' names are long\n",
    "#     description='Pizza topping:',\n",
    "#     disabled=False\n",
    "# )\n",
    "\n",
    "def plot_forest(Criteria='Hazard ratio'):\n",
    "    forest_plot(database, list_selected)\n",
    "    \n",
    "import ipywidgets as widgets\n",
    "from ipywidgets import interactive\n",
    "\n",
    "interactive(plot_forest, Criteria=['Hazard ratio', 'Risk ratio', 'Median event time'])"
   ]
  }
 ],
 "metadata": {
  "kernelspec": {
   "display_name": "Python 3 (ipykernel)",
   "language": "python",
   "name": "python3"
  },
  "language_info": {
   "codemirror_mode": {
    "name": "ipython",
    "version": 3
   },
   "file_extension": ".py",
   "mimetype": "text/x-python",
   "name": "python",
   "nbconvert_exporter": "python",
   "pygments_lexer": "ipython3",
   "version": "3.9.9"
  },
  "widgets": {
   "application/vnd.jupyter.widget-state+json": {
    "state": {
     "031fa9cec531473897d6b7dcec2e6b8b": {
      "model_module": "@jupyter-widgets/controls",
      "model_module_version": "1.5.0",
      "model_name": "VBoxModel",
      "state": {
       "_dom_classes": [
        "widget-interact"
       ],
       "children": [
        "IPY_MODEL_9ee7744d16fc40f4b4dfef5159540457",
        "IPY_MODEL_f06152ea17564e0c9dc5c7a6aec32b8b"
       ],
       "layout": "IPY_MODEL_9c5180c560b8489aa104f3bb3fc419df"
      }
     },
     "0d32cc2e23ec446f9a2eb80792dfb578": {
      "model_module": "@jupyter-widgets/controls",
      "model_module_version": "1.5.0",
      "model_name": "DescriptionStyleModel",
      "state": {
       "description_width": ""
      }
     },
     "1c80c99cbd0249229dc51502b6740705": {
      "model_module": "@jupyter-widgets/controls",
      "model_module_version": "1.5.0",
      "model_name": "SelectModel",
      "state": {
       "_options_labels": [
        "Metadata 0",
        "Metadata 1",
        "Metadata 4",
        "Metadata 8"
       ],
       "description": "Monitored:",
       "index": 0,
       "layout": "IPY_MODEL_dd098b79b8e345e29f3dd1094f754eb0",
       "style": "IPY_MODEL_a714ffc8b302421b91ada0ee490e181a"
      }
     },
     "1ca6727502174a5a8bef192b66b5d638": {
      "model_module": "@jupyter-widgets/controls",
      "model_module_version": "1.5.0",
      "model_name": "ButtonStyleModel",
      "state": {}
     },
     "2f8ae30dc57842e08a0ee0617003385f": {
      "model_module": "@jupyter-widgets/controls",
      "model_module_version": "1.5.0",
      "model_name": "DescriptionStyleModel",
      "state": {
       "description_width": ""
      }
     },
     "35b7c6fd5b2548258ae89acc6cc31739": {
      "model_module": "@jupyter-widgets/controls",
      "model_module_version": "1.5.0",
      "model_name": "HBoxModel",
      "state": {
       "children": [
        "IPY_MODEL_5814ba1f9d7d4a9a9f1e52290810c78b",
        "IPY_MODEL_aa00e478e0a1491f939992a8992e441d",
        "IPY_MODEL_1c80c99cbd0249229dc51502b6740705"
       ],
       "layout": "IPY_MODEL_d340ec56c8194085bb865f106c2253eb"
      }
     },
     "3d9c3f71b6214bb28c1a10d3056915c2": {
      "model_module": "@jupyter-widgets/controls",
      "model_module_version": "1.5.0",
      "model_name": "ButtonStyleModel",
      "state": {}
     },
     "40cf921e4c0247669551c777ad5f53fd": {
      "model_module": "@jupyter-widgets/base",
      "model_module_version": "1.2.0",
      "model_name": "LayoutModel",
      "state": {}
     },
     "4719a1976d34458c82e6fdeb2cb376f7": {
      "model_module": "@jupyter-widgets/base",
      "model_module_version": "1.2.0",
      "model_name": "LayoutModel",
      "state": {}
     },
     "5654a803899f42e8837a4100952e21a9": {
      "model_module": "@jupyter-widgets/controls",
      "model_module_version": "1.5.0",
      "model_name": "ButtonStyleModel",
      "state": {}
     },
     "5814ba1f9d7d4a9a9f1e52290810c78b": {
      "model_module": "@jupyter-widgets/controls",
      "model_module_version": "1.5.0",
      "model_name": "SelectModel",
      "state": {
       "_options_labels": [
        "Metadata 0",
        "Metadata 1",
        "Metadata 2",
        "Metadata 3",
        "Metadata 4",
        "Metadata 5",
        "Metadata 6",
        "Metadata 7",
        "Metadata 8",
        "Metadata 9"
       ],
       "description": "Metadata:",
       "index": 0,
       "layout": "IPY_MODEL_73b746db44a54fa9b57e5a4b01b3fa09",
       "style": "IPY_MODEL_2f8ae30dc57842e08a0ee0617003385f"
      }
     },
     "73b746db44a54fa9b57e5a4b01b3fa09": {
      "model_module": "@jupyter-widgets/base",
      "model_module_version": "1.2.0",
      "model_name": "LayoutModel",
      "state": {}
     },
     "7d4f424428dc4adf893bfee4cd1594ee": {
      "model_module": "@jupyter-widgets/controls",
      "model_module_version": "1.5.0",
      "model_name": "ButtonModel",
      "state": {
       "description": "Save",
       "layout": "IPY_MODEL_b99d68cea0e44826a18a331208b414ce",
       "style": "IPY_MODEL_3d9c3f71b6214bb28c1a10d3056915c2"
      }
     },
     "91ef3fe51cf843c193e6639ae772c492": {
      "model_module": "@jupyter-widgets/controls",
      "model_module_version": "1.5.0",
      "model_name": "ButtonModel",
      "state": {
       "description": "Add",
       "layout": "IPY_MODEL_40cf921e4c0247669551c777ad5f53fd",
       "style": "IPY_MODEL_1ca6727502174a5a8bef192b66b5d638"
      }
     },
     "9c5180c560b8489aa104f3bb3fc419df": {
      "model_module": "@jupyter-widgets/base",
      "model_module_version": "1.2.0",
      "model_name": "LayoutModel",
      "state": {}
     },
     "9ee7744d16fc40f4b4dfef5159540457": {
      "model_module": "@jupyter-widgets/controls",
      "model_module_version": "1.5.0",
      "model_name": "DropdownModel",
      "state": {
       "_options_labels": [
        "Hazard ratio",
        "Risk ratio",
        "Median event time"
       ],
       "description": "Criteria",
       "index": 0,
       "layout": "IPY_MODEL_4719a1976d34458c82e6fdeb2cb376f7",
       "style": "IPY_MODEL_0d32cc2e23ec446f9a2eb80792dfb578"
      }
     },
     "a714ffc8b302421b91ada0ee490e181a": {
      "model_module": "@jupyter-widgets/controls",
      "model_module_version": "1.5.0",
      "model_name": "DescriptionStyleModel",
      "state": {
       "description_width": ""
      }
     },
     "aa00e478e0a1491f939992a8992e441d": {
      "model_module": "@jupyter-widgets/controls",
      "model_module_version": "1.5.0",
      "model_name": "VBoxModel",
      "state": {
       "children": [
        "IPY_MODEL_91ef3fe51cf843c193e6639ae772c492",
        "IPY_MODEL_d2941cb4cc6e4ec8b48dba1e0c369b54",
        "IPY_MODEL_7d4f424428dc4adf893bfee4cd1594ee"
       ],
       "layout": "IPY_MODEL_f9a5982f34874e7cb04c3cdd99dac5b5"
      }
     },
     "b99d68cea0e44826a18a331208b414ce": {
      "model_module": "@jupyter-widgets/base",
      "model_module_version": "1.2.0",
      "model_name": "LayoutModel",
      "state": {}
     },
     "d2941cb4cc6e4ec8b48dba1e0c369b54": {
      "model_module": "@jupyter-widgets/controls",
      "model_module_version": "1.5.0",
      "model_name": "ButtonModel",
      "state": {
       "description": "Remove",
       "layout": "IPY_MODEL_faca33913edf47ea8e56602227a5455c",
       "style": "IPY_MODEL_5654a803899f42e8837a4100952e21a9"
      }
     },
     "d340ec56c8194085bb865f106c2253eb": {
      "model_module": "@jupyter-widgets/base",
      "model_module_version": "1.2.0",
      "model_name": "LayoutModel",
      "state": {}
     },
     "dc96a4a48f5a41e498e1fb8c7c50f28d": {
      "model_module": "@jupyter-widgets/base",
      "model_module_version": "1.2.0",
      "model_name": "LayoutModel",
      "state": {}
     },
     "dd098b79b8e345e29f3dd1094f754eb0": {
      "model_module": "@jupyter-widgets/base",
      "model_module_version": "1.2.0",
      "model_name": "LayoutModel",
      "state": {}
     },
     "f06152ea17564e0c9dc5c7a6aec32b8b": {
      "model_module": "@jupyter-widgets/output",
      "model_module_version": "1.0.0",
      "model_name": "OutputModel",
      "state": {
       "layout": "IPY_MODEL_dc96a4a48f5a41e498e1fb8c7c50f28d",
       "outputs": [
        {
         "name": "stderr",
         "output_type": "stream",
         "text": "C:\\ProgramData\\Anaconda3\\envs\\NanoRad\\lib\\site-packages\\pandas\\core\\indexing.py:1732: SettingWithCopyWarning: \nA value is trying to be set on a copy of a slice from a DataFrame\n\nSee the caveats in the documentation: https://pandas.pydata.org/pandas-docs/stable/user_guide/indexing.html#returning-a-view-versus-a-copy\n  self._setitem_single_block(indexer, value, name)\n"
        },
        {
         "data": {
          "image/png": "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\n",
          "text/plain": "<Figure size 504x216 with 2 Axes>"
         },
         "metadata": {
          "needs_background": "light"
         },
         "output_type": "display_data"
        }
       ]
      }
     },
     "f9a5982f34874e7cb04c3cdd99dac5b5": {
      "model_module": "@jupyter-widgets/base",
      "model_module_version": "1.2.0",
      "model_name": "LayoutModel",
      "state": {}
     },
     "faca33913edf47ea8e56602227a5455c": {
      "model_module": "@jupyter-widgets/base",
      "model_module_version": "1.2.0",
      "model_name": "LayoutModel",
      "state": {}
     }
    },
    "version_major": 2,
    "version_minor": 0
   }
  }
 },
 "nbformat": 4,
 "nbformat_minor": 5
}
