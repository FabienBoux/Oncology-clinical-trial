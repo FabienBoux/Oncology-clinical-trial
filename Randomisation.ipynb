{
 "cells": [
  {
   "cell_type": "markdown",
   "id": "071e1704-6520-484e-9260-208bbb77cb65",
   "metadata": {},
   "source": [
    "# Randomisation\n",
    "\n",
    "This tab allows to control the balance between groups and to perform subgroup analyses. First, you can select the metadata that will be monitored in this tab (list of selected metadata is saved in the config file). Second, the selected metadata are listed in a table and size of corresponding subgroups are given. An indicator of balance is also provided for each metadata, see below for details."
   ]
  },
  {
   "cell_type": "code",
   "execution_count": 1,
   "id": "523e8ad9-6e13-41a4-9537-02662e01aa8e",
   "metadata": {
    "jupyter": {
     "source_hidden": true
    },
    "tags": []
   },
   "outputs": [],
   "source": [
    "import os\n",
    "import sys\n",
    "sys.path.append(\"C:\\\\Users\\\\Fabien Boux\\\\Code\\\\ClinLib\")\n",
    "\n",
    "from functions.config import Config\n",
    "config = Config('real.ini')\n",
    "config.read()\n",
    "\n",
    "from clinlib.database import Database\n",
    "database = Database(config.get_value('database', section='PATH'), idlength=3)\n",
    "database.add_resource({'metadata': os.path.join(config.get_value('database', section='PATH'), config.get_value('metadata', section='PATH'))})"
   ]
  },
  {
   "cell_type": "code",
   "execution_count": 2,
   "id": "59500ba6-e9a0-4f02-8fdb-40d051ebd743",
   "metadata": {
    "jupyter": {
     "source_hidden": true
    },
    "tags": []
   },
   "outputs": [
    {
     "data": {
      "application/vnd.jupyter.widget-view+json": {
       "model_id": "af48451109154655ae643f81f464a7a0",
       "version_major": 2,
       "version_minor": 0
      },
      "text/plain": [
       "HBox(children=(Select(description='Metadata:', options=('Study', 'Center', 'ECOG PS', 'Gender', 'Birth date', …"
      ]
     },
     "metadata": {},
     "output_type": "display_data"
    }
   ],
   "source": [
    "import ipywidgets as widgets\n",
    "\n",
    "if config.is_key('list_metadata'):\n",
    "    list_metadata = config.get_value('list_metadata')\n",
    "else:\n",
    "    list_metadata = config.extract_config_values('list_metadata')\n",
    "    config.write()\n",
    "    \n",
    "if config.is_key('monitored_metadata'):\n",
    "    list_selected = config.get_value('monitored_metadata')\n",
    "else:\n",
    "    list_selected = list_metadata[:1]\n",
    "\n",
    "all_metadata = widgets.Select(\n",
    "    options=list_metadata,\n",
    "    value=list_metadata[0],\n",
    "    description='Metadata:',\n",
    "    disabled=False\n",
    ")\n",
    "\n",
    "selected_metadata = widgets.Select(\n",
    "    options=list_selected,\n",
    "    value=list_selected[0],\n",
    "    description='Monitored:',\n",
    "    disabled=False\n",
    ")\n",
    "\n",
    "def on_button_add_clicked(var):\n",
    "    if all_metadata.value not in list_selected:\n",
    "        list_selected.append(all_metadata.value)\n",
    "        list_selected.sort()\n",
    "        selected_metadata.options = list_selected\n",
    "\n",
    "def on_button_remove_clicked(var):\n",
    "    list_selected.remove(selected_metadata.value)\n",
    "    selected_metadata.options = list_selected\n",
    "\n",
    "def on_button_save_clicked(var):\n",
    "    config.set_value(list_selected, 'monitored_metadata', section='METADATA')\n",
    "    config.write()\n",
    "    \n",
    "button_add = widgets.Button(description='Add', command=on_button_add_clicked)\n",
    "button_remove = widgets.Button(description='Remove', command=on_button_remove_clicked)\n",
    "button_save = widgets.Button(description='Save', command=on_button_save_clicked)\n",
    "\n",
    "button_add.on_click(on_button_add_clicked)\n",
    "button_remove.on_click(on_button_remove_clicked)\n",
    "button_save.on_click(on_button_save_clicked)\n",
    "\n",
    "widgets.HBox([all_metadata, widgets.VBox([button_add, button_remove, button_save]), selected_metadata])"
   ]
  },
  {
   "cell_type": "markdown",
   "id": "1dbd21bd-7d0b-4c3a-8038-2d986df32727",
   "metadata": {
    "tags": []
   },
   "source": [
    "## Balance\n",
    "\n",
    "The next table reports the selected metadata. The indicator of balance is the coefficient of variation (ratio between standard deviation and mean):\n",
    "- in range 0-10% (*green*): subgroups are considered balanced,\n",
    "- around 20% (*orange*): risk of unbalancy (< 20% low risk and > 20% high risk),\n",
    "- and from 30% and above (*red*): subgroups are considered unbalanced."
   ]
  },
  {
   "cell_type": "code",
   "execution_count": 3,
   "id": "deafa8a0-7b1c-42f8-9de1-58820f37e0aa",
   "metadata": {
    "jupyter": {
     "source_hidden": true
    },
    "scrolled": false,
    "tags": []
   },
   "outputs": [
    {
     "data": {
      "text/html": [
       "<style type=\"text/css\">\n",
       "#T_713a0_row0_col2, #T_713a0_row4_col2, #T_713a0_row5_col2, #T_713a0_row6_col2, #T_713a0_row7_col2, #T_713a0_row8_col2, #T_713a0_row9_col2, #T_713a0_row10_col2, #T_713a0_row11_col2, #T_713a0_row12_col2, #T_713a0_row13_col2, #T_713a0_row15_col2 {\n",
       "  background-color: #000000;\n",
       "  color: #f1f1f1;\n",
       "}\n",
       "#T_713a0_row1_col2, #T_713a0_row2_col2, #T_713a0_row3_col2, #T_713a0_row16_col2, #T_713a0_row19_col2, #T_713a0_row20_col2, #T_713a0_row21_col2, #T_713a0_row22_col2, #T_713a0_row23_col2 {\n",
       "  background-color: #00e600;\n",
       "  color: #000000;\n",
       "}\n",
       "#T_713a0_row14_col2 {\n",
       "  background-color: #1adb00;\n",
       "  color: #000000;\n",
       "}\n",
       "#T_713a0_row17_col2 {\n",
       "  background-color: #db8e00;\n",
       "  color: #f1f1f1;\n",
       "}\n",
       "#T_713a0_row18_col2 {\n",
       "  background-color: #40cc00;\n",
       "  color: #000000;\n",
       "}\n",
       "</style>\n",
       "<table id=\"T_713a0\">\n",
       "  <thead>\n",
       "    <tr>\n",
       "      <th class=\"blank level0\" >&nbsp;</th>\n",
       "      <th id=\"T_713a0_level0_col0\" class=\"col_heading level0 col0\" >AGuIX</th>\n",
       "      <th id=\"T_713a0_level0_col1\" class=\"col_heading level0 col1\" >WBRT</th>\n",
       "      <th id=\"T_713a0_level0_col2\" class=\"col_heading level0 col2\" >Balance</th>\n",
       "    </tr>\n",
       "  </thead>\n",
       "  <tbody>\n",
       "    <tr>\n",
       "      <th id=\"T_713a0_level0_row0\" class=\"row_heading level0 row0\" >Age: -19664.00-19915.00</th>\n",
       "      <td id=\"T_713a0_row0_col0\" class=\"data row0 col0\" >8</td>\n",
       "      <td id=\"T_713a0_row0_col1\" class=\"data row0 col1\" >3</td>\n",
       "      <td id=\"T_713a0_row0_col2\" class=\"data row0 col2\" >nan</td>\n",
       "    </tr>\n",
       "    <tr>\n",
       "      <th id=\"T_713a0_level0_row1\" class=\"row_heading level0 row1\" >Age: 19915.00-22884.00</th>\n",
       "      <td id=\"T_713a0_row1_col0\" class=\"data row1 col0\" >6</td>\n",
       "      <td id=\"T_713a0_row1_col1\" class=\"data row1 col1\" >7</td>\n",
       "      <td id=\"T_713a0_row1_col2\" class=\"data row1 col2\" >7.7</td>\n",
       "    </tr>\n",
       "    <tr>\n",
       "      <th id=\"T_713a0_level0_row2\" class=\"row_heading level0 row2\" >Age: 22884.00-24665.00</th>\n",
       "      <td id=\"T_713a0_row2_col0\" class=\"data row2 col0\" >6</td>\n",
       "      <td id=\"T_713a0_row2_col1\" class=\"data row2 col1\" >7</td>\n",
       "      <td id=\"T_713a0_row2_col2\" class=\"data row2 col2\" >7.7</td>\n",
       "    </tr>\n",
       "    <tr>\n",
       "      <th id=\"T_713a0_level0_row3\" class=\"row_heading level0 row3\" >Cancer type: Lung</th>\n",
       "      <td id=\"T_713a0_row3_col0\" class=\"data row3 col0\" >18</td>\n",
       "      <td id=\"T_713a0_row3_col1\" class=\"data row3 col1\" >16</td>\n",
       "      <td id=\"T_713a0_row3_col2\" class=\"data row3 col2\" >5.9</td>\n",
       "    </tr>\n",
       "    <tr>\n",
       "      <th id=\"T_713a0_level0_row4\" class=\"row_heading level0 row4\" >Cancer type: Kidney</th>\n",
       "      <td id=\"T_713a0_row4_col0\" class=\"data row4 col0\" >2</td>\n",
       "      <td id=\"T_713a0_row4_col1\" class=\"data row4 col1\" >2</td>\n",
       "      <td id=\"T_713a0_row4_col2\" class=\"data row4 col2\" >nan</td>\n",
       "    </tr>\n",
       "    <tr>\n",
       "      <th id=\"T_713a0_level0_row5\" class=\"row_heading level0 row5\" >Cancer type: Oesophagus/cardio</th>\n",
       "      <td id=\"T_713a0_row5_col0\" class=\"data row5 col0\" >0</td>\n",
       "      <td id=\"T_713a0_row5_col1\" class=\"data row5 col1\" >1</td>\n",
       "      <td id=\"T_713a0_row5_col2\" class=\"data row5 col2\" >nan</td>\n",
       "    </tr>\n",
       "    <tr>\n",
       "      <th id=\"T_713a0_level0_row6\" class=\"row_heading level0 row6\" >Cancer type: Melanoma</th>\n",
       "      <td id=\"T_713a0_row6_col0\" class=\"data row6 col0\" >3</td>\n",
       "      <td id=\"T_713a0_row6_col1\" class=\"data row6 col1\" >2</td>\n",
       "      <td id=\"T_713a0_row6_col2\" class=\"data row6 col2\" >nan</td>\n",
       "    </tr>\n",
       "    <tr>\n",
       "      <th id=\"T_713a0_level0_row7\" class=\"row_heading level0 row7\" >Cancer type: Pelvic</th>\n",
       "      <td id=\"T_713a0_row7_col0\" class=\"data row7 col0\" >0</td>\n",
       "      <td id=\"T_713a0_row7_col1\" class=\"data row7 col1\" >1</td>\n",
       "      <td id=\"T_713a0_row7_col2\" class=\"data row7 col2\" >nan</td>\n",
       "    </tr>\n",
       "    <tr>\n",
       "      <th id=\"T_713a0_level0_row8\" class=\"row_heading level0 row8\" >Cancer type: Lung </th>\n",
       "      <td id=\"T_713a0_row8_col0\" class=\"data row8 col0\" >0</td>\n",
       "      <td id=\"T_713a0_row8_col1\" class=\"data row8 col1\" >0</td>\n",
       "      <td id=\"T_713a0_row8_col2\" class=\"data row8 col2\" >nan</td>\n",
       "    </tr>\n",
       "    <tr>\n",
       "      <th id=\"T_713a0_level0_row9\" class=\"row_heading level0 row9\" >Cancer type: Ovary</th>\n",
       "      <td id=\"T_713a0_row9_col0\" class=\"data row9 col0\" >0</td>\n",
       "      <td id=\"T_713a0_row9_col1\" class=\"data row9 col1\" >1</td>\n",
       "      <td id=\"T_713a0_row9_col2\" class=\"data row9 col2\" >nan</td>\n",
       "    </tr>\n",
       "    <tr>\n",
       "      <th id=\"T_713a0_level0_row10\" class=\"row_heading level0 row10\" >Cancer type: Uterine endocervix </th>\n",
       "      <td id=\"T_713a0_row10_col0\" class=\"data row10 col0\" >1</td>\n",
       "      <td id=\"T_713a0_row10_col1\" class=\"data row10 col1\" >0</td>\n",
       "      <td id=\"T_713a0_row10_col2\" class=\"data row10 col2\" >nan</td>\n",
       "    </tr>\n",
       "    <tr>\n",
       "      <th id=\"T_713a0_level0_row11\" class=\"row_heading level0 row11\" >Cancer type: Pancreas</th>\n",
       "      <td id=\"T_713a0_row11_col0\" class=\"data row11 col0\" >1</td>\n",
       "      <td id=\"T_713a0_row11_col1\" class=\"data row11 col1\" >0</td>\n",
       "      <td id=\"T_713a0_row11_col2\" class=\"data row11 col2\" >nan</td>\n",
       "    </tr>\n",
       "    <tr>\n",
       "      <th id=\"T_713a0_level0_row12\" class=\"row_heading level0 row12\" >Cancer type: Colon</th>\n",
       "      <td id=\"T_713a0_row12_col0\" class=\"data row12 col0\" >0</td>\n",
       "      <td id=\"T_713a0_row12_col1\" class=\"data row12 col1\" >1</td>\n",
       "      <td id=\"T_713a0_row12_col2\" class=\"data row12 col2\" >nan</td>\n",
       "    </tr>\n",
       "    <tr>\n",
       "      <th id=\"T_713a0_level0_row13\" class=\"row_heading level0 row13\" >Cancer type: Cervical</th>\n",
       "      <td id=\"T_713a0_row13_col0\" class=\"data row13 col0\" >1</td>\n",
       "      <td id=\"T_713a0_row13_col1\" class=\"data row13 col1\" >0</td>\n",
       "      <td id=\"T_713a0_row13_col2\" class=\"data row13 col2\" >nan</td>\n",
       "    </tr>\n",
       "    <tr>\n",
       "      <th id=\"T_713a0_level0_row14\" class=\"row_heading level0 row14\" >ECOG PS: 1.0</th>\n",
       "      <td id=\"T_713a0_row14_col0\" class=\"data row14 col0\" >16</td>\n",
       "      <td id=\"T_713a0_row14_col1\" class=\"data row14 col1\" >20</td>\n",
       "      <td id=\"T_713a0_row14_col2\" class=\"data row14 col2\" >11.1</td>\n",
       "    </tr>\n",
       "    <tr>\n",
       "      <th id=\"T_713a0_level0_row15\" class=\"row_heading level0 row15\" >ECOG PS: 2.0</th>\n",
       "      <td id=\"T_713a0_row15_col0\" class=\"data row15 col0\" >7</td>\n",
       "      <td id=\"T_713a0_row15_col1\" class=\"data row15 col1\" >4</td>\n",
       "      <td id=\"T_713a0_row15_col2\" class=\"data row15 col2\" >nan</td>\n",
       "    </tr>\n",
       "    <tr>\n",
       "      <th id=\"T_713a0_level0_row16\" class=\"row_heading level0 row16\" >ECOG PS: 0.0</th>\n",
       "      <td id=\"T_713a0_row16_col0\" class=\"data row16 col0\" >6</td>\n",
       "      <td id=\"T_713a0_row16_col1\" class=\"data row16 col1\" >5</td>\n",
       "      <td id=\"T_713a0_row16_col2\" class=\"data row16 col2\" >9.1</td>\n",
       "    </tr>\n",
       "    <tr>\n",
       "      <th id=\"T_713a0_level0_row17\" class=\"row_heading level0 row17\" >Gender: W</th>\n",
       "      <td id=\"T_713a0_row17_col0\" class=\"data row17 col0\" >16</td>\n",
       "      <td id=\"T_713a0_row17_col1\" class=\"data row17 col1\" >11</td>\n",
       "      <td id=\"T_713a0_row17_col2\" class=\"data row17 col2\" >18.5</td>\n",
       "    </tr>\n",
       "    <tr>\n",
       "      <th id=\"T_713a0_level0_row18\" class=\"row_heading level0 row18\" >Gender: M</th>\n",
       "      <td id=\"T_713a0_row18_col0\" class=\"data row18 col0\" >14</td>\n",
       "      <td id=\"T_713a0_row18_col1\" class=\"data row18 col1\" >18</td>\n",
       "      <td id=\"T_713a0_row18_col2\" class=\"data row18 col2\" >12.5</td>\n",
       "    </tr>\n",
       "    <tr>\n",
       "      <th id=\"T_713a0_level0_row19\" class=\"row_heading level0 row19\" >Number of metastases: 3.00-10.00</th>\n",
       "      <td id=\"T_713a0_row19_col0\" class=\"data row19 col0\" >7</td>\n",
       "      <td id=\"T_713a0_row19_col1\" class=\"data row19 col1\" >6</td>\n",
       "      <td id=\"T_713a0_row19_col2\" class=\"data row19 col2\" >7.7</td>\n",
       "    </tr>\n",
       "    <tr>\n",
       "      <th id=\"T_713a0_level0_row20\" class=\"row_heading level0 row20\" >Number of metastases: 10.00-16.00</th>\n",
       "      <td id=\"T_713a0_row20_col0\" class=\"data row20 col0\" >7</td>\n",
       "      <td id=\"T_713a0_row20_col1\" class=\"data row20 col1\" >6</td>\n",
       "      <td id=\"T_713a0_row20_col2\" class=\"data row20 col2\" >7.7</td>\n",
       "    </tr>\n",
       "    <tr>\n",
       "      <th id=\"T_713a0_level0_row21\" class=\"row_heading level0 row21\" >Number of metastases: 16.00-30.00</th>\n",
       "      <td id=\"T_713a0_row21_col0\" class=\"data row21 col0\" >6</td>\n",
       "      <td id=\"T_713a0_row21_col1\" class=\"data row21 col1\" >7</td>\n",
       "      <td id=\"T_713a0_row21_col2\" class=\"data row21 col2\" >7.7</td>\n",
       "    </tr>\n",
       "    <tr>\n",
       "      <th id=\"T_713a0_level0_row22\" class=\"row_heading level0 row22\" >Presence of extracranial metastases at inclusion: Yes</th>\n",
       "      <td id=\"T_713a0_row22_col0\" class=\"data row22 col0\" >18</td>\n",
       "      <td id=\"T_713a0_row22_col1\" class=\"data row22 col1\" >19</td>\n",
       "      <td id=\"T_713a0_row22_col2\" class=\"data row22 col2\" >2.7</td>\n",
       "    </tr>\n",
       "    <tr>\n",
       "      <th id=\"T_713a0_level0_row23\" class=\"row_heading level0 row23\" >Presence of extracranial metastases at inclusion: No</th>\n",
       "      <td id=\"T_713a0_row23_col0\" class=\"data row23 col0\" >7</td>\n",
       "      <td id=\"T_713a0_row23_col1\" class=\"data row23 col1\" >7</td>\n",
       "      <td id=\"T_713a0_row23_col2\" class=\"data row23 col2\" >0.0</td>\n",
       "    </tr>\n",
       "  </tbody>\n",
       "</table>\n"
      ],
      "text/plain": [
       "<pandas.io.formats.style.Styler at 0x21f5eed7970>"
      ]
     },
     "execution_count": 3,
     "metadata": {},
     "output_type": "execute_result"
    }
   ],
   "source": [
    "import pandas as pd\n",
    "import numpy as np\n",
    "import matplotlib\n",
    "\n",
    "metadata = database.get_metadata(which='all')\n",
    "\n",
    "group = metadata['Group']\n",
    "group_labels = group.dropna().unique()\n",
    "\n",
    "metadata = metadata[list_selected]\n",
    "\n",
    "df = pd.DataFrame([], columns=group_labels, index=[])\n",
    "for m in list_selected:\n",
    "    met = metadata[m].dropna()\n",
    "    if len(met.unique()) > 10:\n",
    "        if type(met.unique()[0]) is str:\n",
    "            labels = met.unique()\n",
    "            for i in range(1, len(labels)):\n",
    "                df.loc['{}: {}'.format(m, labels[i])] = [(labels[i] == met[group == g]).sum() for g in group_labels]\n",
    "        else:\n",
    "            labels = [np.quantile(met, q) for q in [0, 0.25, 0.50, 0.75]]\n",
    "            for i in range(1, len(labels)):\n",
    "                df.loc['{}: {:.2f}-{:.2f}'.format(m, labels[i - 1], labels[i])] = [\n",
    "                    ((labels[i - 1] <= met[group == g]) & (met[group == g] < labels[i])).sum() for g in group_labels]\n",
    "    else:\n",
    "        labels = met.unique()\n",
    "        for i in labels:\n",
    "            df.loc['{}: {}'.format(m, str(i))] = [(met[group == g] == i).sum() for g in group_labels]\n",
    "\n",
    "balance = pd.Series([np.nan]*len(df.index), index=df.index)\n",
    "for i in df.index:\n",
    "    if (df.loc[i] > 4).all():\n",
    "        balance[i] = round(100 * df.loc[i].values.std() / df.loc[i].values.mean(), 1)\n",
    "        \n",
    "df.insert(loc=len(df.columns), column='Balance', value=balance)\n",
    "\n",
    "N = 200\n",
    "vals = np.ones((N, 4))\n",
    "vals[:, 0] = np.concatenate((np.linspace(0,1, N//2), np.linspace(1, 1, N//2)), axis=None)\n",
    "vals[:, 1] = np.concatenate((np.linspace(.9, .5, N//2), np.linspace(.5, 0, N//2)), axis=None)\n",
    "vals[:, 2] = np.concatenate((np.linspace(0, 0, N//2), np.linspace(0, 0, N//2)), axis=None)\n",
    "my_cmap = matplotlib.colors.ListedColormap(vals)\n",
    "\n",
    "def make_pretty(styler, column):\n",
    "    styler.background_gradient(axis=None, vmin=10, vmax=30, cmap=my_cmap, subset=column)\n",
    "    styler.format(precision=1)\n",
    "    return styler\n",
    "\n",
    "df.style.pipe(make_pretty, column='Balance')"
   ]
  },
  {
   "cell_type": "markdown",
   "id": "bb77a680-5762-428f-89c2-da546e3539ad",
   "metadata": {},
   "source": [
    "## Subgroup analysis\n",
    "\n",
    "The next graph is a *forest plot*. This figure is used to easily account for benefit in specific subgroups. The benefit can be investigated using different metrics: risk ratio, hazard ratio, or median event time. For each line (each subgroup), the metric chosen is providen (*mark*) with a confidence interval (*line*) and the benefit is in favor of the first group (respectivelly, the second group) if the mark is positionned to the right (respectivelly, to the left) of the vertical \"no effect\" line. A significant result is obtained if there is no interception between the confidence interval and the \"no effect\" line. \n",
    "\n",
    "Note that this interpretation is valid for an event related to treatment benefit (e.g., cured patient), for survival analysis invert right and left."
   ]
  },
  {
   "cell_type": "code",
   "execution_count": 4,
   "id": "4723eaed-be5c-4c9e-9769-ac5bd6aa2322",
   "metadata": {
    "jupyter": {
     "source_hidden": true
    },
    "tags": []
   },
   "outputs": [
    {
     "name": "stderr",
     "output_type": "stream",
     "text": [
      "C:\\ProgramData\\Anaconda3\\envs\\NanoRad\\lib\\site-packages\\statsmodels\\compat\\pandas.py:65: FutureWarning: pandas.Int64Index is deprecated and will be removed from pandas in a future version. Use pandas.Index with the appropriate dtype instead.\n",
      "  from pandas import Int64Index as NumericIndex\n"
     ]
    },
    {
     "data": {
      "application/vnd.jupyter.widget-view+json": {
       "model_id": "79453e62ef2543a9a6540a1ea429af18",
       "version_major": 2,
       "version_minor": 0
      },
      "text/plain": [
       "interactive(children=(Dropdown(description='Criteria', options=('Hazard ratio', 'Risk ratio', 'Median event ti…"
      ]
     },
     "metadata": {},
     "output_type": "display_data"
    }
   ],
   "source": [
    "from ipywidgets import interactive\n",
    "from functions.graph import forest_plot\n",
    "\n",
    "# w = widgets.RadioButtons(\n",
    "#     options=['pepperoni', 'pineapple', 'anchovies'],\n",
    "# #    value='pineapple', # Defaults to 'pineapple'\n",
    "# #    layout={'width': 'max-content'}, # If the items' names are long\n",
    "#     description='Pizza topping:',\n",
    "#     disabled=False\n",
    "# )\n",
    "\n",
    "def plot_forest(Criteria='Hazard ratio'):\n",
    "    forest_plot(database, list_selected)\n",
    "    \n",
    "import ipywidgets as widgets\n",
    "from ipywidgets import interactive\n",
    "\n",
    "interactive(plot_forest, Criteria=['Hazard ratio', 'Risk ratio', 'Median event time'])"
   ]
  }
 ],
 "metadata": {
  "hide_input": true,
  "kernelspec": {
   "display_name": "Python 3 (ipykernel)",
   "language": "python",
   "name": "python3"
  },
  "language_info": {
   "codemirror_mode": {
    "name": "ipython",
    "version": 3
   },
   "file_extension": ".py",
   "mimetype": "text/x-python",
   "name": "python",
   "nbconvert_exporter": "python",
   "pygments_lexer": "ipython3",
   "version": "3.9.10"
  },
  "widgets": {
   "application/vnd.jupyter.widget-state+json": {
    "state": {},
    "version_major": 2,
    "version_minor": 0
   }
  }
 },
 "nbformat": 4,
 "nbformat_minor": 5
}
