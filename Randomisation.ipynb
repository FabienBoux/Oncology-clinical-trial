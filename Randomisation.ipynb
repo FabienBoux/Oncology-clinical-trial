{
 "cells": [
  {
   "cell_type": "markdown",
   "id": "071e1704-6520-484e-9260-208bbb77cb65",
   "metadata": {},
   "source": [
    "# Randomisation\n",
    "\n",
    "This tab allows to control the balance between groups and to perform subgroup analyses. First, you can select the metadata that will be monitored in this tab (list of selected metadata is saved in the config file). Second, the selected metadata are listed in a table and size of corresponding subgroups are given. An indicator of balance is also provided for each metadata, see below for details."
   ]
  },
  {
   "cell_type": "code",
   "execution_count": 1,
   "id": "523e8ad9-6e13-41a4-9537-02662e01aa8e",
   "metadata": {
    "jupyter": {
     "source_hidden": true
    },
    "tags": []
   },
   "outputs": [],
   "source": [
    "import os\n",
    "import sys\n",
    "sys.path.append(\"C:\\\\Users\\\\Fabien Boux\\\\Code\\\\ClinLib\")\n",
    "\n",
    "from functions.config import Config\n",
    "config = Config()\n",
    "config.read()\n",
    "\n",
    "from clinlib.database import Database\n",
    "database = Database(config.get_value('database', section='PATH'), idlength=3)\n",
    "database.add_resource({'metadata': os.path.join(config.get_value('database', section='PATH'), config.get_value('metadata', section='PATH'))})"
   ]
  },
  {
   "cell_type": "code",
   "execution_count": 2,
   "id": "59500ba6-e9a0-4f02-8fdb-40d051ebd743",
   "metadata": {
    "jupyter": {
     "source_hidden": true
    },
    "tags": []
   },
   "outputs": [
    {
     "data": {
      "application/vnd.jupyter.widget-view+json": {
       "model_id": "85c78688739140dca23924630229ceac",
       "version_major": 2,
       "version_minor": 0
      },
      "text/plain": [
       "HBox(children=(Select(description='Metadata:', options=('Metadata 0', 'Metadata 1', 'Metadata 2', 'Metadata 3'…"
      ]
     },
     "metadata": {},
     "output_type": "display_data"
    }
   ],
   "source": [
    "import ipywidgets as widgets\n",
    "\n",
    "if config.is_key('list_metadata'):\n",
    "    list_metadata = config.get_value('list_metadata')\n",
    "else:\n",
    "    list_metadata = config.extract_config_values('list_metadata')\n",
    "    config.write()\n",
    "    \n",
    "if config.is_key('monitored_metadata'):\n",
    "    list_selected = config.get_value('monitored_metadata')\n",
    "else:\n",
    "    list_selected = list_metadata[:1]\n",
    "\n",
    "all_metadata = widgets.Select(\n",
    "    options=list_metadata,\n",
    "    value=list_metadata[0],\n",
    "    description='Metadata:',\n",
    "    disabled=False\n",
    ")\n",
    "\n",
    "selected_metadata = widgets.Select(\n",
    "    options=list_selected,\n",
    "    value=list_selected[0],\n",
    "    description='Monitored:',\n",
    "    disabled=False\n",
    ")\n",
    "\n",
    "def on_button_add_clicked(var):\n",
    "    if all_metadata.value not in list_selected:\n",
    "        list_selected.append(all_metadata.value)\n",
    "        list_selected.sort()\n",
    "        selected_metadata.options = list_selected\n",
    "\n",
    "def on_button_remove_clicked(var):\n",
    "    list_selected.remove(selected_metadata.value)\n",
    "    selected_metadata.options = list_selected\n",
    "\n",
    "def on_button_save_clicked(var):\n",
    "    config.set_value(list_selected, 'monitored_metadata', section='METADATA')\n",
    "    config.write()\n",
    "    \n",
    "button_add = widgets.Button(description='Add', command=on_button_add_clicked)\n",
    "button_remove = widgets.Button(description='Remove', command=on_button_remove_clicked)\n",
    "button_save = widgets.Button(description='Save', command=on_button_save_clicked)\n",
    "\n",
    "button_add.on_click(on_button_add_clicked)\n",
    "button_remove.on_click(on_button_remove_clicked)\n",
    "button_save.on_click(on_button_save_clicked)\n",
    "\n",
    "widgets.HBox([all_metadata, widgets.VBox([button_add, button_remove, button_save]), selected_metadata])"
   ]
  },
  {
   "cell_type": "markdown",
   "id": "1dbd21bd-7d0b-4c3a-8038-2d986df32727",
   "metadata": {
    "tags": []
   },
   "source": [
    "## Balance\n",
    "\n",
    "The next table reports the selected metadata. The indicator of balance is the coefficient of variation (ratio between standard deviation and mean):\n",
    "- in range 0-10% (*green*): subgroups are considered balanced,\n",
    "- around 20% (*orange*): risk of unbalancy (< 20% low risk and > 20% high risk),\n",
    "- and from 30% and above (*red*): subgroups are considered unbalanced."
   ]
  },
  {
   "cell_type": "code",
   "execution_count": 3,
   "id": "deafa8a0-7b1c-42f8-9de1-58820f37e0aa",
   "metadata": {
    "jupyter": {
     "source_hidden": true
    },
    "tags": []
   },
   "outputs": [
    {
     "data": {
      "text/html": [
       "<style type=\"text/css\">\n",
       "#T_85210_row0_col2 {\n",
       "  background-color: #0fdf00;\n",
       "  color: #000000;\n",
       "}\n",
       "#T_85210_row1_col2 {\n",
       "  background-color: #ff0600;\n",
       "  color: #f1f1f1;\n",
       "}\n",
       "#T_85210_row2_col2 {\n",
       "  background-color: #9ba800;\n",
       "  color: #f1f1f1;\n",
       "}\n",
       "#T_85210_row3_col2, #T_85210_row10_col2 {\n",
       "  background-color: #00e600;\n",
       "  color: #000000;\n",
       "}\n",
       "#T_85210_row4_col2 {\n",
       "  background-color: #b49d00;\n",
       "  color: #f1f1f1;\n",
       "}\n",
       "#T_85210_row5_col2, #T_85210_row13_col2 {\n",
       "  background-color: #48c900;\n",
       "  color: #000000;\n",
       "}\n",
       "#T_85210_row6_col2 {\n",
       "  background-color: #ff1800;\n",
       "  color: #f1f1f1;\n",
       "}\n",
       "#T_85210_row7_col2 {\n",
       "  background-color: #ff4c00;\n",
       "  color: #f1f1f1;\n",
       "}\n",
       "#T_85210_row8_col2 {\n",
       "  background-color: #34d100;\n",
       "  color: #000000;\n",
       "}\n",
       "#T_85210_row9_col2 {\n",
       "  background-color: #ff7500;\n",
       "  color: #f1f1f1;\n",
       "}\n",
       "#T_85210_row11_col2 {\n",
       "  background-color: #ff5200;\n",
       "  color: #f1f1f1;\n",
       "}\n",
       "#T_85210_row12_col2 {\n",
       "  background-color: #0de000;\n",
       "  color: #000000;\n",
       "}\n",
       "</style>\n",
       "<table id=\"T_85210_\">\n",
       "  <thead>\n",
       "    <tr>\n",
       "      <th class=\"blank level0\" >&nbsp;</th>\n",
       "      <th class=\"col_heading level0 col0\" >0</th>\n",
       "      <th class=\"col_heading level0 col1\" >1</th>\n",
       "      <th class=\"col_heading level0 col2\" >Balance</th>\n",
       "    </tr>\n",
       "  </thead>\n",
       "  <tbody>\n",
       "    <tr>\n",
       "      <th id=\"T_85210_level0_row0\" class=\"row_heading level0 row0\" >Metadata 0: 3</th>\n",
       "      <td id=\"T_85210_row0_col0\" class=\"data row0 col0\" >25</td>\n",
       "      <td id=\"T_85210_row0_col1\" class=\"data row0 col1\" >31</td>\n",
       "      <td id=\"T_85210_row0_col2\" class=\"data row0 col2\" >10.7</td>\n",
       "    </tr>\n",
       "    <tr>\n",
       "      <th id=\"T_85210_level0_row1\" class=\"row_heading level0 row1\" >Metadata 0: 0</th>\n",
       "      <td id=\"T_85210_row1_col0\" class=\"data row1 col0\" >18</td>\n",
       "      <td id=\"T_85210_row1_col1\" class=\"data row1 col1\" >33</td>\n",
       "      <td id=\"T_85210_row1_col2\" class=\"data row1 col2\" >29.4</td>\n",
       "    </tr>\n",
       "    <tr>\n",
       "      <th id=\"T_85210_level0_row2\" class=\"row_heading level0 row2\" >Metadata 0: 2</th>\n",
       "      <td id=\"T_85210_row2_col0\" class=\"data row2 col0\" >21</td>\n",
       "      <td id=\"T_85210_row2_col1\" class=\"data row2 col1\" >29</td>\n",
       "      <td id=\"T_85210_row2_col2\" class=\"data row2 col2\" >16.0</td>\n",
       "    </tr>\n",
       "    <tr>\n",
       "      <th id=\"T_85210_level0_row3\" class=\"row_heading level0 row3\" >Metadata 0: 1</th>\n",
       "      <td id=\"T_85210_row3_col0\" class=\"data row3 col0\" >21</td>\n",
       "      <td id=\"T_85210_row3_col1\" class=\"data row3 col1\" >22</td>\n",
       "      <td id=\"T_85210_row3_col2\" class=\"data row3 col2\" >2.3</td>\n",
       "    </tr>\n",
       "    <tr>\n",
       "      <th id=\"T_85210_level0_row4\" class=\"row_heading level0 row4\" >Metadata 1: 1</th>\n",
       "      <td id=\"T_85210_row4_col0\" class=\"data row4 col0\" >44</td>\n",
       "      <td id=\"T_85210_row4_col1\" class=\"data row4 col1\" >62</td>\n",
       "      <td id=\"T_85210_row4_col2\" class=\"data row4 col2\" >17.0</td>\n",
       "    </tr>\n",
       "    <tr>\n",
       "      <th id=\"T_85210_level0_row5\" class=\"row_heading level0 row5\" >Metadata 1: 0</th>\n",
       "      <td id=\"T_85210_row5_col0\" class=\"data row5 col0\" >41</td>\n",
       "      <td id=\"T_85210_row5_col1\" class=\"data row5 col1\" >53</td>\n",
       "      <td id=\"T_85210_row5_col2\" class=\"data row5 col2\" >12.8</td>\n",
       "    </tr>\n",
       "    <tr>\n",
       "      <th id=\"T_85210_level0_row6\" class=\"row_heading level0 row6\" >Metadata 4: 0.10-2.20</th>\n",
       "      <td id=\"T_85210_row6_col0\" class=\"data row6 col0\" >18</td>\n",
       "      <td id=\"T_85210_row6_col1\" class=\"data row6 col1\" >32</td>\n",
       "      <td id=\"T_85210_row6_col2\" class=\"data row6 col2\" >28.0</td>\n",
       "    </tr>\n",
       "    <tr>\n",
       "      <th id=\"T_85210_level0_row7\" class=\"row_heading level0 row7\" >Metadata 4: 2.20-4.21</th>\n",
       "      <td id=\"T_85210_row7_col0\" class=\"data row7 col0\" >19</td>\n",
       "      <td id=\"T_85210_row7_col1\" class=\"data row7 col1\" >31</td>\n",
       "      <td id=\"T_85210_row7_col2\" class=\"data row7 col2\" >24.0</td>\n",
       "    </tr>\n",
       "    <tr>\n",
       "      <th id=\"T_85210_level0_row8\" class=\"row_heading level0 row8\" >Metadata 4: 4.21-6.22</th>\n",
       "      <td id=\"T_85210_row8_col0\" class=\"data row8 col0\" >22</td>\n",
       "      <td id=\"T_85210_row8_col1\" class=\"data row8 col1\" >28</td>\n",
       "      <td id=\"T_85210_row8_col2\" class=\"data row8 col2\" >12.0</td>\n",
       "    </tr>\n",
       "    <tr>\n",
       "      <th id=\"T_85210_level0_row9\" class=\"row_heading level0 row9\" >Metadata 8: 2</th>\n",
       "      <td id=\"T_85210_row9_col0\" class=\"data row9 col0\" >19</td>\n",
       "      <td id=\"T_85210_row9_col1\" class=\"data row9 col1\" >29</td>\n",
       "      <td id=\"T_85210_row9_col2\" class=\"data row9 col2\" >20.8</td>\n",
       "    </tr>\n",
       "    <tr>\n",
       "      <th id=\"T_85210_level0_row10\" class=\"row_heading level0 row10\" >Metadata 8: 0</th>\n",
       "      <td id=\"T_85210_row10_col0\" class=\"data row10 col0\" >19</td>\n",
       "      <td id=\"T_85210_row10_col1\" class=\"data row10 col1\" >22</td>\n",
       "      <td id=\"T_85210_row10_col2\" class=\"data row10 col2\" >7.3</td>\n",
       "    </tr>\n",
       "    <tr>\n",
       "      <th id=\"T_85210_level0_row11\" class=\"row_heading level0 row11\" >Metadata 8: 1</th>\n",
       "      <td id=\"T_85210_row11_col0\" class=\"data row11 col0\" >13</td>\n",
       "      <td id=\"T_85210_row11_col1\" class=\"data row11 col1\" >21</td>\n",
       "      <td id=\"T_85210_row11_col2\" class=\"data row11 col2\" >23.5</td>\n",
       "    </tr>\n",
       "    <tr>\n",
       "      <th id=\"T_85210_level0_row12\" class=\"row_heading level0 row12\" >Metadata 8: 3</th>\n",
       "      <td id=\"T_85210_row12_col0\" class=\"data row12 col0\" >17</td>\n",
       "      <td id=\"T_85210_row12_col1\" class=\"data row12 col1\" >21</td>\n",
       "      <td id=\"T_85210_row12_col2\" class=\"data row12 col2\" >10.5</td>\n",
       "    </tr>\n",
       "    <tr>\n",
       "      <th id=\"T_85210_level0_row13\" class=\"row_heading level0 row13\" >Metadata 8: 4</th>\n",
       "      <td id=\"T_85210_row13_col0\" class=\"data row13 col0\" >17</td>\n",
       "      <td id=\"T_85210_row13_col1\" class=\"data row13 col1\" >22</td>\n",
       "      <td id=\"T_85210_row13_col2\" class=\"data row13 col2\" >12.8</td>\n",
       "    </tr>\n",
       "  </tbody>\n",
       "</table>\n"
      ],
      "text/plain": [
       "<pandas.io.formats.style.Styler at 0x226171e1cd0>"
      ]
     },
     "execution_count": 3,
     "metadata": {},
     "output_type": "execute_result"
    }
   ],
   "source": [
    "import pandas as pd\n",
    "import numpy as np\n",
    "\n",
    "metadata = database.get_metadata(which='all')\n",
    "\n",
    "group = metadata['Group']\n",
    "group_labels = group.unique()\n",
    "\n",
    "metadata = metadata[list_selected]\n",
    "\n",
    "df = pd.DataFrame([], columns=group_labels, index=[])\n",
    "for m in list_selected:\n",
    "    if len(metadata[m].unique()) > 10:\n",
    "        labels = [np.quantile(metadata[m], q) for q in [0, 0.25, 0.50, 0.75]]\n",
    "        for i in range(1, len(labels)):\n",
    "            df.loc['{}: {:.2f}-{:.2f}'.format(m, labels[i-1], labels[i])] = [((labels[i-1] <= metadata[m][group == g]) & (metadata[m][group == g] < labels[i])).sum() for g in group_labels]\n",
    "    else:\n",
    "        labels = metadata[m].unique()\n",
    "        for i in labels:\n",
    "            df.loc['{}: {}'.format(m, str(i))] = [(metadata[m][group == g]==i).sum() for g in group_labels]\n",
    "\n",
    "balance = pd.Series([np.nan]*len(df.index), index=df.index)\n",
    "for i in df.index:\n",
    "    if (df.loc[i] > 4).all():\n",
    "        balance[i] = round(100 * df.loc[i].values.std() / df.loc[i].values.mean(), 1)\n",
    "        \n",
    "df.insert(loc=len(df.columns), column='Balance', value=balance)\n",
    "\n",
    "import matplotlib\n",
    "N = 200\n",
    "vals = np.ones((N, 4))\n",
    "vals[:, 0] = np.concatenate((np.linspace(0,1, N//2), np.linspace(1, 1, N//2)), axis=None)\n",
    "vals[:, 1] = np.concatenate((np.linspace(.9, .5, N//2), np.linspace(.5, 0, N//2)), axis=None)\n",
    "vals[:, 2] = np.concatenate((np.linspace(0, 0, N//2), np.linspace(0, 0, N//2)), axis=None)\n",
    "my_cmap = matplotlib.colors.ListedColormap(vals)\n",
    "\n",
    "def make_pretty(styler):\n",
    "    styler.background_gradient(axis=None, vmin=10, vmax=30, cmap=my_cmap)\n",
    "    styler.format(precision=1)\n",
    "    return styler\n",
    "\n",
    "df.style.pipe(make_pretty)\n"
   ]
  },
  {
   "cell_type": "markdown",
   "id": "bb77a680-5762-428f-89c2-da546e3539ad",
   "metadata": {},
   "source": [
    "## Subgroup analysis\n",
    "\n",
    "The next graph is a *forest plot*. This figure is used to easily account for benefit in specific subgroups. The benefit can be investigated using different metrics: risk ratio, hazard ratio, or median event time. For each line (each subgroup), the metric chosen is providen (*mark*) with a confidence index (*line*) and the benefit is in favor of the first group (respectivelly, the second group) if the mark is positionned to the right (respectivelly, to the left) of the vertical line \"no effect\". This interpretation is valid for an event related to treatment benefit (e.g., cured patient), for survival analysis invert right and left."
   ]
  },
  {
   "cell_type": "code",
   "execution_count": 4,
   "id": "4723eaed-be5c-4c9e-9769-ac5bd6aa2322",
   "metadata": {
    "jupyter": {
     "source_hidden": true
    },
    "tags": []
   },
   "outputs": [
    {
     "name": "stderr",
     "output_type": "stream",
     "text": [
      "C:\\ProgramData\\Anaconda3\\envs\\NanoRad\\lib\\site-packages\\pandas\\core\\indexing.py:1732: SettingWithCopyWarning: \n",
      "A value is trying to be set on a copy of a slice from a DataFrame\n",
      "\n",
      "See the caveats in the documentation: https://pandas.pydata.org/pandas-docs/stable/user_guide/indexing.html#returning-a-view-versus-a-copy\n",
      "  self._setitem_single_block(indexer, value, name)\n"
     ]
    },
    {
     "data": {
      "image/png": "[encoded data removed]",
      "text/plain": [
       "<Figure size 504x216 with 2 Axes>"
      ]
     },
     "metadata": {
      "needs_background": "light"
     },
     "output_type": "display_data"
    }
   ],
   "source": [
    "from ipywidgets import interactive\n",
    "from functions.graph import forest_plot\n",
    "\n",
    "# w = widgets.RadioButtons(\n",
    "#     options=['pepperoni', 'pineapple', 'anchovies'],\n",
    "# #    value='pineapple', # Defaults to 'pineapple'\n",
    "# #    layout={'width': 'max-content'}, # If the items' names are long\n",
    "#     description='Pizza topping:',\n",
    "#     disabled=False\n",
    "# )\n",
    "\n",
    "def plot_forest(Criteria='Hazard ratio'):\n",
    "    forest_plot(database, list_selected)\n",
    "    \n",
    "import ipywidgets as widgets\n",
    "from ipywidgets import interactive\n",
    "\n",
    "interactive(plot_forest, Criteria=['Hazard ratio', 'Risk ratio', 'Median event time'])"
   ]
  }
 ],
 "metadata": {
  "kernelspec": {
   "display_name": "Python 3 (ipykernel)",
   "language": "python",
   "name": "python3"
  },
  "language_info": {
   "codemirror_mode": {
    "name": "ipython",
    "version": 3
   },
   "file_extension": ".py",
   "mimetype": "text/x-python",
   "name": "python",
   "nbconvert_exporter": "python",
   "pygments_lexer": "ipython3",
   "version": "3.9.9"
  },
  "widgets": {
   "application/vnd.jupyter.widget-state+json": {
    "state": {},
    "version_major": 2,
    "version_minor": 0
   }
  }
 },
 "nbformat": 4,
 "nbformat_minor": 5
}
