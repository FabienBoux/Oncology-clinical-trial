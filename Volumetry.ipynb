{
 "cells": [
  {
   "cell_type": "markdown",
   "id": "dd81f72a-741a-4ec2-93f8-9b0c5e37cf73",
   "metadata": {},
   "source": [
    "# Volumetric analysis\n",
    "\n",
    "This analysis is based on the quantification of the volume of lesions (in practice, volumes are often approximated by 1D of 2D measures). Then, some criteria (MacDonald [[1]](https://pubmed.ncbi.nlm.nih.gov/2358840/), RECIST [[2]](https://europepmc.org/article/med/10655437), RANO [[3]](https://pubmed.ncbi.nlm.nih.gov/20231676/), and their different revisions) can be used to assess the tumor response from these measures."
   ]
  },
  {
   "cell_type": "code",
   "execution_count": 1,
   "id": "99018cf9-9ac6-445a-bbf3-88b959f7ac3f",
   "metadata": {
    "jupyter": {
     "source_hidden": true
    },
    "tags": []
   },
   "outputs": [],
   "source": [
    "import os\n",
    "import sys\n",
    "sys.path.append(\"C:\\\\Users\\\\Fabien Boux\\\\Code\\\\ClinLib\")\n",
    "\n",
    "from functions.config import Config\n",
    "from clinlib.database import Database\n",
    "\n",
    "with open('init.txt') as f:\n",
    "    lines = f.readlines()\n",
    "config = Config(lines[0])\n",
    "config.read()\n",
    "\n",
    "database = Database(config.get_value('database', section='PATH'), idlength=(int(config.get_value('id_length', section='OTHER')) if config.is_key('id_length') else 3))\n",
    "database.add_resource({'metadata': os.path.join(config.get_value('database', section='PATH'), config.get_value('metadata', section='PATH'))})\n",
    "\n",
    "import ipywidgets as widgets\n",
    "from ipywidgets import interact, interactive\n",
    "import matplotlib.pyplot as plt\n",
    "from IPython.display import display"
   ]
  },
  {
   "cell_type": "markdown",
   "id": "e8ef8cb9-1c4b-4ba7-ac5e-d92b79d3cdbc",
   "metadata": {},
   "source": [
    "## 1. Evolution"
   ]
  },
  {
   "cell_type": "code",
   "execution_count": 2,
   "id": "77e04c55-d880-4778-8085-09db2b0663ff",
   "metadata": {
    "jupyter": {
     "source_hidden": true
    },
    "tags": []
   },
   "outputs": [
    {
     "name": "stderr",
     "output_type": "stream",
     "text": [
      "C:\\ProgramData\\Anaconda3\\envs\\NanoRad\\lib\\site-packages\\statsmodels\\compat\\pandas.py:65: FutureWarning: pandas.Int64Index is deprecated and will be removed from pandas in a future version. Use pandas.Index with the appropriate dtype instead.\n",
      "  from pandas import Int64Index as NumericIndex\n"
     ]
    },
    {
     "data": {
      "application/vnd.jupyter.widget-view+json": {
       "model_id": "f9664a7b5ddc4420bcf2755dfcf0f345",
       "version_major": 2,
       "version_minor": 0
      },
      "text/plain": [
       "interactive(children=(FloatSlider(value=5.0, description='Size'), FloatSlider(value=5.0, description='Number',…"
      ]
     },
     "metadata": {},
     "output_type": "display_data"
    }
   ],
   "source": [
    "%matplotlib widget\n",
    "\n",
    "import pandas as pd\n",
    "from functions.graph import volumetry_plot\n",
    "\n",
    "metric = (config.get_value('volume_label') if config.is_key('volume_label') else 'Volume') \n",
    "visits = (config.get_value('visits') if config.is_key('visits') else None)\n",
    "groups = (config.get_value('groups') if config.is_key('groups') else None)\n",
    "\n",
    "def plot_vol(Size=5, Number=5, Stat='mean'):\n",
    "    fig = volumetry_plot(database, visits=visits, stat=Stat, metric=metric, groups=groups)\n",
    "    plt.show()\n",
    "\n",
    "interact(plot_vol, Size=(0,1e2,.1), Number=(0,1e2,1), Stat=['mean', 'median']);"
   ]
  },
  {
   "cell_type": "markdown",
   "id": "fa84c0e9-f784-4cfd-9954-a2d723b31ffe",
   "metadata": {
    "tags": []
   },
   "source": [
    "## 2. Response\n",
    "\n",
    "At this moment, only few criteria are implemented: \n",
    "- the revised RECIST version 1.1 (rRECIST) according to [[4]](https://www.sciencedirect.com/science/article/abs/pii/S0959804908008733),\n",
    "- our own adaptation of the previous rRECIST (mRECIST) that use the same guidelines but consider all lesions (with a diameter > 5 mm) as target lesions.\n",
    "\n",
    "A patient is considered to have an objective response when the best overall response of a patient is either a Partial Response (PR) or Complete Response (CR). Then, the Objective Response Rate (ORR) is the percentage of patients with PR or CR."
   ]
  },
  {
   "cell_type": "code",
   "execution_count": 4,
   "id": "d88eb818-d68d-4e80-82eb-a7bd9e146061",
   "metadata": {
    "jupyter": {
     "source_hidden": true
    },
    "tags": []
   },
   "outputs": [
    {
     "data": {
      "application/vnd.jupyter.widget-view+json": {
       "model_id": "10f4f27b11be464fbd79d24159955a7b",
       "version_major": 2,
       "version_minor": 0
      },
      "text/plain": [
       "interactive(children=(Dropdown(description='Criteria', options=('rRECIST', 'mRECIST'), value='rRECIST'), Outpu…"
      ]
     },
     "metadata": {},
     "output_type": "display_data"
    }
   ],
   "source": [
    "%matplotlib widget\n",
    "\n",
    "import pandas as pd\n",
    "from functions.graph import response_rate_plot\n",
    "\n",
    "metric = (config.get_value('volume_label') if config.is_key('volume_label') else 'Volume')\n",
    "visits = (config.get_value('visits') if config.is_key('visits') else None)\n",
    "groups = (config.get_value('groups') if config.is_key('groups') else None)\n",
    "\n",
    "def plot_rr(Criteria='rRECIST'):   \n",
    "    fig = response_rate_plot(database, visits=visits, criteria=Criteria, metric=metric, groups=groups)\n",
    "    plt.show()\n",
    "\n",
    "interact(plot_rr, Criteria=['rRECIST', 'mRECIST']);"
   ]
  }
 ],
 "metadata": {
  "hide_input": true,
  "kernelspec": {
   "display_name": "Python 3 (ipykernel)",
   "language": "python",
   "name": "python3"
  },
  "language_info": {
   "codemirror_mode": {
    "name": "ipython",
    "version": 3
   },
   "file_extension": ".py",
   "mimetype": "text/x-python",
   "name": "python",
   "nbconvert_exporter": "python",
   "pygments_lexer": "ipython3",
   "version": "3.9.10"
  },
  "widgets": {
   "application/vnd.jupyter.widget-state+json": {
    "state": {},
    "version_major": 2,
    "version_minor": 0
   }
  }
 },
 "nbformat": 4,
 "nbformat_minor": 5
}
