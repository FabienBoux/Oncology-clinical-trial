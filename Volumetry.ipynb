{
 "cells": [
  {
   "cell_type": "markdown",
   "id": "dd81f72a-741a-4ec2-93f8-9b0c5e37cf73",
   "metadata": {},
   "source": [
    "# Volumetric analysis\n",
    "\n",
    "This analysis is based on the quantification of the volume of lesions (volumes are often approximated by 1D of 2D measures). Then, some criteria (MacDonald, RECIST, modified RECIST, RANO) can be used to assess the tumor response."
   ]
  },
  {
   "cell_type": "code",
   "execution_count": 1,
   "id": "99018cf9-9ac6-445a-bbf3-88b959f7ac3f",
   "metadata": {
    "jupyter": {
     "source_hidden": true
    },
    "tags": []
   },
   "outputs": [],
   "source": [
    "import os\n",
    "import sys\n",
    "sys.path.append(\"C:\\\\Users\\\\Fabien Boux\\\\Code\\\\ClinLib\")\n",
    "\n",
    "from functions.config import Config\n",
    "config = Config()\n",
    "config.read()\n",
    "\n",
    "from clinlib.database import Database\n",
    "database = Database(config.get_value('database', section='PATH'), idlength=3)\n",
    "database.add_resource({'metadata': os.path.join(config.get_value('database', section='PATH'), config.get_value('metadata', section='PATH'))})\n",
    "\n",
    "import ipywidgets as widgets"
   ]
  },
  {
   "cell_type": "markdown",
   "id": "e8ef8cb9-1c4b-4ba7-ac5e-d92b79d3cdbc",
   "metadata": {},
   "source": [
    "## Evolution"
   ]
  },
  {
   "cell_type": "code",
   "execution_count": 2,
   "id": "8df91870-7bc2-4217-b4d1-190255d4a92a",
   "metadata": {
    "jupyter": {
     "source_hidden": true
    },
    "tags": []
   },
   "outputs": [],
   "source": [
    "# import matplotlib.pyplot as plt\n",
    "# from functions.graph import volumetry_plot\n",
    "\n",
    "# min_size = widgets.BoundedFloatText(value=5, min=0, max=1e6, step=0.1, description='Min size:', disabled=False)\n",
    "# max_nber = widgets.IntText(value=5, description='Max number:', disabled=False)\n",
    "\n",
    "# stat = widgets.Dropdown(options=['Median', 'Mean'], value='Median', description='Statistic:', disabled=False,)\n",
    "\n",
    "# def on_button_plot_clicked(var):\n",
    "#     visits = (config.get_value('visits') if config.is_key('visits') else None)\n",
    "#     volumetry_plot(database, visits=visits, stat=stat.value)\n",
    "#     plt.show()\n",
    "    \n",
    "# button_plot = widgets.Button(description='Plot', command=on_button_plot_clicked)\n",
    "# button_plot.on_click(on_button_plot_clicked)\n",
    "\n",
    "# widgets.VBox([widgets.HBox([min_size, max_nber]),\n",
    "#               widgets.HBox([stat, button_plot]), ])"
   ]
  },
  {
   "cell_type": "code",
   "execution_count": 3,
   "id": "77e04c55-d880-4778-8085-09db2b0663ff",
   "metadata": {
    "tags": []
   },
   "outputs": [
    {
     "data": {
      "application/vnd.jupyter.widget-view+json": {
       "model_id": "90ca5e721d914483bbe43ed50a13440f",
       "version_major": 2,
       "version_minor": 0
      },
      "text/plain": [
       "interactive(children=(FloatSlider(value=5.0, description='Size'), FloatSlider(value=5.0, description='Number',…"
      ]
     },
     "metadata": {},
     "output_type": "display_data"
    }
   ],
   "source": [
    "%matplotlib notebook\n",
    "\n",
    "import matplotlib.pyplot as plt\n",
    "import pandas as pd\n",
    "pd.options.plotting.backend = \"matplotlib\"\n",
    "\n",
    "from ipywidgets import interact\n",
    "from functions.graph import volumetry_plot\n",
    "\n",
    "def plot_rr(Size=5, Number=5, Stat='mean'):   \n",
    "    visits = (config.get_value('visits') if config.is_key('visits') else None)\n",
    "    fig = volumetry_plot(database, visits=visits, stat=Stat)\n",
    "\n",
    "interact(plot_rr, Size=(0,1e2,.1), Number=(0,1e2,1), Stat=['mean', 'median']);"
   ]
  },
  {
   "cell_type": "markdown",
   "id": "fa84c0e9-f784-4cfd-9954-a2d723b31ffe",
   "metadata": {},
   "source": [
    "## Response\n",
    "\n",
    "At this moment, are implemented: \n",
    "- the modified RECIST (mRECIST) according to [ref]\n",
    "- our own modified RECIST (new_mRECIST)"
   ]
  },
  {
   "cell_type": "code",
   "execution_count": 4,
   "id": "d88eb818-d68d-4e80-82eb-a7bd9e146061",
   "metadata": {},
   "outputs": [
    {
     "name": "stdout",
     "output_type": "stream",
     "text": [
      "ok\n"
     ]
    }
   ],
   "source": [
    "print('ok')"
   ]
  }
 ],
 "metadata": {
  "kernelspec": {
   "display_name": "Python 3 (ipykernel)",
   "language": "python",
   "name": "python3"
  },
  "language_info": {
   "codemirror_mode": {
    "name": "ipython",
    "version": 3
   },
   "file_extension": ".py",
   "mimetype": "text/x-python",
   "name": "python",
   "nbconvert_exporter": "python",
   "pygments_lexer": "ipython3",
   "version": "3.9.9"
  },
  "widgets": {
   "application/vnd.jupyter.widget-state+json": {
    "state": {},
    "version_major": 2,
    "version_minor": 0
   }
  }
 },
 "nbformat": 4,
 "nbformat_minor": 5
}
