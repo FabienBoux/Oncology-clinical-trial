{
 "cells": [
  {
   "cell_type": "markdown",
   "id": "071e1704-6520-484e-9260-208bbb77cb65",
   "metadata": {},
   "source": [
    "# Randomization\n",
    "\n",
    "This tab allows to see the repartition of patients according to the metadata indicated and to control the balance between groups. First, you can select the metadata that will be monitored in this tab (list of selected metadata is saved in the config file). Second, the selected metadata are listed in a table and size of corresponding subgroups are given. An indicator of balance is also provided for each metadata, see below for details."
   ]
  },
  {
   "cell_type": "code",
   "execution_count": 1,
   "id": "523e8ad9-6e13-41a4-9537-02662e01aa8e",
   "metadata": {
    "jupyter": {
     "source_hidden": true
    },
    "tags": []
   },
   "outputs": [],
   "source": [
    "import os\n",
    "import sys\n",
    "sys.path.append(\"C:\\\\Users\\\\Fabien Boux\\\\Code\\\\ClinLib\")\n",
    "\n",
    "from functions.config import Config\n",
    "from clinlib.database import Database\n",
    "\n",
    "with open('init.txt') as f:\n",
    "    lines = f.readlines()\n",
    "config = Config(os.path.join('ini', lines[0]))\n",
    "config.read()\n",
    "\n",
    "database = Database(config.get_value('database', section='PATH'), idlength=(int(config.get_value('id_length', section='OTHER')) if config.is_key('id_length') else 3))\n",
    "database.add_resource({'metadata': os.path.join(config.get_value('database', section='PATH'), config.get_value('metadata', section='PATH'))})\n",
    "\n",
    "import ipywidgets as widgets\n",
    "from ipywidgets import interact, interactive\n",
    "import matplotlib.pyplot as plt\n",
    "from IPython.display import display"
   ]
  },
  {
   "cell_type": "code",
   "execution_count": 2,
   "id": "59500ba6-e9a0-4f02-8fdb-40d051ebd743",
   "metadata": {
    "jupyter": {
     "source_hidden": true
    },
    "tags": []
   },
   "outputs": [
    {
     "data": {
      "application/vnd.jupyter.widget-view+json": {
       "model_id": "a1fa18df773444c5bed92b4cf53d6a61",
       "version_major": 2,
       "version_minor": 0
      },
      "text/plain": [
       "HBox(children=(Select(description='Metadata:', options=('Phase', 'Arm', 'Cancer', 'Center', 'Gender', 'Age', '…"
      ]
     },
     "metadata": {},
     "output_type": "display_data"
    }
   ],
   "source": [
    "import ipywidgets as widgets\n",
    "\n",
    "if config.is_key('list_metadata'):\n",
    "    list_metadata = config.get_value('list_metadata')\n",
    "else:\n",
    "    list_metadata = config.extract_config_values('list_metadata')\n",
    "    config.write()\n",
    "    \n",
    "if config.is_key('monitored_metadata'):\n",
    "    list_selected = config.get_value('monitored_metadata')\n",
    "else:\n",
    "    list_selected = list_metadata[:1]\n",
    "\n",
    "all_metadata = widgets.Select(\n",
    "    options=list_metadata,\n",
    "    value=list_metadata[0],\n",
    "    description='Metadata:',\n",
    "    disabled=False\n",
    ")\n",
    "\n",
    "selected_metadata = widgets.Select(\n",
    "    options=list_selected,\n",
    "    value=list_selected[0],\n",
    "    description='Monitored:',\n",
    "    disabled=False\n",
    ")\n",
    "\n",
    "def on_button_add_clicked(var):\n",
    "    if all_metadata.value not in list_selected:\n",
    "        list_selected.append(all_metadata.value)\n",
    "        list_selected.sort()\n",
    "        selected_metadata.options = list_selected\n",
    "\n",
    "def on_button_remove_clicked(var):\n",
    "    list_selected.remove(selected_metadata.value)\n",
    "    selected_metadata.options = list_selected\n",
    "\n",
    "def on_button_save_clicked(var):\n",
    "    config.set_value(list_selected, 'monitored_metadata', section='METADATA')\n",
    "    config.write()\n",
    "    \n",
    "button_add = widgets.Button(description='Add', command=on_button_add_clicked)\n",
    "button_remove = widgets.Button(description='Remove', command=on_button_remove_clicked)\n",
    "button_save = widgets.Button(description='Save', command=on_button_save_clicked)\n",
    "\n",
    "button_add.on_click(on_button_add_clicked)\n",
    "button_remove.on_click(on_button_remove_clicked)\n",
    "button_save.on_click(on_button_save_clicked)\n",
    "\n",
    "widgets.HBox([all_metadata, widgets.VBox([button_add, button_remove, button_save]), selected_metadata])"
   ]
  },
  {
   "cell_type": "markdown",
   "id": "1dbd21bd-7d0b-4c3a-8038-2d986df32727",
   "metadata": {
    "tags": []
   },
   "source": [
    "## 1. Balance\n",
    "\n",
    "The next table reports the selected metadata. The indicator of balance is the coefficient of variation (ratio between standard deviation and mean):\n",
    "- in range 0-10% (*green*): subgroups are considered balanced,\n",
    "- around 20% (*orange*): risk of unbalancy (< 20% low risk and > 20% high risk),\n",
    "- and from 30% and above (*red*): subgroups are considered unbalanced.\n",
    "\n",
    "To go further a p-value to test statistical significance (two-sided tests) is also provided (only if 2 groups) using:\n",
    "- a Fisher exact test for discrete variables (indicated in table using (F)),\n",
    "- a Mann Whitney test for continuous variables (indicated in table using (MW))."
   ]
  },
  {
   "cell_type": "code",
   "execution_count": 3,
   "id": "deafa8a0-7b1c-42f8-9de1-58820f37e0aa",
   "metadata": {
    "jupyter": {
     "source_hidden": true
    },
    "scrolled": false,
    "tags": []
   },
   "outputs": [
    {
     "data": {
      "text/html": [
       "<style type=\"text/css\">\n",
       "#T_210b8_row0_col2, #T_210b8_row2_col2, #T_210b8_row4_col2 {\n",
       "  background-color: #00e600;\n",
       "  color: #000000;\n",
       "}\n",
       "#T_210b8_row1_col2, #T_210b8_row3_col2 {\n",
       "  background-color: #000000;\n",
       "  color: #f1f1f1;\n",
       "}\n",
       "</style>\n",
       "<table id=\"T_210b8\">\n",
       "  <thead>\n",
       "    <tr>\n",
       "      <th class=\"blank level0\" >&nbsp;</th>\n",
       "      <th id=\"T_210b8_level0_col0\" class=\"col_heading level0 col0\" >75 mg/kg</th>\n",
       "      <th id=\"T_210b8_level0_col1\" class=\"col_heading level0 col1\" >P-value</th>\n",
       "      <th id=\"T_210b8_level0_col2\" class=\"col_heading level0 col2\" >Deviation</th>\n",
       "    </tr>\n",
       "  </thead>\n",
       "  <tbody>\n",
       "    <tr>\n",
       "      <th id=\"T_210b8_level0_row0\" class=\"row_heading level0 row0\" >Cancer: LAPC</th>\n",
       "      <td id=\"T_210b8_row0_col0\" class=\"data row0 col0\" >8</td>\n",
       "      <td id=\"T_210b8_row0_col1\" class=\"data row0 col1\" >nan</td>\n",
       "      <td id=\"T_210b8_row0_col2\" class=\"data row0 col2\" >0.0</td>\n",
       "    </tr>\n",
       "    <tr>\n",
       "      <th id=\"T_210b8_level0_row1\" class=\"row_heading level0 row1\" >Cancer: cNSCLC</th>\n",
       "      <td id=\"T_210b8_row1_col0\" class=\"data row1 col0\" >4</td>\n",
       "      <td id=\"T_210b8_row1_col1\" class=\"data row1 col1\" >nan</td>\n",
       "      <td id=\"T_210b8_row1_col2\" class=\"data row1 col2\" >nan</td>\n",
       "    </tr>\n",
       "    <tr>\n",
       "      <th id=\"T_210b8_level0_row2\" class=\"row_heading level0 row2\" >Center: Brigham and Women's Hospital</th>\n",
       "      <td id=\"T_210b8_row2_col0\" class=\"data row2 col0\" >11</td>\n",
       "      <td id=\"T_210b8_row2_col1\" class=\"data row2 col1\" >nan</td>\n",
       "      <td id=\"T_210b8_row2_col2\" class=\"data row2 col2\" >0.0</td>\n",
       "    </tr>\n",
       "    <tr>\n",
       "      <th id=\"T_210b8_level0_row3\" class=\"row_heading level0 row3\" >Center: Dana-Farber Cancer Institute</th>\n",
       "      <td id=\"T_210b8_row3_col0\" class=\"data row3 col0\" >1</td>\n",
       "      <td id=\"T_210b8_row3_col1\" class=\"data row3 col1\" >nan</td>\n",
       "      <td id=\"T_210b8_row3_col2\" class=\"data row3 col2\" >nan</td>\n",
       "    </tr>\n",
       "    <tr>\n",
       "      <th id=\"T_210b8_level0_row4\" class=\"row_heading level0 row4\" >Phase: 1</th>\n",
       "      <td id=\"T_210b8_row4_col0\" class=\"data row4 col0\" >12</td>\n",
       "      <td id=\"T_210b8_row4_col1\" class=\"data row4 col1\" >nan</td>\n",
       "      <td id=\"T_210b8_row4_col2\" class=\"data row4 col2\" >0.0</td>\n",
       "    </tr>\n",
       "  </tbody>\n",
       "</table>\n"
      ],
      "text/plain": [
       "<pandas.io.formats.style.Styler at 0x20f99d17fd0>"
      ]
     },
     "execution_count": 3,
     "metadata": {},
     "output_type": "execute_result"
    }
   ],
   "source": [
    "import pandas as pd\n",
    "import numpy as np\n",
    "import matplotlib\n",
    "from scipy.stats import fisher_exact, mannwhitneyu\n",
    "\n",
    "metadata = database.get_metadata(which='all')\n",
    "\n",
    "group = metadata['Group']\n",
    "group_labels = group.dropna().unique()\n",
    "\n",
    "metadata = metadata[list_selected]\n",
    "\n",
    "df = pd.DataFrame([], columns=list(group_labels) + ['P-value'], index=[])\n",
    "for m in list_selected:\n",
    "    met = metadata[m].dropna()\n",
    "    if len(met.unique()) > 10:\n",
    "        if type(met.unique()[0]) is str:\n",
    "            labels = met.unique()\n",
    "            for i in range(1, len(labels)):\n",
    "                table = [[(labels[i] == met[group == g]).sum() for g in group_labels], \n",
    "                        [(labels[i] != met[group == g]).sum() for g in group_labels]]\n",
    "                if (np.array(table) > 0).all() & (len(group_labels) == 2):\n",
    "                    df.loc['{}: {}'.format(m, labels[i])] = table[0] + ['{:.2f}(F)'.format(fisher_exact(table, alternative=\"two-sided\")[1])]\n",
    "                else:\n",
    "                    df.loc['{}: {}'.format(m, labels[i])] = table[0] + [np.nan]\n",
    "                        \n",
    "        else:\n",
    "            labels = [np.quantile(met, q) for q in [0, 0.25, 0.50, 0.75]]\n",
    "            for i in range(1, len(labels)):\n",
    "                table = [[((labels[i - 1] <= met[group == g]) & (met[group == g] < labels[i])).sum() for g in group_labels],\n",
    "                         [(~((labels[i - 1] <= met[group == g]) & (met[group == g] < labels[i]))).sum() for g in group_labels]]\n",
    "                if (np.array(table) > 0).all() & (len(group_labels) == 2):\n",
    "                    df.loc['{}: {:.2f}-{:.2f}'.format(m, labels[i - 1], labels[i])] = table[0] + ['{:.2f}(MW)'.format(mannwhitneyu(met[group == group_labels[0]], met[group == group_labels[1]], alternative='two-sided')[1])]\n",
    "                else:\n",
    "                    df.loc['{}: {:.2f}-{:.2f}'.format(m, labels[i - 1], labels[i])] = table[0] + [np.nan]\n",
    "                    \n",
    "    else:\n",
    "        labels = met.unique()\n",
    "        for i in labels:\n",
    "            table = [[(i == met[group == g]).sum() for g in group_labels], \n",
    "                            [(i != met[group == g]).sum() for g in group_labels]]\n",
    "            if (np.array(table) > 0).all() & (len(group_labels) == 2):\n",
    "                df.loc['{}: {}'.format(m, str(i))] = [(met[group == g] == i).sum() for g in group_labels] + ['{:.2f}(F)'.format(fisher_exact(table, alternative=\"two-sided\")[1])]\n",
    "            else:\n",
    "                df.loc['{}: {}'.format(m, str(i))] = [(met[group == g] == i).sum() for g in group_labels] + [np.nan]\n",
    "\n",
    "\n",
    "balance = pd.Series([np.nan]*len(df.index), index=df.index)\n",
    "for i in df.index:\n",
    "    if (df.loc[i][:-1] > 4).all():\n",
    "        balance[i] = round(100 * df.loc[i].values[:-1].std() / df.loc[i].values[:-1].mean(), 1)\n",
    "        \n",
    "df.insert(loc=len(df.columns), column='Deviation', value=balance)\n",
    "\n",
    "N = 200\n",
    "vals = np.ones((N, 4))\n",
    "vals[:, 0] = np.concatenate((np.linspace(0,1, N//2), np.linspace(1, 1, N//2)), axis=None)\n",
    "vals[:, 1] = np.concatenate((np.linspace(.9, .5, N//2), np.linspace(.5, 0, N//2)), axis=None)\n",
    "vals[:, 2] = np.concatenate((np.linspace(0, 0, N//2), np.linspace(0, 0, N//2)), axis=None)\n",
    "my_cmap = matplotlib.colors.ListedColormap(vals)\n",
    "\n",
    "def make_pretty(styler, column):\n",
    "    styler.background_gradient(axis=None, vmin=10, vmax=30, cmap=my_cmap, subset=column)\n",
    "    styler.format(precision=1)\n",
    "    return styler\n",
    "\n",
    "for g in group_labels:\n",
    "    df[g] = [int(x) for x in df[g]]\n",
    "\n",
    "df.style.pipe(make_pretty, column='Deviation')"
   ]
  }
 ],
 "metadata": {
  "hide_input": false,
  "kernelspec": {
   "display_name": "Python 3 (ipykernel)",
   "language": "python",
   "name": "python3"
  },
  "language_info": {
   "codemirror_mode": {
    "name": "ipython",
    "version": 3
   },
   "file_extension": ".py",
   "mimetype": "text/x-python",
   "name": "python",
   "nbconvert_exporter": "python",
   "pygments_lexer": "ipython3",
   "version": "3.9.7"
  },
  "widgets": {
   "application/vnd.jupyter.widget-state+json": {
    "state": {},
    "version_major": 2,
    "version_minor": 0
   }
  }
 },
 "nbformat": 4,
 "nbformat_minor": 5
}
