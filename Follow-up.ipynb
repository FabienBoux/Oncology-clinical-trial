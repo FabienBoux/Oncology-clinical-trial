{
 "cells": [
  {
   "cell_type": "markdown",
   "id": "5f43bc41-d301-4be7-a863-054461014ff8",
   "metadata": {},
   "source": [
    "# Follow-up\n",
    "\n",
    "This tab provides an overview of the clinical trial status, ie. number of patients, median follow-up times, total data, missing data, etc, and details by group. "
   ]
  },
  {
   "cell_type": "code",
   "execution_count": 1,
   "id": "a5b7f3fe",
   "metadata": {
    "jupyter": {
     "source_hidden": true
    },
    "tags": []
   },
   "outputs": [],
   "source": [
    "import os\n",
    "import sys\n",
    "sys.path.append(\"C:\\\\Users\\\\Fabien Boux\\\\Code\\\\ClinLib\")\n",
    "\n",
    "from functions.config import Config\n",
    "from clinlib.database import Database\n",
    "\n",
    "with open('init.txt') as f:\n",
    "    lines = f.readlines()\n",
    "config = Config(os.path.join('ini', lines[0]))\n",
    "config.read()\n",
    "\n",
    "database = Database(config.get_value('database', section='PATH'), idlength=(int(config.get_value('id_length', section='OTHER')) if config.is_key('id_length') else 3))\n",
    "database.add_resource({'metadata': os.path.join(config.get_value('database', section='PATH'), config.get_value('metadata', section='PATH'))})\n",
    "\n",
    "import ipywidgets as widgets\n",
    "from ipywidgets import interact, interactive\n",
    "import matplotlib.pyplot as plt\n",
    "from IPython.display import display\n"
   ]
  },
  {
   "cell_type": "code",
   "execution_count": 4,
   "id": "64ad2cdf",
   "metadata": {
    "jupyter": {
     "source_hidden": true
    },
    "tags": []
   },
   "outputs": [
    {
     "data": {
      "application/vnd.jupyter.widget-view+json": {
       "model_id": "a3cd26b8bccb4e21a2e15d27bc4e7d0a",
       "version_major": 2,
       "version_minor": 0
      },
      "text/plain": [
       "HBox(children=(FloatProgress(value=56.0, bar_style='info', description='Progress:', style=ProgressStyle(bar_co…"
      ]
     },
     "metadata": {},
     "output_type": "display_data"
    },
    {
     "data": {
      "text/html": [
       "<div>\n",
       "<style scoped>\n",
       "    .dataframe tbody tr th:only-of-type {\n",
       "        vertical-align: middle;\n",
       "    }\n",
       "\n",
       "    .dataframe tbody tr th {\n",
       "        vertical-align: top;\n",
       "    }\n",
       "\n",
       "    .dataframe thead th {\n",
       "        text-align: right;\n",
       "    }\n",
       "</style>\n",
       "<table border=\"1\" class=\"dataframe\">\n",
       "  <thead>\n",
       "    <tr style=\"text-align: right;\">\n",
       "      <th></th>\n",
       "      <th>AGuIX</th>\n",
       "      <th>WBRT</th>\n",
       "      <th>Overall</th>\n",
       "    </tr>\n",
       "  </thead>\n",
       "  <tbody>\n",
       "    <tr>\n",
       "      <th>Number of patients</th>\n",
       "      <td>28</td>\n",
       "      <td>28</td>\n",
       "      <td>56</td>\n",
       "    </tr>\n",
       "    <tr>\n",
       "      <th>including censored</th>\n",
       "      <td>16</td>\n",
       "      <td>13</td>\n",
       "      <td>29</td>\n",
       "    </tr>\n",
       "    <tr>\n",
       "      <th>Median follow-up (days)</th>\n",
       "      <td>157</td>\n",
       "      <td>142</td>\n",
       "      <td>155</td>\n",
       "    </tr>\n",
       "    <tr>\n",
       "      <th>Patient with data</th>\n",
       "      <td>23</td>\n",
       "      <td>24</td>\n",
       "      <td>47</td>\n",
       "    </tr>\n",
       "    <tr>\n",
       "      <th>Number of visits</th>\n",
       "      <td>114</td>\n",
       "      <td>82</td>\n",
       "      <td>196</td>\n",
       "    </tr>\n",
       "  </tbody>\n",
       "</table>\n",
       "</div>"
      ],
      "text/plain": [
       "                         AGuIX  WBRT  Overall\n",
       "Number of patients          28    28       56\n",
       "including censored          16    13       29\n",
       "Median follow-up (days)    157   142      155\n",
       "Patient with data           23    24       47\n",
       "Number of visits           114    82      196"
      ]
     },
     "metadata": {},
     "output_type": "display_data"
    }
   ],
   "source": [
    "import pandas as pd\n",
    "import numpy as np\n",
    "from datetime import datetime\n",
    "\n",
    "metadata = database.get_metadata(which='all')\n",
    "metadata = metadata.dropna(subset=['Patient', 'Group'])\n",
    "\n",
    "group = metadata['Group']\n",
    "group_labels = group.dropna().unique()\n",
    "\n",
    "df = pd.DataFrame([], columns=list(group_labels) + ['Overall'])\n",
    "\n",
    "df.loc['Number of patients'] = [(metadata['Group'] == g).sum() for g in group_labels] + [len(metadata['Group'])]\n",
    "df.loc['including censored'] = [metadata['End'][metadata['Group'] == g].isna().sum() for g in group_labels] + [metadata['End'].isna().sum()]\n",
    "\n",
    "metadata.loc[metadata['End'].isna(), 'End'] = datetime.now()\n",
    "metadata['End'] = metadata['End'].astype(metadata['Start'].dtypes)\n",
    "\n",
    "df.loc['Median follow-up (days)'] = [(metadata['End'][metadata['Group'] == g] - metadata['Start'][metadata['Group'] == g]).median().days for g in group_labels] + [(metadata['End'] - metadata['Start']).median().days]\n",
    "\n",
    "list_files = [f.split('.')[0] for f in os.listdir(database.folders['data']) if os.path.isfile(os.path.join(database.folders['data'], f))]\n",
    "for i in metadata.index:\n",
    "    if metadata.loc[i, 'Patient'] in list_files:\n",
    "        metadata.loc[i, 'File'] = True\n",
    "        \n",
    "        xls = pd.ExcelFile(os.path.join(database.folders['data'], metadata.loc[i, 'Patient'] + '.xlsx'))\n",
    "        visits = []\n",
    "        for sheet_name in xls.sheet_names:\n",
    "            if 'Session' in xls.parse(sheet_name).columns:\n",
    "                visits = visits + list(xls.parse(sheet_name)['Session'].unique())\n",
    "        metadata.loc[i, 'Visits'] = len(set(visits))\n",
    "        metadata.loc[i, 'Missing'] = 0\n",
    "    else:\n",
    "        metadata.loc[i, 'File'] = False\n",
    "        metadata.loc[i, 'Visits'] = 0\n",
    "        metadata.loc[i, 'Missing'] = 0\n",
    "        \n",
    "\n",
    "df.loc['Patient with data'] = [metadata['File'][metadata['Group'] == g].sum() for g in group_labels] + [metadata['File'].sum()]\n",
    "df.loc['Number of visits'] = [metadata['Visits'][metadata['Group'] == g].sum() for g in group_labels] + [metadata['Visits'].sum()]\n",
    "# df.loc['and missing visits'] = [metadata['Missing'][metadata['Group'] == g].sum() for g in group_labels] + [metadata['Missing'].sum()]\n",
    "\n",
    "if config.is_key('nb_patients'):\n",
    "    def hexcolor(value):\n",
    "        if value <= 50:\n",
    "            r, g, b = 255, int(255*value/50), 0\n",
    "        else:\n",
    "            r, g, b = int(255*(100-value)/50), 255, 0\n",
    "\n",
    "        return \"#%s%s%s\" % tuple([hex(c)[2:].rjust(2, \"0\") for c in (r, g, b)])\n",
    "    \n",
    "    prog_val = 100 * df.loc['Number of patients', 'Overall'] / float(config.get_value('nb_patients'))\n",
    "    progress = widgets.FloatProgress(\n",
    "        value=prog_val,\n",
    "        min=0, max=100,\n",
    "        description='Progress:',\n",
    "        bar_style='info',\n",
    "        style={'bar_color': hexcolor(prog_val)},\n",
    "        orientation='horizontal')\n",
    "    \n",
    "\n",
    "    display(widgets.HBox([progress, widgets.Label(value=\"{}% of patients recruited.\".format(round(prog_val)))]))\n",
    "    \n",
    "def df_style(val):\n",
    "    return \"font-weight: bold\"\n",
    "\n",
    "df = df.astype(int)\n",
    "df.style.applymap(df_style, subset='Overall')\n",
    "\n",
    "display(df)"
   ]
  },
  {
   "cell_type": "markdown",
   "id": "63dcf16b-e44c-4cc8-8449-9c13e396819c",
   "metadata": {},
   "source": [
    "The following plot is a *swimmer plot*. This graph allows a fast overview of all data, it combines time-to-event (patient's treatment, death or end of the follow-up) and imaging (via lesion evolutions if available).\n",
    "Note that some variables used in this graph can be defined in the ```Configuration``` tab (the follow-up time, list of potential visits, etc). If these options are missing, the graph only contains the time-related data."
   ]
  },
  {
   "cell_type": "code",
   "execution_count": 3,
   "id": "1633dbe2",
   "metadata": {
    "jupyter": {
     "source_hidden": true
    },
    "scrolled": false,
    "tags": []
   },
   "outputs": [
    {
     "name": "stderr",
     "output_type": "stream",
     "text": [
      "C:\\ProgramData\\Anaconda3\\envs\\NanoRad\\lib\\site-packages\\statsmodels\\compat\\pandas.py:61: FutureWarning: pandas.Int64Index is deprecated and will be removed from pandas in a future version. Use pandas.Index with the appropriate dtype instead.\n",
      "  from pandas import Int64Index as NumericIndex\n"
     ]
    },
    {
     "data": {
      "application/vnd.jupyter.widget-view+json": {
       "model_id": "f8629fd9da6247e0abd6779a1cb68a28",
       "version_major": 2,
       "version_minor": 0
      },
      "text/plain": [
       "interactive(children=(Dropdown(description='Groupby', options=('None', 'Age', 'Birth date', 'Cancer type', 'Ca…"
      ]
     },
     "metadata": {},
     "output_type": "display_data"
    }
   ],
   "source": [
    "%matplotlib widget\n",
    "\n",
    "from functions.graph import swimmer_plot\n",
    "\n",
    "followup = (float(config.get_value('followup')) / (365 / 12) if config.is_key('followup') else None)\n",
    "visits = (config.get_value('visits') if config.is_key('visits') else  None)\n",
    "metric = (config.get_value('volume_label') if config.is_key('volume_label') else 'Volume')\n",
    "groups = (config.get_value('groups') if config.is_key('groups') else None)\n",
    "if config.is_key('list_metadata'):\n",
    "    list_metadata = config.get_value('list_metadata')\n",
    "else:\n",
    "    list_metadata = config.extract_config_values('list_metadata')\n",
    "\n",
    "def plot_swimmer(Groupby='None'):    \n",
    "    if Groupby == 'None':\n",
    "        Groupby = None\n",
    "    \n",
    "    swimmer_plot(database, followup_time=followup, followup_visits=visits, metric=metric, groups=groups, groupby=Groupby)\n",
    "    plt.show()\n",
    "    \n",
    "interactive(plot_swimmer, Groupby=['None'] + sorted(list_metadata))"
   ]
  }
 ],
 "metadata": {
  "hide_input": true,
  "kernelspec": {
   "display_name": "Python 3 (ipykernel)",
   "language": "python",
   "name": "python3"
  },
  "language_info": {
   "codemirror_mode": {
    "name": "ipython",
    "version": 3
   },
   "file_extension": ".py",
   "mimetype": "text/x-python",
   "name": "python",
   "nbconvert_exporter": "python",
   "pygments_lexer": "ipython3",
   "version": "3.9.7"
  },
  "widgets": {
   "application/vnd.jupyter.widget-state+json": {
    "state": {},
    "version_major": 2,
    "version_minor": 0
   }
  }
 },
 "nbformat": 4,
 "nbformat_minor": 5
}
