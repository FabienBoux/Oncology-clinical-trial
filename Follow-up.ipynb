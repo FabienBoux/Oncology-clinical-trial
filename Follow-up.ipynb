{
 "cells": [
  {
   "cell_type": "markdown",
   "id": "5f43bc41-d301-4be7-a863-054461014ff8",
   "metadata": {},
   "source": [
    "# Follow-up\n",
    "\n",
    "This tab provides an overview of the clinical trial status, ie. number of patients, median follow-up times, total data, missing data, etc."
   ]
  },
  {
   "cell_type": "code",
   "execution_count": null,
   "id": "7d2afaea-bda9-454f-b3a1-f8f4e732c3b3",
   "metadata": {},
   "outputs": [],
   "source": []
  }
 ],
 "metadata": {
  "kernelspec": {
   "display_name": "Python 3 (ipykernel)",
   "language": "python",
   "name": "python3"
  },
  "language_info": {
   "codemirror_mode": {
    "name": "ipython",
    "version": 3
   },
   "file_extension": ".py",
   "mimetype": "text/x-python",
   "name": "python",
   "nbconvert_exporter": "python",
   "pygments_lexer": "ipython3",
   "version": "3.9.9"
  },
  "widgets": {
   "application/vnd.jupyter.widget-state+json": {
    "state": {},
    "version_major": 2,
    "version_minor": 0
   }
  }
 },
 "nbformat": 4,
 "nbformat_minor": 5
}
