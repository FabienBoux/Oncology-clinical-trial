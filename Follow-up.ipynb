{
 "cells": [
  {
   "cell_type": "markdown",
   "id": "5f43bc41-d301-4be7-a863-054461014ff8",
   "metadata": {},
   "source": [
    "# Follow-up\n",
    "\n",
    "This tab provides an overview of the clinical trial status, ie. number of patients, median follow-up times, total data, missing data, etc, and details by group. "
   ]
  },
  {
   "cell_type": "code",
   "execution_count": 1,
   "id": "a5b7f3fe",
   "metadata": {
    "jupyter": {
     "source_hidden": true
    },
    "tags": []
   },
   "outputs": [],
   "source": [
    "import os\n",
    "import sys\n",
    "sys.path.append(\"C:\\\\Users\\\\Fabien Boux\\\\Code\\\\ClinLib\")\n",
    "\n",
    "from functions.config import Config\n",
    "from clinlib.database import Database\n",
    "\n",
    "with open('init.txt') as f:\n",
    "    lines = f.readlines()\n",
    "config = Config(os.path.join('ini', lines[0]))\n",
    "config.read()\n",
    "\n",
    "database = Database(config.get_value('database', section='PATH'), idlength=(int(config.get_value('id_length', section='OTHER')) if config.is_key('id_length') else 3))\n",
    "database.add_resource({'metadata': os.path.join(config.get_value('database', section='PATH'), config.get_value('metadata', section='PATH'))})\n",
    "\n",
    "import ipywidgets as widgets\n",
    "from ipywidgets import interact, interactive\n",
    "import matplotlib.pyplot as plt\n",
    "from IPython.display import display\n"
   ]
  },
  {
   "cell_type": "code",
   "execution_count": 2,
   "id": "64ad2cdf",
   "metadata": {
    "jupyter": {
     "source_hidden": true
    },
    "tags": []
   },
   "outputs": [
    {
     "data": {
      "text/html": [
       "<style type=\"text/css\">\n",
       "#T_2ac29_row0_col1, #T_2ac29_row1_col1, #T_2ac29_row2_col1, #T_2ac29_row3_col1, #T_2ac29_row4_col1 {\n",
       "  font-weight: bold;\n",
       "}\n",
       "</style>\n",
       "<table id=\"T_2ac29\">\n",
       "  <thead>\n",
       "    <tr>\n",
       "      <th class=\"blank level0\" >&nbsp;</th>\n",
       "      <th id=\"T_2ac29_level0_col0\" class=\"col_heading level0 col0\" >75 mg/kg</th>\n",
       "      <th id=\"T_2ac29_level0_col1\" class=\"col_heading level0 col1\" >Overall</th>\n",
       "    </tr>\n",
       "  </thead>\n",
       "  <tbody>\n",
       "    <tr>\n",
       "      <th id=\"T_2ac29_level0_row0\" class=\"row_heading level0 row0\" >Number of patients</th>\n",
       "      <td id=\"T_2ac29_row0_col0\" class=\"data row0 col0\" >12</td>\n",
       "      <td id=\"T_2ac29_row0_col1\" class=\"data row0 col1\" >12</td>\n",
       "    </tr>\n",
       "    <tr>\n",
       "      <th id=\"T_2ac29_level0_row1\" class=\"row_heading level0 row1\" >including censored</th>\n",
       "      <td id=\"T_2ac29_row1_col0\" class=\"data row1 col0\" >12</td>\n",
       "      <td id=\"T_2ac29_row1_col1\" class=\"data row1 col1\" >12</td>\n",
       "    </tr>\n",
       "    <tr>\n",
       "      <th id=\"T_2ac29_level0_row2\" class=\"row_heading level0 row2\" >Median follow-up (days)</th>\n",
       "      <td id=\"T_2ac29_row2_col0\" class=\"data row2 col0\" >120</td>\n",
       "      <td id=\"T_2ac29_row2_col1\" class=\"data row2 col1\" >120</td>\n",
       "    </tr>\n",
       "    <tr>\n",
       "      <th id=\"T_2ac29_level0_row3\" class=\"row_heading level0 row3\" >Patient with data</th>\n",
       "      <td id=\"T_2ac29_row3_col0\" class=\"data row3 col0\" >0</td>\n",
       "      <td id=\"T_2ac29_row3_col1\" class=\"data row3 col1\" >0</td>\n",
       "    </tr>\n",
       "    <tr>\n",
       "      <th id=\"T_2ac29_level0_row4\" class=\"row_heading level0 row4\" >Number of visits</th>\n",
       "      <td id=\"T_2ac29_row4_col0\" class=\"data row4 col0\" >0</td>\n",
       "      <td id=\"T_2ac29_row4_col1\" class=\"data row4 col1\" >0</td>\n",
       "    </tr>\n",
       "  </tbody>\n",
       "</table>\n"
      ],
      "text/plain": [
       "<pandas.io.formats.style.Styler at 0x2366008f610>"
      ]
     },
     "execution_count": 2,
     "metadata": {},
     "output_type": "execute_result"
    }
   ],
   "source": [
    "import pandas as pd\n",
    "import numpy as np\n",
    "from datetime import datetime\n",
    "\n",
    "metadata = database.get_metadata(which='all')\n",
    "metadata = metadata.dropna(subset=['Patient', 'Group'])\n",
    "\n",
    "group = metadata['Group']\n",
    "group_labels = group.dropna().unique()\n",
    "\n",
    "df = pd.DataFrame([], columns=list(group_labels) + ['Overall'])\n",
    "\n",
    "df.loc['Number of patients'] = [(metadata['Group'] == g).sum() for g in group_labels] + [len(metadata['Group'])]\n",
    "df.loc['including censored'] = [metadata['End'][metadata['Group'] == g].isna().sum() for g in group_labels] + [metadata['End'].isna().sum()]\n",
    "\n",
    "metadata.loc[metadata['End'].isna(), 'End'] = datetime.now()\n",
    "metadata['End'] = metadata['End'].astype(metadata['Start'].dtypes)\n",
    "\n",
    "df.loc['Median follow-up (days)'] = [(metadata['End'][metadata['Group'] == g] - metadata['Start'][metadata['Group'] == g]).median().days for g in group_labels] + [(metadata['End'] - metadata['Start']).median().days]\n",
    "\n",
    "list_files = [f.split('.')[0] for f in os.listdir(database.folders['data']) if os.path.isfile(os.path.join(database.folders['data'], f))]\n",
    "for i in metadata.index:\n",
    "    if metadata.loc[i, 'Patient'] in list_files:\n",
    "        metadata.loc[i, 'File'] = True\n",
    "        \n",
    "        xls = pd.ExcelFile(os.path.join(database.folders['data'], metadata.loc[i, 'Patient'] + '.xlsx'))\n",
    "        visits = []\n",
    "        for sheet_name in xls.sheet_names:\n",
    "            if 'Session' in xls.parse(sheet_name).columns:\n",
    "                visits = visits + list(xls.parse(sheet_name)['Session'].unique())\n",
    "        metadata.loc[i, 'Visits'] = len(set(visits))\n",
    "        metadata.loc[i, 'Missing'] = 0\n",
    "    else:\n",
    "        metadata.loc[i, 'File'] = False\n",
    "        metadata.loc[i, 'Visits'] = 0\n",
    "        metadata.loc[i, 'Missing'] = 0\n",
    "        \n",
    "\n",
    "df.loc['Patient with data'] = [metadata['File'][metadata['Group'] == g].sum() for g in group_labels] + [metadata['File'].sum()]\n",
    "df.loc['Number of visits'] = [metadata['Visits'][metadata['Group'] == g].sum() for g in group_labels] + [metadata['Visits'].sum()]\n",
    "# df.loc['and missing visits'] = [metadata['Missing'][metadata['Group'] == g].sum() for g in group_labels] + [metadata['Missing'].sum()]\n",
    "\n",
    "def df_style(val):\n",
    "    return \"font-weight: bold\"\n",
    "\n",
    "df = df.astype(int)\n",
    "df.style.applymap(df_style, subset='Overall')"
   ]
  },
  {
   "cell_type": "markdown",
   "id": "63dcf16b-e44c-4cc8-8449-9c13e396819c",
   "metadata": {},
   "source": [
    "The following plot is a *swimmer plot*. This graph allows a fast overview of all data, it combines time-to-event (patient's treatment, death or end of the follow-up) and imaging (via lesion evolutions if available).\n",
    "Note that some variables used in this graph can be defined in the ```Configuration``` tab (the follow-up time, list of potential visits, etc). If these options are missing, the graph only contains the time-related data."
   ]
  },
  {
   "cell_type": "code",
   "execution_count": 5,
   "id": "1633dbe2",
   "metadata": {
    "jupyter": {
     "source_hidden": true
    },
    "scrolled": true,
    "tags": []
   },
   "outputs": [
    {
     "data": {
      "application/vnd.jupyter.widget-view+json": {
       "model_id": "26bce4ebfae94a16aa34383f005ea9f1",
       "version_major": 2,
       "version_minor": 0
      },
      "text/plain": [
       "interactive(children=(Dropdown(description='Groupby', options=('None', 'Phase', 'Arm', 'Cancer', 'Center', 'Ge…"
      ]
     },
     "metadata": {},
     "output_type": "display_data"
    }
   ],
   "source": [
    "%matplotlib widget\n",
    "\n",
    "from functions.graph import swimmer_plot\n",
    "\n",
    "followup = (float(config.get_value('followup')) / (365 / 12) if config.is_key('followup') else None)\n",
    "visits = (config.get_value('visits') if config.is_key('visits') else  None)\n",
    "metric = (config.get_value('volume_label') if config.is_key('volume_label') else 'Volume')\n",
    "groups = (config.get_value('groups') if config.is_key('groups') else None)\n",
    "if config.is_key('list_metadata'):\n",
    "    list_metadata = config.get_value('list_metadata')\n",
    "else:\n",
    "    list_metadata = config.extract_config_values('list_metadata')\n",
    "\n",
    "def plot_swimmer(Groupby='None'):    \n",
    "    if Groupby == 'None':\n",
    "        Groupby = None\n",
    "    \n",
    "    swimmer_plot(database, followup_time=followup, followup_visits=visits, metric=metric, groups=groups, groupby=Groupby)\n",
    "    plt.show()\n",
    "    \n",
    "interactive(plot_swimmer, Groupby=['None'] + list_metadata)\n"
   ]
  }
 ],
 "metadata": {
  "hide_input": true,
  "kernelspec": {
   "display_name": "Python 3 (ipykernel)",
   "language": "python",
   "name": "python3"
  },
  "language_info": {
   "codemirror_mode": {
    "name": "ipython",
    "version": 3
   },
   "file_extension": ".py",
   "mimetype": "text/x-python",
   "name": "python",
   "nbconvert_exporter": "python",
   "pygments_lexer": "ipython3",
   "version": "3.9.7"
  },
  "widgets": {
   "application/vnd.jupyter.widget-state+json": {
    "state": {},
    "version_major": 2,
    "version_minor": 0
   }
  }
 },
 "nbformat": 4,
 "nbformat_minor": 5
}
