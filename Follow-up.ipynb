{
 "cells": [
  {
   "cell_type": "markdown",
   "id": "5f43bc41-d301-4be7-a863-054461014ff8",
   "metadata": {},
   "source": [
    "# Follow-up\n",
    "\n",
    "This tab provides an overview of the clinical trial status, i.e. number of patients, median follow-up times, total data, missing data, etc., and details by group. "
   ]
  },
  {
   "cell_type": "code",
   "execution_count": 1,
   "id": "7d2afaea-bda9-454f-b3a1-f8f4e732c3b3",
   "metadata": {
    "jupyter": {
     "source_hidden": true
    },
    "tags": []
   },
   "outputs": [],
   "source": [
    "import os\n",
    "import sys\n",
    "sys.path.append(\"C:\\\\Users\\\\Fabien Boux\\\\Code\\\\ClinLib\")\n",
    "\n",
    "from functions.config import Config\n",
    "from clinlib.database import Database\n",
    "\n",
    "with open('init.txt') as f:\n",
    "    lines = f.readlines()\n",
    "config = Config(lines[0])\n",
    "config.read()\n",
    "\n",
    "database = Database(config.get_value('database', section='PATH'), idlength=(int(config.get_value('id_length', section='OTHER')) if config.is_key('id_length') else 3))\n",
    "database.add_resource({'metadata': os.path.join(config.get_value('database', section='PATH'), config.get_value('metadata', section='PATH'))})\n",
    "\n",
    "import ipywidgets as widgets\n",
    "from ipywidgets import interact, interactive\n",
    "import matplotlib.pyplot as plt\n",
    "from IPython.display import display"
   ]
  },
  {
   "cell_type": "code",
   "execution_count": null,
   "id": "d2f5ec31-4923-4792-9a14-f79f06dc93b6",
   "metadata": {
    "jupyter": {
     "source_hidden": true
    },
    "tags": []
   },
   "outputs": [],
   "source": [
    "import pandas as pd\n",
    "import numpy as np\n",
    "\n",
    "metadata = database.get_metadata(which='all')\n",
    "\n",
    "group = metadata['Group']\n",
    "group_labels = group.dropna().unique()\n",
    "\n",
    "df = pd.DataFrame([], columns=list(group_labels) + ['Overall'])\n",
    "\n",
    "df.loc['Number of patients'] = [(metadata['Group'] == g).sum() for g in group_labels] + [len(metadata['Group'])]\n",
    "df.loc['including censored'] = [metadata['End'][metadata['Group'] == g].isna().sum() for g in group_labels] + [metadata['End'].isna().sum()]\n",
    "df.loc['Median follow-up (days)'] = [(metadata['End'][metadata['Group'] == g] - metadata['Start'][metadata['Group'] == g]).median().days for g in group_labels] + [(metadata['End'] - metadata['Start']).median().days]\n",
    "\n",
    "list_files = [f.split('.')[0] for f in os.listdir(database.folders['data']) if os.path.isfile(os.path.join(database.folders['data'], f))]\n",
    "for i in metadata.index:\n",
    "    if metadata.loc[i, 'Patient'] in list_files:\n",
    "        metadata.loc[i, 'File'] = True\n",
    "        \n",
    "        xls = pd.ExcelFile(os.path.join(database.folders['data'], metadata.loc[i, 'Patient'] + '.xlsx'))\n",
    "        visits = []\n",
    "        for sheet_name in xls.sheet_names:\n",
    "            if 'Session' in xls.parse(sheet_name).columns:\n",
    "                visits = visits + list(xls.parse(sheet_name)['Session'].unique())\n",
    "        metadata.loc[i, 'Visits'] = len(set(visits))\n",
    "        metadata.loc[i, 'Missing'] = 0\n",
    "    else:\n",
    "        metadata.loc[i, 'File'] = False\n",
    "        metadata.loc[i, 'Visits'] = 0\n",
    "        metadata.loc[i, 'Missing'] = 0\n",
    "        \n",
    "\n",
    "df.loc['Patient with data'] = [metadata['File'][metadata['Group'] == g].sum() for g in group_labels] + [metadata['File'].sum()]\n",
    "df.loc['Number of visits'] = [metadata['Visits'][metadata['Group'] == g].sum() for g in group_labels] + [metadata['Visits'].sum()]\n",
    "df.loc['and missing visits'] = [metadata['Missing'][metadata['Group'] == g].sum() for g in group_labels] + [metadata['Missing'].sum()]\n",
    "\n",
    "def df_style(val):\n",
    "    return \"font-weight: bold\"\n",
    "\n",
    "df = df.astype(int)\n",
    "df.style.applymap(df_style, subset='Overall')"
   ]
  },
  {
   "cell_type": "markdown",
   "id": "63dcf16b-e44c-4cc8-8449-9c13e396819c",
   "metadata": {},
   "source": [
    "The following plot is a *swimmer plot*. This graph allows a fast overview of all data, it combines time-to-event (patient's treatment, death or end of the follow-up) and imaging (via lesion evolutions if available).\n",
    "Note that some variables used in this graph can be defined in the ```Configuration``` tab (the follow-up time, list of potential visits, etc). If these options are missing, the graph only contains the time-related data."
   ]
  },
  {
   "cell_type": "code",
   "execution_count": null,
   "id": "10c7648d-5f84-4994-9f3d-b2a03bc7232e",
   "metadata": {
    "jupyter": {
     "source_hidden": true
    },
    "scrolled": false,
    "tags": []
   },
   "outputs": [],
   "source": [
    "%matplotlib widget\n",
    "\n",
    "from functions.graph import swimmer_plot\n",
    "\n",
    "followup = (float(config.get_value('followup')) / (365 / 12) if config.is_key('followup') else None)\n",
    "visits = (config.get_value('visits') if config.is_key('visits') else  None)\n",
    "metric = (config.get_value('volume_label') if config.is_key('volume_label') else 'Volume')\n",
    "groups = (config.get_value('groups') if config.is_key('groups') else None)\n",
    "    \n",
    "swimmer_plot(database, followup_time=followup, followup_visits=visits, metric=metric, groups=groups);"
   ]
  }
 ],
 "metadata": {
  "hide_input": false,
  "kernelspec": {
   "display_name": "Python 3 (ipykernel)",
   "language": "python",
   "name": "python3"
  },
  "language_info": {
   "codemirror_mode": {
    "name": "ipython",
    "version": 3
   },
   "file_extension": ".py",
   "mimetype": "text/x-python",
   "name": "python",
   "nbconvert_exporter": "python",
   "pygments_lexer": "ipython3",
   "version": "3.9.10"
  },
  "widgets": {
   "application/vnd.jupyter.widget-state+json": {
    "state": {},
    "version_major": 2,
    "version_minor": 0
   }
  }
 },
 "nbformat": 4,
 "nbformat_minor": 5
}
