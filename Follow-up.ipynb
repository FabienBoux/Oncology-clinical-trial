{
 "cells": [
  {
   "cell_type": "markdown",
   "id": "5f43bc41-d301-4be7-a863-054461014ff8",
   "metadata": {},
   "source": [
    "# Follow-up\n",
    "\n",
    "This tab provides an overview of the clinical trial status, ie. number of patients, median follow-up times, total data, missing data, etc."
   ]
  },
  {
   "cell_type": "code",
   "execution_count": null,
   "id": "7d2afaea-bda9-454f-b3a1-f8f4e732c3b3",
   "metadata": {
    "jupyter": {
     "source_hidden": true
    },
    "tags": []
   },
   "outputs": [],
   "source": [
    "import os\n",
    "import sys\n",
    "sys.path.append(\"C:\\\\Users\\\\Fabien Boux\\\\Code\\\\ClinLib\")\n",
    "\n",
    "from functions.config import Config\n",
    "config = Config()\n",
    "config.read()\n",
    "\n",
    "from clinlib.database import Database\n",
    "database = Database(config.get_value('database', section='PATH'), idlength=3)\n",
    "database.add_resource({'metadata': os.path.join(config.get_value('database', section='PATH'), config.get_value('metadata', section='PATH'))})"
   ]
  },
  {
   "cell_type": "code",
   "execution_count": null,
   "id": "d2f5ec31-4923-4792-9a14-f79f06dc93b6",
   "metadata": {
    "jupyter": {
     "source_hidden": true
    },
    "tags": []
   },
   "outputs": [],
   "source": [
    "import pandas as pd\n",
    "import numpy as np\n",
    "\n",
    "metadata = database.get_metadata(which='all')\n",
    "\n",
    "group = metadata['Group']\n",
    "group_labels = group.unique()\n",
    "\n",
    "df = pd.DataFrame([], columns=list(group_labels) + ['Overall'])\n",
    "\n",
    "df.loc['Number of patients'] = [(metadata['Group'] == g).sum() for g in group_labels] + [len(metadata['Group'])]\n",
    "df.loc['Median follow-up (days)'] = [(metadata['End'][metadata['Group'] == g] - metadata['Start'][metadata['Group'] == g]).median().days for g in group_labels] + [(metadata['End'] - metadata['Start']).median().days]\n",
    "\n",
    "df"
   ]
  },
  {
   "cell_type": "markdown",
   "id": "63dcf16b-e44c-4cc8-8449-9c13e396819c",
   "metadata": {},
   "source": [
    "The following plot is a *swimmer plot*. This graph allows a fast overview of all data, it combines time to event (patient's treatment, death or end of the follow-up) and imaging (via lesion evolutions if available).\n",
    "Note that some variables used in this graph can be defined in the ```Configuration``` tab (the follow-up time, list of potential visits, ...)."
   ]
  },
  {
   "cell_type": "code",
   "execution_count": null,
   "id": "10c7648d-5f84-4994-9f3d-b2a03bc7232e",
   "metadata": {
    "jupyter": {
     "source_hidden": true
    },
    "tags": []
   },
   "outputs": [],
   "source": [
    "from functions.graph import swimmer_plot\n",
    "\n",
    "if config.is_key('followup_time'):\n",
    "    followup_time = config.get_value('followup_time')\n",
    "else:\n",
    "    followup_time = 12\n",
    "if config.is_key('followup_visits'):\n",
    "    followup_visits = config.get_value('followup_visits')\n",
    "else:\n",
    "    followup_visits = None\n",
    "\n",
    "swimmer_plot(database, followup_time=followup_time, followup_visits=followup_visits);"
   ]
  }
 ],
 "metadata": {
  "kernelspec": {
   "display_name": "Python 3 (ipykernel)",
   "language": "python",
   "name": "python3"
  },
  "language_info": {
   "codemirror_mode": {
    "name": "ipython",
    "version": 3
   },
   "file_extension": ".py",
   "mimetype": "text/x-python",
   "name": "python",
   "nbconvert_exporter": "python",
   "pygments_lexer": "ipython3",
   "version": "3.9.9"
  },
  "widgets": {
   "application/vnd.jupyter.widget-state+json": {
    "state": {},
    "version_major": 2,
    "version_minor": 0
   }
  }
 },
 "nbformat": 4,
 "nbformat_minor": 5
}
