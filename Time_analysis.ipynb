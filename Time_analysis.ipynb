{
 "cells": [
  {
   "cell_type": "markdown",
   "id": "4815675b",
   "metadata": {},
   "source": [
    "# Time to event analysis\n",
    "\n",
    "This tab aims to investigate the impact of the treatment on the risk of an event occurring (often tumor progression or unfortunately death of the patient).\n",
    "\n",
    "The most common graph is the representation of Kaplan-Meier curves. An important advantage of the Kaplan–Meier curve is that the method can take into account some types of censored data. This representation is completed with a statistical test (e.g., log-rank test) for significance investigation."
   ]
  },
  {
   "cell_type": "code",
   "execution_count": 1,
   "id": "344d8af3",
   "metadata": {
    "jupyter": {
     "source_hidden": true
    },
    "tags": []
   },
   "outputs": [],
   "source": [
    "import os\n",
    "import sys\n",
    "sys.path.append(\"C:\\\\Users\\\\Fabien Boux\\\\Code\\\\ClinLib\")\n",
    "\n",
    "from functions.config import Config\n",
    "config = Config()\n",
    "config.read()\n",
    "\n",
    "from clinlib.database import Database\n",
    "database = Database(config.get_value('database', section='PATH'), idlength=3)\n",
    "database.add_resource({'metadata': os.path.join(config.get_value('database', section='PATH'), config.get_value('metadata', section='PATH'))})\n",
    "\n",
    "import ipywidgets as widgets\n",
    "from ipywidgets import interact, interactive\n",
    "import matplotlib.pyplot as plt\n",
    "from IPython.display import display"
   ]
  },
  {
   "cell_type": "code",
   "execution_count": 2,
   "id": "e8b7c9bb",
   "metadata": {
    "tags": []
   },
   "outputs": [
    {
     "name": "stderr",
     "output_type": "stream",
     "text": [
      "C:\\ProgramData\\Anaconda3\\envs\\NanoRad\\lib\\site-packages\\statsmodels\\compat\\pandas.py:65: FutureWarning: pandas.Int64Index is deprecated and will be removed from pandas in a future version. Use pandas.Index with the appropriate dtype instead.\n",
      "  from pandas import Int64Index as NumericIndex\n"
     ]
    },
    {
     "data": {
      "application/vnd.jupyter.widget-view+json": {
       "model_id": "7b53041a35dc46cd82ca5dede1637b8d",
       "version_major": 2,
       "version_minor": 0
      },
      "text/plain": [
       "interactive(children=(Dropdown(description='Event', options=('OS', 'PFS', 'PFS (adjusted)'), value='OS'), IntS…"
      ]
     },
     "metadata": {},
     "output_type": "display_data"
    }
   ],
   "source": [
    "%matplotlib widget\n",
    "\n",
    "from functions.graph import kaplan_meier_plot\n",
    "\n",
    "if not config.is_key('followup'):\n",
    "    config.extract_config_values('followup')\n",
    "followup = int(int(config.get_value('followup')) / (365/12))\n",
    "\n",
    "def plot_km(Event='OS', Followup=followup):\n",
    "    if Event == 'PFS (adjusted)':\n",
    "        if config.is_key('visits'):\n",
    "            fig = kaplan_meier_plot(database, event='PFS', adjust_ipfs=True, visits=config.get_value('followup_visits'), followup_time=Followup)\n",
    "    else:\n",
    "        fig = kaplan_meier_plot(database, event=Event, followup_time=Followup)\n",
    "            \n",
    "    plt.show()\n",
    "\n",
    "interact(plot_km, Event=['OS', 'PFS', 'PFS (adjusted)'], Followup=(0, round(followup*1.5), 1));"
   ]
  }
 ],
 "metadata": {
  "hide_input": true,
  "kernelspec": {
   "display_name": "Python 3 (ipykernel)",
   "language": "python",
   "name": "python3"
  },
  "language_info": {
   "codemirror_mode": {
    "name": "ipython",
    "version": 3
   },
   "file_extension": ".py",
   "mimetype": "text/x-python",
   "name": "python",
   "nbconvert_exporter": "python",
   "pygments_lexer": "ipython3",
   "version": "3.9.10"
  },
  "widgets": {
   "application/vnd.jupyter.widget-state+json": {
    "state": {},
    "version_major": 2,
    "version_minor": 0
   }
  }
 },
 "nbformat": 4,
 "nbformat_minor": 5
}
