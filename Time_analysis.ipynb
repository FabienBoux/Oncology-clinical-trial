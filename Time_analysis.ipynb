{
 "cells": [
  {
   "cell_type": "markdown",
   "id": "4815675b",
   "metadata": {},
   "source": [
    "# Time to event analysis\n",
    "\n",
    "This tab aims to investigate the impact of the treatment on the risk of an event occurring (often tumor progression or unfortunately death of the patient).\n",
    "\n",
    "The most common graph is the representation of Kaplan-Meier curves. An important advantage of the Kaplan–Meier curve is that the method can take into account some types of censored data. This representation is completed with a statistical test (eg. log-rank test) for significance investigation."
   ]
  },
  {
   "cell_type": "code",
   "execution_count": 1,
   "id": "344d8af3",
   "metadata": {},
   "outputs": [],
   "source": [
    "import os\n",
    "import sys\n",
    "sys.path.append(\"C:\\\\Users\\\\Fabien Boux\\\\Code\\\\ClinLib\")\n",
    "\n",
    "from functions.config import Config\n",
    "config = Config()\n",
    "config.read()\n",
    "\n",
    "from clinlib.database import Database\n",
    "database = Database(config.get_value('database', section='PATH'), idlength=3)\n",
    "database.add_resource({'metadata': os.path.join(config.get_value('database', section='PATH'), config.get_value('metadata', section='PATH'))})\n",
    "\n",
    "import ipywidgets as widgets"
   ]
  },
  {
   "cell_type": "code",
   "execution_count": 2,
   "id": "5a69693a",
   "metadata": {},
   "outputs": [
    {
     "data": {
      "application/vnd.jupyter.widget-view+json": {
       "model_id": "70e6f9b8c22b4107a770f1a3c1d92751",
       "version_major": 2,
       "version_minor": 0
      },
      "text/plain": [
       "interactive(children=(Dropdown(description='Event', options=('OS', 'PFS'), value='OS'), Output()), _dom_classe…"
      ]
     },
     "metadata": {},
     "output_type": "display_data"
    }
   ],
   "source": [
    "%matplotlib notebook\n",
    "\n",
    "import matplotlib.pyplot as plt\n",
    "import pandas as pd\n",
    "pd.options.plotting.backend = \"matplotlib\"\n",
    "\n",
    "from ipywidgets import interact\n",
    "from functions.graph import kaplan_meier_plot\n",
    "\n",
    "def plot_km(Event='OS'):\n",
    "    fig = kaplan_meier_plot(database, event=Event)\n",
    "\n",
    "interact(plot_km, Event=['OS', 'PFS']);"
   ]
  }
 ],
 "metadata": {
  "kernelspec": {
   "display_name": "Python 3 (ipykernel)",
   "language": "python",
   "name": "python3"
  },
  "language_info": {
   "codemirror_mode": {
    "name": "ipython",
    "version": 3
   },
   "file_extension": ".py",
   "mimetype": "text/x-python",
   "name": "python",
   "nbconvert_exporter": "python",
   "pygments_lexer": "ipython3",
   "version": "3.9.9"
  }
 },
 "nbformat": 4,
 "nbformat_minor": 5
}
