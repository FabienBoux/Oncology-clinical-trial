{
 "cells": [
  {
   "cell_type": "markdown",
   "id": "49c9a9ac",
   "metadata": {},
   "source": [
    "# Projection and design\n",
    "\n",
    "In this tab, the results of the clinical trial (ongoing or ended) are used to design a next phase and particularly the sample size. For on going clinical trial, one can also find a Bayesian approach (section 2) that can be used to interim monitoring in clinical trials."
   ]
  },
  {
   "cell_type": "markdown",
   "id": "5959eb43",
   "metadata": {},
   "source": [
    "## 1. Analysis sample size\n",
    "\n",
    "Based on the summary of [[1]](https://www.statsdirect.com/help/sample_size/survival.htm) of the works of [[2]](https://www.sciencedirect.com/science/article/abs/pii/019724569090005M) and [[3]](https://www.jstor.org/stable/2530299), a table of sample sizes is proposed with several two side type I ($\\alpha$) and type II ($\\beta$) error values. The usual values are $\\alpha$ = 0.05  and $\\beta$ = 0.2. Note that in the table (*rows*) are provided the power that corresponds to 1 - $\\beta$.\n",
    "\n",
    "The method used here is suitable for calculating sample sizes for studies that will be analyzed by the log-rank test."
   ]
  },
  {
   "cell_type": "code",
   "execution_count": 1,
   "id": "8d153dd4",
   "metadata": {},
   "outputs": [],
   "source": [
    "import os\n",
    "import sys\n",
    "sys.path.append(\"C:\\\\Users\\\\Fabien Boux\\\\Code\\\\ClinLib\")\n",
    "\n",
    "from functions.config import Config\n",
    "from clinlib.database import Database\n",
    "\n",
    "with open('init.txt') as f:\n",
    "    lines = f.readlines()\n",
    "config = Config(lines[0])\n",
    "config.read()\n",
    "\n",
    "database = Database(config.get_value('database', section='PATH'), idlength=(int(config.get_value('id_length', section='OTHER')) if config.is_key('id_length') else 3))\n",
    "database.add_resource({'metadata': os.path.join(config.get_value('database', section='PATH'), config.get_value('metadata', section='PATH'))})\n",
    "\n",
    "import ipywidgets as widgets\n",
    "from ipywidgets import interact, interactive\n",
    "import matplotlib.pyplot as plt\n",
    "from IPython.display import display"
   ]
  },
  {
   "cell_type": "code",
   "execution_count": 2,
   "id": "35befb30",
   "metadata": {
    "scrolled": true
   },
   "outputs": [
    {
     "data": {
      "application/vnd.jupyter.widget-view+json": {
       "model_id": "a7ba79edc373468894ba7851187d930f",
       "version_major": 2,
       "version_minor": 0
      },
      "text/plain": [
       "interactive(children=(Dropdown(description='Event', options=('OS', 'PFS', 'PFS (adjusted)'), value='OS'), Drop…"
      ]
     },
     "metadata": {},
     "output_type": "display_data"
    }
   ],
   "source": [
    "%matplotlib widget\n",
    "\n",
    "from functions.table import sample_size_table\n",
    "\n",
    "if not config.is_key('followup'):\n",
    "    config.extract_config_values('followup')\n",
    "followup = int(int(config.get_value('followup')) / (365/12))\n",
    "\n",
    "metric = (config.get_value('volume_label', section='OTHER') if config.is_key('volume_label') else 'Volume')\n",
    "\n",
    "def n_table(Event='OS', Model='Hazard Ratio (HR)', Followup=followup):\n",
    "    if Model == 'Hazard Ratio (HR)':\n",
    "        Model = 'HR'\n",
    "    elif Model == 'median Survival Time (mST)':\n",
    "        Model = 'mST'\n",
    "    \n",
    "    if Event == 'PFS (adjusted)':\n",
    "        if config.is_key('visits'):\n",
    "            tab = sample_size_table(database, event='PFS', criteria=Model, adjust_ipfs=True, visits=config.get_value('followup_visits'), followup_time=Followup, metric=metric)\n",
    "    else:\n",
    "        tab = sample_size_table(database, event=Event, criteria=Model, adjust_ipfs=False, followup_time=Followup, metric=metric)\n",
    "    \n",
    "    return tab\n",
    "\n",
    "interact(n_table, Event=['OS', 'PFS', 'PFS (adjusted)'], Model=['Hazard Ratio (HR)','median Survival Time (mST)'], Followup=(0, round(followup*1.5), 1));"
   ]
  },
  {
   "cell_type": "markdown",
   "id": "33252553",
   "metadata": {},
   "source": [
    "## 2. Interim monitoring\n",
    "\n",
    "According to [[4]](https://pubmed.ncbi.nlm.nih.gov/24872363/): \"Bayesian predictive probabilities can be used for interim monitoring of clinical trials to estimate the probability of observing a statistically significant treatment effect if the trial were to continue to its predefined maximum sample size\".\n",
    "\n",
    "The question we wish to answer here is: the trial is likely to reach a definitive conclusion (ie., statistically significant) by the end of the study? To answer this question, several approaches have been proposed. In this analysis, we adopt the point of view of [[5]](https://www.researchsquare.com/article/rs-930504/v1), ie. the assessment of study success (i.e. chance of success) using conditional power (CP), the predictive power of success (PPoS) and probability of success (PoS) in a general setting with normally distributed test statistics and normal prior (restricted to time-to-event endpoints).\n",
    "\n",
    "CP is frequentist tool, whereas PoS and PPoS follow the Bayesian paradigm.\n",
    "The difference of Bayesian approach over the frequentist approach is the way available knowledge on effect size is summarized: Bayesian measures summarize this knowledge as distribution of effect whereas frequentist measure makes the best guess about the effect size as a single value, and thereby frequentist measures may not be a good indicator of chance of success.\n",
    "\n",
    "First analysis are carried out using conventional frequentist techniques: the number of future events is computed based on the frequency of events in each group in interim data. A Cox’s proportional hazard model is used to assess hazard ratio (HR)."
   ]
  },
  {
   "cell_type": "code",
   "execution_count": 3,
   "id": "ee11ae9b",
   "metadata": {
    "scrolled": true
   },
   "outputs": [
    {
     "data": {
      "application/vnd.jupyter.widget-view+json": {
       "model_id": "5d25b6a3812944bb86982a1da3edb81a",
       "version_major": 2,
       "version_minor": 0
      },
      "text/plain": [
       "interactive(children=(Dropdown(description='Event', options=('OS', 'PFS', 'PFS (adjusted)'), value='OS'), IntS…"
      ]
     },
     "metadata": {},
     "output_type": "display_data"
    }
   ],
   "source": [
    "%matplotlib widget\n",
    "\n",
    "from functions.table import probability_of_success\n",
    "\n",
    "if not config.is_key('followup'):\n",
    "    config.extract_config_values('followup')\n",
    "followup = int(int(config.get_value('followup')) / (365 / 12))\n",
    "\n",
    "metric = (config.get_value('volume_label', section='OTHER') if config.is_key('volume_label') else 'Volume')\n",
    "\n",
    "l = (~database.get_metadata(which='all').dropna(how='all')['Start'].isna()).sum() + 1\n",
    "nb = int((config.get_value('nb_patients', section='OTHER') if config.is_key('nb_patients') else l))\n",
    "\n",
    "def n_table(Event='OS', Patients=nb, Followup=followup):\n",
    "    if Event == 'PFS (adjusted)':\n",
    "        if config.is_key('visits'):\n",
    "            tab = probability_of_success(database, Patients, event='PFS', adjust_ipfs=True, visits=config.get_value('followup_visits'), followup_time=Followup, metric=metric)\n",
    "    else:\n",
    "        tab = probability_of_success(database, Patients, event=Event, adjust_ipfs=False, followup_time=Followup, metric=metric)\n",
    "    \n",
    "    print(\"Probabilities of success of the clinical trial with {} patients are:\".format(Patients))\n",
    "    return tab\n",
    "\n",
    "interact(n_table, Event=['OS', 'PFS', 'PFS (adjusted)'], Followup=(0, round(followup*1.5), 1), Patients=(l, 1000, 1));"
   ]
  },
  {
   "cell_type": "markdown",
   "id": "c935e2d2",
   "metadata": {},
   "source": [
    "Unlike the trial success that is constant, the clinical success (ie., observing a treatment effect size exceeding some threshold value that is often clinically meaningful) is a function of the threshold value."
   ]
  },
  {
   "cell_type": "code",
   "execution_count": 5,
   "id": "fb564197",
   "metadata": {},
   "outputs": [
    {
     "data": {
      "application/vnd.jupyter.widget-view+json": {
       "model_id": "137cf68b17e34180af2935e50a201e13",
       "version_major": 2,
       "version_minor": 0
      },
      "text/plain": [
       "interactive(children=(Dropdown(description='Event', options=('OS', 'PFS', 'PFS (adjusted)'), value='OS'), IntS…"
      ]
     },
     "metadata": {},
     "output_type": "display_data"
    }
   ],
   "source": [
    "%matplotlib widget\n",
    "\n",
    "from functions.graph import probability_of_success_plot\n",
    "\n",
    "if not config.is_key('followup'):\n",
    "    config.extract_config_values('followup')\n",
    "followup = int(int(config.get_value('followup')) / (365 / 12))\n",
    "\n",
    "metric = (config.get_value('volume_label', section='OTHER') if config.is_key('volume_label') else 'Volume')\n",
    "\n",
    "l = (~database.get_metadata(which='all').dropna(how='all')['Start'].isna()).sum() + 1\n",
    "nb = int((config.get_value('nb_patients', section='OTHER') if config.is_key('nb_patients') else l))\n",
    "\n",
    "def n_table(Event='OS', Patients=nb, Followup=followup):\n",
    "    plt.close()\n",
    "    if Event == 'PFS (adjusted)':\n",
    "        if config.is_key('visits'):\n",
    "            probability_of_success_plot(database, Patients, event='PFS', adjust_ipfs=True, visits=config.get_value('followup_visits'), followup_time=Followup, metric=metric)\n",
    "    else:\n",
    "        probability_of_success_plot(database, Patients, event=Event, adjust_ipfs=False, followup_time=Followup, metric=metric)\n",
    "    \n",
    "    plt.show()\n",
    "\n",
    "interact(n_table, Event=['OS', 'PFS', 'PFS (adjusted)'], Followup=(0, round(followup*1.5), 1), Patients=(l, 1000, 1));"
   ]
  }
 ],
 "metadata": {
  "hide_input": true,
  "kernelspec": {
   "display_name": "Python 3 (ipykernel)",
   "language": "python",
   "name": "python3"
  },
  "language_info": {
   "codemirror_mode": {
    "name": "ipython",
    "version": 3
   },
   "file_extension": ".py",
   "mimetype": "text/x-python",
   "name": "python",
   "nbconvert_exporter": "python",
   "pygments_lexer": "ipython3",
   "version": "3.9.7"
  }
 },
 "nbformat": 4,
 "nbformat_minor": 5
}
