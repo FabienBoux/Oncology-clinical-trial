{
 "cells": [
  {
   "cell_type": "markdown",
   "id": "1fdbfb92-e637-40a1-99e9-129e5958c180",
   "metadata": {},
   "source": [
    "# Configuration\n",
    "\n",
    "Different variables can be defined here (eg. paths of data). These changes will be saved in a configuration file (by default, ```config.ini```) and will therefore not have to be redefined each time. Note that other tabs can also modified this file."
   ]
  },
  {
   "cell_type": "code",
   "execution_count": 1,
   "id": "2f2c795d-95b7-4dd8-97a5-7f84cba5c12e",
   "metadata": {
    "jupyter": {
     "source_hidden": true
    },
    "tags": []
   },
   "outputs": [
    {
     "data": {
      "application/vnd.jupyter.widget-view+json": {
       "model_id": "cf60f2e6ef7140859533b49d919f77fa",
       "version_major": 2,
       "version_minor": 0
      },
      "text/plain": [
       "HBox(children=(Text(value='config.ini', description='Configuration file:'),))"
      ]
     },
     "metadata": {},
     "output_type": "display_data"
    }
   ],
   "source": [
    "import ipywidgets as widgets\n",
    "import os\n",
    "\n",
    "list_config_files = [x for x in os.listdir() if '.ini' in x]\n",
    "\n",
    "config_w = widgets.Text(value=(list_config_files[0] if list_config_files != [] else 'config.ini'),\n",
    "                        description='Configuration file:', disabled=False)\n",
    "\n",
    "widgets.HBox([config_w])"
   ]
  },
  {
   "cell_type": "code",
   "execution_count": 2,
   "id": "f313e5b6-4495-47d0-a333-94febf3542ee",
   "metadata": {
    "jupyter": {
     "source_hidden": true
    },
    "tags": []
   },
   "outputs": [
    {
     "data": {
      "application/vnd.jupyter.widget-view+json": {
       "model_id": "849d1a3cdebb457a958ac914ca4a9af1",
       "version_major": 2,
       "version_minor": 0
      },
      "text/plain": [
       "VBox(children=(Text(value='C:\\\\Users\\\\Fabien Boux\\\\Code\\\\Oncology-clinical-trial\\\\data\\\\dummy', description='P…"
      ]
     },
     "metadata": {},
     "output_type": "display_data"
    }
   ],
   "source": [
    "from datetime import datetime\n",
    "from functions.config import Config\n",
    "\n",
    "config_filename = config_w.value\n",
    "\n",
    "if not os.path.isfile(config_filename):\n",
    "    f = open(config_filename, \"w\")\n",
    "    f.close()\n",
    "\n",
    "config = Config(config_filename)\n",
    "config.read()\n",
    "\n",
    "# from IPython.display import Javascript\n",
    "# IPython.notebook.get_selected_index()\n",
    "# def on_button_reload_clicked(b):\n",
    "#     Javascript('IPython.notebook.execute_cells_below()')\n",
    "    \n",
    "# button_reload = widgets.Button(description='Reload')\n",
    "# button_reload.on_click(on_button_reload_clicked)\n",
    "\n",
    "\n",
    "path_database = widgets.Text(value=(config.get_value('database') if config.is_key('database') else ''),\n",
    "                             description='Path of database:', disabled=False)\n",
    "\n",
    "metadata_filename = widgets.Text(value=(config.get_value('metadata') if config.is_key('metadata') else ''),\n",
    "                                 description='Metadata file:', disabled=False)\n",
    "\n",
    "cutoff_date = widgets.DatePicker(description='Cut-off date:', value=(datetime.strptime(config.get_value('cutoff_date'), '%Y-%m-%d') if config.is_key('cutoff_date') else None), \n",
    "                                 disabled=False)\n",
    "\n",
    "def on_button_save_clicked(var):\n",
    "    config.set_value(path_database.value, 'database', section='PATH')\n",
    "    config.set_value(metadata_filename.value, 'metadata', section='PATH')\n",
    "    if cutoff_date.value is not None:\n",
    "        config.set_value(str(cutoff_date.value), 'cutoff_date', section='OTHER')\n",
    "    else:\n",
    "        config.remove_value('cutoff_date', section='OTHER')\n",
    "    config.write()\n",
    "\n",
    "button_save = widgets.Button(description='Save \"{}\"'.format(config_filename))\n",
    "button_save.on_click(on_button_save_clicked)\n",
    "\n",
    "widgets.VBox([path_database, \n",
    "              widgets.HBox([metadata_filename, widgets.Label(value='This can be a relative path from the path of the database (previous field).')]),\n",
    "              cutoff_date,\n",
    "              button_save])"
   ]
  }
 ],
 "metadata": {
  "kernelspec": {
   "display_name": "Python 3 (ipykernel)",
   "language": "python",
   "name": "python3"
  },
  "language_info": {
   "codemirror_mode": {
    "name": "ipython",
    "version": 3
   },
   "file_extension": ".py",
   "mimetype": "text/x-python",
   "name": "python",
   "nbconvert_exporter": "python",
   "pygments_lexer": "ipython3",
   "version": "3.9.9"
  },
  "widgets": {
   "application/vnd.jupyter.widget-state+json": {
    "state": {},
    "version_major": 2,
    "version_minor": 0
   }
  }
 },
 "nbformat": 4,
 "nbformat_minor": 5
}
