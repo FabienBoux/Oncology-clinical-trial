{
 "cells": [
  {
   "cell_type": "markdown",
   "id": "1fdbfb92-e637-40a1-99e9-129e5958c180",
   "metadata": {},
   "source": [
    "# Configuration\n",
    "\n",
    "Different variables can be defined here (eg. paths of data). These changes will be saved in the ```config.ini``` file and will therefore not have to be redefined each time. Note that other tabs can also modified this file."
   ]
  },
  {
   "cell_type": "code",
   "execution_count": 1,
   "id": "f313e5b6-4495-47d0-a333-94febf3542ee",
   "metadata": {},
   "outputs": [],
   "source": [
    "path_database = \"C:\\\\Users\\\\Fabien Boux\\\\Code\\\\Oncology-clinical-trial\\\\data\\\\dummy\""
   ]
  }
 ],
 "metadata": {
  "kernelspec": {
   "display_name": "Python 3 (ipykernel)",
   "language": "python",
   "name": "python3"
  },
  "language_info": {
   "codemirror_mode": {
    "name": "ipython",
    "version": 3
   },
   "file_extension": ".py",
   "mimetype": "text/x-python",
   "name": "python",
   "nbconvert_exporter": "python",
   "pygments_lexer": "ipython3",
   "version": "3.9.9"
  },
  "widgets": {
   "application/vnd.jupyter.widget-state+json": {
    "state": {},
    "version_major": 2,
    "version_minor": 0
   }
  }
 },
 "nbformat": 4,
 "nbformat_minor": 5
}
