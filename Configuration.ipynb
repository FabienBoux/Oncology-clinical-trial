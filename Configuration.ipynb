{
 "cells": [
  {
   "cell_type": "markdown",
   "id": "1fdbfb92-e637-40a1-99e9-129e5958c180",
   "metadata": {},
   "source": [
    "# Configuration\n",
    "\n",
    "Different variables can be defined here (eg. paths of data). These changes will be saved in a configuration file (by default, ```config.ini```) and will therefore not have to be redefined each time. Note that other tabs can also modified this file."
   ]
  },
  {
   "cell_type": "code",
   "execution_count": 1,
   "id": "2f2c795d-95b7-4dd8-97a5-7f84cba5c12e",
   "metadata": {
    "jupyter": {
     "source_hidden": true
    },
    "tags": []
   },
   "outputs": [
    {
     "data": {
      "application/vnd.jupyter.widget-view+json": {
       "model_id": "59d1b87bb260482d95ec0d637f8d8535",
       "version_major": 2,
       "version_minor": 0
      },
      "text/plain": [
       "HBox(children=(Text(value='config.ini', description='Configuration file:'),))"
      ]
     },
     "metadata": {},
     "output_type": "display_data"
    }
   ],
   "source": [
    "import ipywidgets as widgets\n",
    "import os\n",
    "\n",
    "list_config_files = [x for x in os.listdir() if '.ini' in x]\n",
    "\n",
    "config_w = widgets.Text(value=(list_config_files[0] if list_config_files != [] else 'config.ini'),\n",
    "                        description='Configuration file:', disabled=False)\n",
    "\n",
    "widgets.HBox([config_w])"
   ]
  },
  {
   "cell_type": "code",
   "execution_count": 2,
   "id": "f313e5b6-4495-47d0-a333-94febf3542ee",
   "metadata": {
    "jupyter": {
     "source_hidden": true
    },
    "tags": []
   },
   "outputs": [
    {
     "data": {
      "application/vnd.jupyter.widget-view+json": {
       "model_id": "6247d4341c5f4336a375367d2bc6c557",
       "version_major": 2,
       "version_minor": 0
      },
      "text/plain": [
       "VBox(children=(Text(value='C:\\\\Users\\\\Fabien Boux\\\\Code\\\\Oncology-clinical-trial\\\\data\\\\dummy', description='P…"
      ]
     },
     "metadata": {},
     "output_type": "display_data"
    }
   ],
   "source": [
    "from datetime import datetime\n",
    "from functions.config import Config\n",
    "\n",
    "config_filename = config_w.value\n",
    "\n",
    "if not os.path.isfile(config_filename):\n",
    "    f = open(config_filename, \"w\")\n",
    "    f.close()\n",
    "\n",
    "config = Config(config_filename)\n",
    "config.read()\n",
    "\n",
    "# from IPython.display import Javascript\n",
    "# IPython.notebook.get_selected_index()\n",
    "# def on_button_reload_clicked(b):\n",
    "#     Javascript('IPython.notebook.execute_cells_below()')\n",
    "    \n",
    "# button_reload = widgets.Button(description='Reload')\n",
    "# button_reload.on_click(on_button_reload_clicked)\n",
    "\n",
    "\n",
    "path_database = widgets.Text(value=(config.get_value('database') if config.is_key('database') else ''),\n",
    "                             description='Path of database:', disabled=False)\n",
    "\n",
    "metadata_filename = widgets.Text(value=(config.get_value('metadata') if config.is_key('metadata') else ''),\n",
    "                                 description='Metadata file:', disabled=False)\n",
    "\n",
    "cutoff_date = widgets.DatePicker(description='Cut-off date:', value=(datetime.strptime(config.get_value('cutoff_date'), '%Y-%m-%d') if config.is_key('cutoff_date') else None), \n",
    "                                 disabled=False)\n",
    "\n",
    "def on_button_save_clicked(var):\n",
    "    config.set_value(path_database.value, 'database', section='PATH')\n",
    "    config.set_value(metadata_filename.value, 'metadata', section='PATH')\n",
    "    if cutoff_date.value is not None:\n",
    "        config.set_value(str(cutoff_date.value), 'cutoff_date', section='OTHER')\n",
    "    else:\n",
    "        config.remove_value('cutoff_date', section='OTHER')\n",
    "    config.write()\n",
    "\n",
    "button_save = widgets.Button(description='Save \"{}\"'.format(config_filename))\n",
    "button_save.on_click(on_button_save_clicked)\n",
    "\n",
    "widgets.VBox([path_database, \n",
    "              widgets.HBox([metadata_filename, widgets.Label(value='This can be a relative path from the path of the database (previous field).')]),\n",
    "              cutoff_date,\n",
    "              button_save])"
   ]
  },
  {
   "cell_type": "code",
   "execution_count": null,
   "id": "d72cff46",
   "metadata": {},
   "outputs": [],
   "source": []
  }
 ],
 "metadata": {
  "kernelspec": {
   "display_name": "Python 3 (ipykernel)",
   "language": "python",
   "name": "python3"
  },
  "language_info": {
   "codemirror_mode": {
    "name": "ipython",
    "version": 3
   },
   "file_extension": ".py",
   "mimetype": "text/x-python",
   "name": "python",
   "nbconvert_exporter": "python",
   "pygments_lexer": "ipython3",
   "version": "3.9.9"
  },
  "widgets": {
   "application/vnd.jupyter.widget-state+json": {
    "state": {
     "043b1959b0b84c0989750aa5a7d3ffca": {
      "model_module": "@jupyter-widgets/controls",
      "model_module_version": "1.5.0",
      "model_name": "TextModel",
      "state": {
       "description": "Path of database:",
       "layout": "IPY_MODEL_9dbc0243a3d84744a9b23ad316cf6526",
       "style": "IPY_MODEL_4b4eee24b79f41508acd587d67773afa",
       "value": "C:\\Users\\Fabien Boux\\Code\\Oncology-clinical-trial\\data\\dummy"
      }
     },
     "05b72ab25b43471f9341187f6bd842f6": {
      "model_module": "@jupyter-widgets/controls",
      "model_module_version": "1.5.0",
      "model_name": "ButtonStyleModel",
      "state": {}
     },
     "066aeedf51824a769f126058aa6446d9": {
      "model_module": "@jupyter-widgets/base",
      "model_module_version": "1.2.0",
      "model_name": "LayoutModel",
      "state": {}
     },
     "089e74eb77d1450d87bfc954e5e1624d": {
      "model_module": "@jupyter-widgets/base",
      "model_module_version": "1.2.0",
      "model_name": "LayoutModel",
      "state": {}
     },
     "0b296f76240f452bb69c4295a96fa0f0": {
      "model_module": "@jupyter-widgets/base",
      "model_module_version": "1.2.0",
      "model_name": "LayoutModel",
      "state": {}
     },
     "0ccfd8081f5b461bb3f8470d7bcef3bf": {
      "model_module": "@jupyter-widgets/controls",
      "model_module_version": "1.5.0",
      "model_name": "DescriptionStyleModel",
      "state": {
       "description_width": ""
      }
     },
     "0e70a7bd223e492eaa13a7e0ca10eaf8": {
      "model_module": "@jupyter-widgets/base",
      "model_module_version": "1.2.0",
      "model_name": "LayoutModel",
      "state": {}
     },
     "11577ab74ef14802b0b76eb75d9f4dcc": {
      "model_module": "@jupyter-widgets/controls",
      "model_module_version": "1.5.0",
      "model_name": "ButtonStyleModel",
      "state": {}
     },
     "12b1346e21a642eb854320416a59a7ec": {
      "model_module": "@jupyter-widgets/controls",
      "model_module_version": "1.5.0",
      "model_name": "DescriptionStyleModel",
      "state": {
       "description_width": ""
      }
     },
     "155935cebaeb4198bd38dc7a844fa84b": {
      "model_module": "@jupyter-widgets/base",
      "model_module_version": "1.2.0",
      "model_name": "LayoutModel",
      "state": {}
     },
     "15c590f4224a44baab7f9e7832b3e216": {
      "model_module": "@jupyter-widgets/base",
      "model_module_version": "1.2.0",
      "model_name": "LayoutModel",
      "state": {}
     },
     "1617568de2e04ffc8cc6ff3438e9cbf7": {
      "model_module": "@jupyter-widgets/controls",
      "model_module_version": "1.5.0",
      "model_name": "ButtonModel",
      "state": {
       "description": "Save \"test.ini\"",
       "layout": "IPY_MODEL_793bcd6965ea47558c4291ce9273615e",
       "style": "IPY_MODEL_ccc3bf12c9e34b6f9a1c115584799c25"
      }
     },
     "1a8e2c23a5f04ef3bac51306ac52c2d9": {
      "model_module": "@jupyter-widgets/base",
      "model_module_version": "1.2.0",
      "model_name": "LayoutModel",
      "state": {}
     },
     "1adbe91d8d11400c8ae35de8b414ff2a": {
      "model_module": "@jupyter-widgets/controls",
      "model_module_version": "1.5.0",
      "model_name": "TextModel",
      "state": {
       "description": "Path of database:",
       "layout": "IPY_MODEL_a90603723e5140ca86eced38b5a701d7",
       "style": "IPY_MODEL_e6969caa15c7410ea7881d0f631bb15f",
       "value": "C:\\Users\\Fabien Boux\\Code\\Oncology-clinical-trial\\data\\dummy"
      }
     },
     "1b1664b46228499a8e9271c5479ba47a": {
      "model_module": "@jupyter-widgets/controls",
      "model_module_version": "1.5.0",
      "model_name": "TextModel",
      "state": {
       "description": "Configuration file:",
       "layout": "IPY_MODEL_69a1903187324a9b8a1e5bfe1bfc6b60",
       "style": "IPY_MODEL_5e1f3d289b56419f92f67dbfe2d3d4a5",
       "value": "config.ini"
      }
     },
     "1c07ce07004640188095f27b482ab40e": {
      "model_module": "@jupyter-widgets/base",
      "model_module_version": "1.2.0",
      "model_name": "LayoutModel",
      "state": {}
     },
     "1e5ddb551d1841deb95c061b8f1fe8da": {
      "model_module": "@jupyter-widgets/controls",
      "model_module_version": "1.5.0",
      "model_name": "DescriptionStyleModel",
      "state": {
       "description_width": ""
      }
     },
     "1e9e4bab638d4da4a294809746fa5868": {
      "model_module": "@jupyter-widgets/base",
      "model_module_version": "1.2.0",
      "model_name": "LayoutModel",
      "state": {}
     },
     "20cc3ebcde81406e930e22a5aee5ae55": {
      "model_module": "@jupyter-widgets/base",
      "model_module_version": "1.2.0",
      "model_name": "LayoutModel",
      "state": {}
     },
     "220c26045ead48e9bdddf6cb459a3658": {
      "model_module": "@jupyter-widgets/base",
      "model_module_version": "1.2.0",
      "model_name": "LayoutModel",
      "state": {}
     },
     "228e324c36d8482bbb6f49e690d3745e": {
      "model_module": "@jupyter-widgets/base",
      "model_module_version": "1.2.0",
      "model_name": "LayoutModel",
      "state": {}
     },
     "2c84c3544d674e4687bc123584bf83e9": {
      "model_module": "@jupyter-widgets/base",
      "model_module_version": "1.2.0",
      "model_name": "LayoutModel",
      "state": {}
     },
     "36a501c0727d4b028fcd8440efa6a424": {
      "model_module": "@jupyter-widgets/controls",
      "model_module_version": "1.5.0",
      "model_name": "ButtonModel",
      "state": {
       "description": "Run all below",
       "layout": "IPY_MODEL_8c1a193b05db4cc79c6921ac6320ec17",
       "style": "IPY_MODEL_11577ab74ef14802b0b76eb75d9f4dcc"
      }
     },
     "3784736b116c45d789e4fd686e2d9be6": {
      "model_module": "@jupyter-widgets/controls",
      "model_module_version": "1.5.0",
      "model_name": "LabelModel",
      "state": {
       "layout": "IPY_MODEL_4c9c65cd6a454bbcb2f47c50f1d70e78",
       "style": "IPY_MODEL_79bb591982174555920b63ad627daf9e",
       "value": "This can be a relative path from the path of the database (previous field)."
      }
     },
     "37c3f9d391c948beaaccb97f456c4868": {
      "model_module": "@jupyter-widgets/controls",
      "model_module_version": "1.5.0",
      "model_name": "ButtonStyleModel",
      "state": {}
     },
     "3d2f429923c646438d4548ec6090582c": {
      "model_module": "@jupyter-widgets/base",
      "model_module_version": "1.2.0",
      "model_name": "LayoutModel",
      "state": {}
     },
     "3d6597200c6249cb9bce49725ec7ffa3": {
      "model_module": "@jupyter-widgets/controls",
      "model_module_version": "1.5.0",
      "model_name": "DescriptionStyleModel",
      "state": {
       "description_width": ""
      }
     },
     "3e766f98118c47df93d11863ece533fa": {
      "model_module": "@jupyter-widgets/base",
      "model_module_version": "1.2.0",
      "model_name": "LayoutModel",
      "state": {}
     },
     "3feb657f31ce4be8bb42bb9946e314c1": {
      "model_module": "@jupyter-widgets/controls",
      "model_module_version": "1.5.0",
      "model_name": "DescriptionStyleModel",
      "state": {
       "description_width": ""
      }
     },
     "40a2a50b0e8c44b6b6339bf88bffc017": {
      "model_module": "@jupyter-widgets/controls",
      "model_module_version": "1.5.0",
      "model_name": "VBoxModel",
      "state": {
       "children": [
        "IPY_MODEL_735253509edf4eac9a531195d360da29",
        "IPY_MODEL_043b1959b0b84c0989750aa5a7d3ffca",
        "IPY_MODEL_a60f67cb1f22447fb9c2e4149c08ec19",
        "IPY_MODEL_7289b00ab0b1409cb1761e94e53e91da",
        "IPY_MODEL_f0057d3430e94bd383e73600481321c9"
       ],
       "layout": "IPY_MODEL_fa29459c4afd41048f8986743abd1414"
      }
     },
     "49fe515821bb46259ae75d96040e97d2": {
      "model_module": "@jupyter-widgets/controls",
      "model_module_version": "1.5.0",
      "model_name": "TextModel",
      "state": {
       "description": "Metadata file:",
       "layout": "IPY_MODEL_20cc3ebcde81406e930e22a5aee5ae55",
       "style": "IPY_MODEL_82a6a15fe8154eec81ff8c55331b2139",
       "value": "metadata.xlsx"
      }
     },
     "4b4eee24b79f41508acd587d67773afa": {
      "model_module": "@jupyter-widgets/controls",
      "model_module_version": "1.5.0",
      "model_name": "DescriptionStyleModel",
      "state": {
       "description_width": ""
      }
     },
     "4c9c65cd6a454bbcb2f47c50f1d70e78": {
      "model_module": "@jupyter-widgets/base",
      "model_module_version": "1.2.0",
      "model_name": "LayoutModel",
      "state": {}
     },
     "4da72df4c303461db672cff1d3e13968": {
      "model_module": "@jupyter-widgets/controls",
      "model_module_version": "1.5.0",
      "model_name": "LabelModel",
      "state": {
       "layout": "IPY_MODEL_651f021bca044b11a999f264d216eb33",
       "style": "IPY_MODEL_e467f21d15d6424bb1606376ec42e633",
       "value": "This can be a relative path from the path of the database (previous field)."
      }
     },
     "4f7c047c75e44a79a9890a73276b6baf": {
      "model_module": "@jupyter-widgets/controls",
      "model_module_version": "1.5.0",
      "model_name": "DescriptionStyleModel",
      "state": {
       "description_width": ""
      }
     },
     "516aa88ededd4a17af9300c8d0456e7b": {
      "model_module": "@jupyter-widgets/controls",
      "model_module_version": "1.5.0",
      "model_name": "LabelModel",
      "state": {
       "layout": "IPY_MODEL_0e70a7bd223e492eaa13a7e0ca10eaf8",
       "style": "IPY_MODEL_12b1346e21a642eb854320416a59a7ec",
       "value": "This can be a relative path from the path of the database (previous field)."
      }
     },
     "56b617c3804042cab2d76d4e21b11482": {
      "model_module": "@jupyter-widgets/controls",
      "model_module_version": "1.5.0",
      "model_name": "HBoxModel",
      "state": {
       "children": [
        "IPY_MODEL_dee156a555da4a33ab767d0cc6c40003",
        "IPY_MODEL_516aa88ededd4a17af9300c8d0456e7b"
       ],
       "layout": "IPY_MODEL_228e324c36d8482bbb6f49e690d3745e"
      }
     },
     "57ea82a705a240f7882a5d624e45ca0d": {
      "model_module": "@jupyter-widgets/base",
      "model_module_version": "1.2.0",
      "model_name": "LayoutModel",
      "state": {}
     },
     "58dd93f0a0d94d13bb15c5b9947bfc1b": {
      "model_module": "@jupyter-widgets/controls",
      "model_module_version": "1.5.0",
      "model_name": "VBoxModel",
      "state": {
       "children": [
        "IPY_MODEL_68c1d430ed194dc3ba8ab4a7f2fdb37f",
        "IPY_MODEL_56b617c3804042cab2d76d4e21b11482",
        "IPY_MODEL_e8399bc5fc2a4ba8814fa9144d312d26",
        "IPY_MODEL_1617568de2e04ffc8cc6ff3438e9cbf7"
       ],
       "layout": "IPY_MODEL_1a8e2c23a5f04ef3bac51306ac52c2d9"
      }
     },
     "5d0995ca04594016884784f2fb743d7f": {
      "model_module": "@jupyter-widgets/controls",
      "model_module_version": "1.5.0",
      "model_name": "VBoxModel",
      "state": {
       "children": [
        "IPY_MODEL_1adbe91d8d11400c8ae35de8b414ff2a",
        "IPY_MODEL_9d8c6529613d4872bf42605fe158d99f",
        "IPY_MODEL_77211103cc794fa490b4c3d53fa31493",
        "IPY_MODEL_6295f338950d4267a080d9aa3df452c1"
       ],
       "layout": "IPY_MODEL_67dd3e3665394f3d9cb4efbb8153439e"
      }
     },
     "5d9a1563aa724dae95181b753d10fa3f": {
      "model_module": "@jupyter-widgets/controls",
      "model_module_version": "1.5.0",
      "model_name": "LabelModel",
      "state": {
       "layout": "IPY_MODEL_089e74eb77d1450d87bfc954e5e1624d",
       "style": "IPY_MODEL_4f7c047c75e44a79a9890a73276b6baf",
       "value": "This can be a relative path from the path of the database (previous field)."
      }
     },
     "5e1f3d289b56419f92f67dbfe2d3d4a5": {
      "model_module": "@jupyter-widgets/controls",
      "model_module_version": "1.5.0",
      "model_name": "DescriptionStyleModel",
      "state": {
       "description_width": ""
      }
     },
     "5f8427f4e0de41bca65d20662b4f85b6": {
      "model_module": "@jupyter-widgets/base",
      "model_module_version": "1.2.0",
      "model_name": "LayoutModel",
      "state": {}
     },
     "6160898fdcfd471893da385730685fe4": {
      "model_module": "@jupyter-widgets/controls",
      "model_module_version": "1.5.0",
      "model_name": "ButtonStyleModel",
      "state": {}
     },
     "623af703b40048739be613246ca01333": {
      "model_module": "@jupyter-widgets/controls",
      "model_module_version": "1.5.0",
      "model_name": "DescriptionStyleModel",
      "state": {
       "description_width": ""
      }
     },
     "6295f338950d4267a080d9aa3df452c1": {
      "model_module": "@jupyter-widgets/controls",
      "model_module_version": "1.5.0",
      "model_name": "ButtonModel",
      "state": {
       "description": "Save \"config.ini\"",
       "layout": "IPY_MODEL_1c07ce07004640188095f27b482ab40e",
       "style": "IPY_MODEL_37c3f9d391c948beaaccb97f456c4868"
      }
     },
     "6426bbf9ee634919854b926b1b5b85f4": {
      "model_module": "@jupyter-widgets/base",
      "model_module_version": "1.2.0",
      "model_name": "LayoutModel",
      "state": {}
     },
     "651f021bca044b11a999f264d216eb33": {
      "model_module": "@jupyter-widgets/base",
      "model_module_version": "1.2.0",
      "model_name": "LayoutModel",
      "state": {}
     },
     "662df5bbe4b042afa3f7825cea88add5": {
      "model_module": "@jupyter-widgets/controls",
      "model_module_version": "1.5.0",
      "model_name": "ButtonModel",
      "state": {
       "description": "Run all below",
       "layout": "IPY_MODEL_6426bbf9ee634919854b926b1b5b85f4",
       "style": "IPY_MODEL_efe12bc49fe94e11a920f98e3f6b8759"
      }
     },
     "664e82630d044567b9ac745bdade2539": {
      "model_module": "@jupyter-widgets/controls",
      "model_module_version": "1.5.0",
      "model_name": "VBoxModel",
      "state": {
       "children": [
        "IPY_MODEL_863b35d48eb74f048e4db328b5a3d342",
        "IPY_MODEL_c2a24b5c80af41f481d947c0d94a2c27",
        "IPY_MODEL_e582d0067f0a40eab648b3f09be219c3",
        "IPY_MODEL_998f341b6589403ea88a4ddee6131507"
       ],
       "layout": "IPY_MODEL_220c26045ead48e9bdddf6cb459a3658"
      }
     },
     "67dd3e3665394f3d9cb4efbb8153439e": {
      "model_module": "@jupyter-widgets/base",
      "model_module_version": "1.2.0",
      "model_name": "LayoutModel",
      "state": {}
     },
     "68c1d430ed194dc3ba8ab4a7f2fdb37f": {
      "model_module": "@jupyter-widgets/controls",
      "model_module_version": "1.5.0",
      "model_name": "TextModel",
      "state": {
       "description": "Path of database:",
       "layout": "IPY_MODEL_57ea82a705a240f7882a5d624e45ca0d",
       "style": "IPY_MODEL_f39f3b8a31a748b88ae3d6f823d55fc0"
      }
     },
     "68e36b08879542cc94753bed544dd3ca": {
      "model_module": "@jupyter-widgets/base",
      "model_module_version": "1.2.0",
      "model_name": "LayoutModel",
      "state": {}
     },
     "69a1903187324a9b8a1e5bfe1bfc6b60": {
      "model_module": "@jupyter-widgets/base",
      "model_module_version": "1.2.0",
      "model_name": "LayoutModel",
      "state": {}
     },
     "6b56b0823d2d45b5a1d99ae6950cae24": {
      "model_module": "@jupyter-widgets/base",
      "model_module_version": "1.2.0",
      "model_name": "LayoutModel",
      "state": {}
     },
     "6cbc8f16cacd4f16b12cd7f5ff6abfb8": {
      "model_module": "@jupyter-widgets/base",
      "model_module_version": "1.2.0",
      "model_name": "LayoutModel",
      "state": {}
     },
     "722efbcc5ede4a2abcac88ec4e6c26b7": {
      "model_module": "@jupyter-widgets/controls",
      "model_module_version": "1.5.0",
      "model_name": "DescriptionStyleModel",
      "state": {
       "description_width": ""
      }
     },
     "7289b00ab0b1409cb1761e94e53e91da": {
      "model_module": "@jupyter-widgets/controls",
      "model_module_version": "1.5.0",
      "model_name": "DatePickerModel",
      "state": {
       "description": "Cut-off date:",
       "disabled": false,
       "layout": "IPY_MODEL_3d2f429923c646438d4548ec6090582c",
       "style": "IPY_MODEL_1e5ddb551d1841deb95c061b8f1fe8da"
      }
     },
     "7345e5af8ade4bec92ef90722eb8d1e1": {
      "model_module": "@jupyter-widgets/base",
      "model_module_version": "1.2.0",
      "model_name": "LayoutModel",
      "state": {}
     },
     "735253509edf4eac9a531195d360da29": {
      "model_module": "@jupyter-widgets/controls",
      "model_module_version": "1.5.0",
      "model_name": "ButtonModel",
      "state": {
       "description": "Reload",
       "layout": "IPY_MODEL_15c590f4224a44baab7f9e7832b3e216",
       "style": "IPY_MODEL_6160898fdcfd471893da385730685fe4"
      }
     },
     "7669a5351b294ea7818f4a1b6983c373": {
      "model_module": "@jupyter-widgets/controls",
      "model_module_version": "1.5.0",
      "model_name": "ButtonModel",
      "state": {
       "description": "Run all below",
       "layout": "IPY_MODEL_6b56b0823d2d45b5a1d99ae6950cae24",
       "style": "IPY_MODEL_05b72ab25b43471f9341187f6bd842f6"
      }
     },
     "77211103cc794fa490b4c3d53fa31493": {
      "model_module": "@jupyter-widgets/controls",
      "model_module_version": "1.5.0",
      "model_name": "DatePickerModel",
      "state": {
       "description": "Cut-off date:",
       "disabled": false,
       "layout": "IPY_MODEL_2c84c3544d674e4687bc123584bf83e9",
       "style": "IPY_MODEL_3feb657f31ce4be8bb42bb9946e314c1"
      }
     },
     "77cbd6804aff40c28a38dc3a66f6207c": {
      "model_module": "@jupyter-widgets/controls",
      "model_module_version": "1.5.0",
      "model_name": "HBoxModel",
      "state": {
       "children": [
        "IPY_MODEL_1b1664b46228499a8e9271c5479ba47a"
       ],
       "layout": "IPY_MODEL_aa291099ce744a7ca8daa2bd38fb24dd"
      }
     },
     "793bcd6965ea47558c4291ce9273615e": {
      "model_module": "@jupyter-widgets/base",
      "model_module_version": "1.2.0",
      "model_name": "LayoutModel",
      "state": {}
     },
     "79bb591982174555920b63ad627daf9e": {
      "model_module": "@jupyter-widgets/controls",
      "model_module_version": "1.5.0",
      "model_name": "DescriptionStyleModel",
      "state": {
       "description_width": ""
      }
     },
     "7b9cb114ccb14f0b81bcb1320f4006ea": {
      "model_module": "@jupyter-widgets/controls",
      "model_module_version": "1.5.0",
      "model_name": "ButtonStyleModel",
      "state": {}
     },
     "7c42129c7be5475d94075afa246cdd5a": {
      "model_module": "@jupyter-widgets/controls",
      "model_module_version": "1.5.0",
      "model_name": "LabelModel",
      "state": {
       "layout": "IPY_MODEL_1e9e4bab638d4da4a294809746fa5868",
       "style": "IPY_MODEL_722efbcc5ede4a2abcac88ec4e6c26b7",
       "value": "This can be a relative path from the path of the database (previous field)."
      }
     },
     "7d6191dc02954c1394ba284d7d512741": {
      "model_module": "@jupyter-widgets/controls",
      "model_module_version": "1.5.0",
      "model_name": "ButtonStyleModel",
      "state": {}
     },
     "7e799393a8d048fb8b752a438e09c399": {
      "model_module": "@jupyter-widgets/controls",
      "model_module_version": "1.5.0",
      "model_name": "ButtonStyleModel",
      "state": {}
     },
     "82a6a15fe8154eec81ff8c55331b2139": {
      "model_module": "@jupyter-widgets/controls",
      "model_module_version": "1.5.0",
      "model_name": "DescriptionStyleModel",
      "state": {
       "description_width": ""
      }
     },
     "863b35d48eb74f048e4db328b5a3d342": {
      "model_module": "@jupyter-widgets/controls",
      "model_module_version": "1.5.0",
      "model_name": "TextModel",
      "state": {
       "description": "Path of database:",
       "layout": "IPY_MODEL_3e766f98118c47df93d11863ece533fa",
       "style": "IPY_MODEL_8fb7a07a7ea84367bfd3f83c6a2eb58e",
       "value": "C:\\Users\\Fabien Boux\\Code\\Oncology-clinical-trial\\data\\dummy"
      }
     },
     "8897690495b942b78985b7a2097ea2e7": {
      "model_module": "@jupyter-widgets/base",
      "model_module_version": "1.2.0",
      "model_name": "LayoutModel",
      "state": {}
     },
     "8c1a193b05db4cc79c6921ac6320ec17": {
      "model_module": "@jupyter-widgets/base",
      "model_module_version": "1.2.0",
      "model_name": "LayoutModel",
      "state": {}
     },
     "8d0d9e42a34e4f5d9e62a640e0142cea": {
      "model_module": "@jupyter-widgets/controls",
      "model_module_version": "1.5.0",
      "model_name": "HBoxModel",
      "state": {
       "children": [
        "IPY_MODEL_9746e505e1f7471ab7524d061c77c7f7",
        "IPY_MODEL_7c42129c7be5475d94075afa246cdd5a"
       ],
       "layout": "IPY_MODEL_d0373200a801420381deb7ef97b6eece"
      }
     },
     "8fb7a07a7ea84367bfd3f83c6a2eb58e": {
      "model_module": "@jupyter-widgets/controls",
      "model_module_version": "1.5.0",
      "model_name": "DescriptionStyleModel",
      "state": {
       "description_width": ""
      }
     },
     "904c76d94a1845ae888cd2f48c23bb8d": {
      "model_module": "@jupyter-widgets/controls",
      "model_module_version": "1.5.0",
      "model_name": "ButtonModel",
      "state": {
       "description": "Run all below",
       "layout": "IPY_MODEL_155935cebaeb4198bd38dc7a844fa84b",
       "style": "IPY_MODEL_7d6191dc02954c1394ba284d7d512741"
      }
     },
     "9272de68965c4823b860983f9f2453aa": {
      "model_module": "@jupyter-widgets/controls",
      "model_module_version": "1.5.0",
      "model_name": "DescriptionStyleModel",
      "state": {
       "description_width": ""
      }
     },
     "92f097e869d247f0928b2158d6b42ed6": {
      "model_module": "@jupyter-widgets/base",
      "model_module_version": "1.2.0",
      "model_name": "LayoutModel",
      "state": {}
     },
     "966e8acd7fc34b7983f32f7612afa49d": {
      "model_module": "@jupyter-widgets/base",
      "model_module_version": "1.2.0",
      "model_name": "LayoutModel",
      "state": {}
     },
     "9746e505e1f7471ab7524d061c77c7f7": {
      "model_module": "@jupyter-widgets/controls",
      "model_module_version": "1.5.0",
      "model_name": "TextModel",
      "state": {
       "description": "Metadata file:",
       "layout": "IPY_MODEL_68e36b08879542cc94753bed544dd3ca",
       "style": "IPY_MODEL_623af703b40048739be613246ca01333"
      }
     },
     "98eaed8b2d9b4cea8040d6d97786f2e0": {
      "model_module": "@jupyter-widgets/controls",
      "model_module_version": "1.5.0",
      "model_name": "VBoxModel",
      "state": {
       "children": [
        "IPY_MODEL_9bdd92f06c354da1943cfcb9e8aa8c50",
        "IPY_MODEL_8d0d9e42a34e4f5d9e62a640e0142cea",
        "IPY_MODEL_e5f5803ed563428fa8fae6c379d981a0",
        "IPY_MODEL_dae4c393215c4a40b000b3b18500d4ab"
       ],
       "layout": "IPY_MODEL_de666b80733d4cdb90aa7abd8733c98a"
      }
     },
     "998f341b6589403ea88a4ddee6131507": {
      "model_module": "@jupyter-widgets/controls",
      "model_module_version": "1.5.0",
      "model_name": "ButtonModel",
      "state": {
       "description": "Save \"config.ini\"",
       "layout": "IPY_MODEL_ba41cce6e5354738b28d2e554e51133f",
       "style": "IPY_MODEL_7e799393a8d048fb8b752a438e09c399"
      }
     },
     "9bdd92f06c354da1943cfcb9e8aa8c50": {
      "model_module": "@jupyter-widgets/controls",
      "model_module_version": "1.5.0",
      "model_name": "TextModel",
      "state": {
       "description": "Path of database:",
       "layout": "IPY_MODEL_ba8ff925bbf54640945b404423cf6b99",
       "style": "IPY_MODEL_9272de68965c4823b860983f9f2453aa"
      }
     },
     "9bfa76b83c4b4b77a467a53d4b92ae23": {
      "model_module": "@jupyter-widgets/controls",
      "model_module_version": "1.5.0",
      "model_name": "ButtonModel",
      "state": {
       "description": "Run all below",
       "layout": "IPY_MODEL_c78e1c1be77f4590b97309d0da1afc0d",
       "style": "IPY_MODEL_c9f515f1b6d04501b9168a6c53248dc8"
      }
     },
     "9d8c6529613d4872bf42605fe158d99f": {
      "model_module": "@jupyter-widgets/controls",
      "model_module_version": "1.5.0",
      "model_name": "HBoxModel",
      "state": {
       "children": [
        "IPY_MODEL_d3b57e8b09c147839c6609c051f2d97d",
        "IPY_MODEL_5d9a1563aa724dae95181b753d10fa3f"
       ],
       "layout": "IPY_MODEL_5f8427f4e0de41bca65d20662b4f85b6"
      }
     },
     "9dbc0243a3d84744a9b23ad316cf6526": {
      "model_module": "@jupyter-widgets/base",
      "model_module_version": "1.2.0",
      "model_name": "LayoutModel",
      "state": {}
     },
     "a4cc91ee8dc443fabd29c129797b98f0": {
      "model_module": "@jupyter-widgets/base",
      "model_module_version": "1.2.0",
      "model_name": "LayoutModel",
      "state": {}
     },
     "a60f67cb1f22447fb9c2e4149c08ec19": {
      "model_module": "@jupyter-widgets/controls",
      "model_module_version": "1.5.0",
      "model_name": "HBoxModel",
      "state": {
       "children": [
        "IPY_MODEL_49fe515821bb46259ae75d96040e97d2",
        "IPY_MODEL_3784736b116c45d789e4fd686e2d9be6"
       ],
       "layout": "IPY_MODEL_8897690495b942b78985b7a2097ea2e7"
      }
     },
     "a90603723e5140ca86eced38b5a701d7": {
      "model_module": "@jupyter-widgets/base",
      "model_module_version": "1.2.0",
      "model_name": "LayoutModel",
      "state": {}
     },
     "aa291099ce744a7ca8daa2bd38fb24dd": {
      "model_module": "@jupyter-widgets/base",
      "model_module_version": "1.2.0",
      "model_name": "LayoutModel",
      "state": {}
     },
     "ad9637bf67b94458a60a9ddc5270f632": {
      "model_module": "@jupyter-widgets/controls",
      "model_module_version": "1.5.0",
      "model_name": "DescriptionStyleModel",
      "state": {
       "description_width": ""
      }
     },
     "b53b4c0fbf6b47c8b17ad9397214c39f": {
      "model_module": "@jupyter-widgets/base",
      "model_module_version": "1.2.0",
      "model_name": "LayoutModel",
      "state": {}
     },
     "b663fac4186d4e2b9f3d7ec5b56983d2": {
      "model_module": "@jupyter-widgets/controls",
      "model_module_version": "1.5.0",
      "model_name": "DescriptionStyleModel",
      "state": {
       "description_width": ""
      }
     },
     "ba41cce6e5354738b28d2e554e51133f": {
      "model_module": "@jupyter-widgets/base",
      "model_module_version": "1.2.0",
      "model_name": "LayoutModel",
      "state": {}
     },
     "ba8ff925bbf54640945b404423cf6b99": {
      "model_module": "@jupyter-widgets/base",
      "model_module_version": "1.2.0",
      "model_name": "LayoutModel",
      "state": {}
     },
     "c2a24b5c80af41f481d947c0d94a2c27": {
      "model_module": "@jupyter-widgets/controls",
      "model_module_version": "1.5.0",
      "model_name": "HBoxModel",
      "state": {
       "children": [
        "IPY_MODEL_f02968fe85ba48de87554f8253738318",
        "IPY_MODEL_4da72df4c303461db672cff1d3e13968"
       ],
       "layout": "IPY_MODEL_7345e5af8ade4bec92ef90722eb8d1e1"
      }
     },
     "c78e1c1be77f4590b97309d0da1afc0d": {
      "model_module": "@jupyter-widgets/base",
      "model_module_version": "1.2.0",
      "model_name": "LayoutModel",
      "state": {}
     },
     "c9f515f1b6d04501b9168a6c53248dc8": {
      "model_module": "@jupyter-widgets/controls",
      "model_module_version": "1.5.0",
      "model_name": "ButtonStyleModel",
      "state": {}
     },
     "ccc3bf12c9e34b6f9a1c115584799c25": {
      "model_module": "@jupyter-widgets/controls",
      "model_module_version": "1.5.0",
      "model_name": "ButtonStyleModel",
      "state": {}
     },
     "d0373200a801420381deb7ef97b6eece": {
      "model_module": "@jupyter-widgets/base",
      "model_module_version": "1.2.0",
      "model_name": "LayoutModel",
      "state": {}
     },
     "d1613a4cafe64da0ae49474db4df3ebb": {
      "model_module": "@jupyter-widgets/controls",
      "model_module_version": "1.5.0",
      "model_name": "DescriptionStyleModel",
      "state": {
       "description_width": ""
      }
     },
     "d3b57e8b09c147839c6609c051f2d97d": {
      "model_module": "@jupyter-widgets/controls",
      "model_module_version": "1.5.0",
      "model_name": "TextModel",
      "state": {
       "description": "Metadata file:",
       "layout": "IPY_MODEL_0b296f76240f452bb69c4295a96fa0f0",
       "style": "IPY_MODEL_d1613a4cafe64da0ae49474db4df3ebb",
       "value": "metadata.xlsx"
      }
     },
     "dae4c393215c4a40b000b3b18500d4ab": {
      "model_module": "@jupyter-widgets/controls",
      "model_module_version": "1.5.0",
      "model_name": "ButtonModel",
      "state": {
       "description": "Save \"test.ini\"",
       "layout": "IPY_MODEL_6cbc8f16cacd4f16b12cd7f5ff6abfb8",
       "style": "IPY_MODEL_e5f71c9250104c0a901c0675ae6b6565"
      }
     },
     "dcb7c70d63244107abdaf3a6458da1d5": {
      "model_module": "@jupyter-widgets/base",
      "model_module_version": "1.2.0",
      "model_name": "LayoutModel",
      "state": {}
     },
     "de666b80733d4cdb90aa7abd8733c98a": {
      "model_module": "@jupyter-widgets/base",
      "model_module_version": "1.2.0",
      "model_name": "LayoutModel",
      "state": {}
     },
     "dee156a555da4a33ab767d0cc6c40003": {
      "model_module": "@jupyter-widgets/controls",
      "model_module_version": "1.5.0",
      "model_name": "TextModel",
      "state": {
       "description": "Metadata file:",
       "layout": "IPY_MODEL_92f097e869d247f0928b2158d6b42ed6",
       "style": "IPY_MODEL_b663fac4186d4e2b9f3d7ec5b56983d2"
      }
     },
     "e467f21d15d6424bb1606376ec42e633": {
      "model_module": "@jupyter-widgets/controls",
      "model_module_version": "1.5.0",
      "model_name": "DescriptionStyleModel",
      "state": {
       "description_width": ""
      }
     },
     "e582d0067f0a40eab648b3f09be219c3": {
      "model_module": "@jupyter-widgets/controls",
      "model_module_version": "1.5.0",
      "model_name": "DatePickerModel",
      "state": {
       "description": "Cut-off date:",
       "disabled": false,
       "layout": "IPY_MODEL_066aeedf51824a769f126058aa6446d9",
       "style": "IPY_MODEL_3d6597200c6249cb9bce49725ec7ffa3"
      }
     },
     "e5f5803ed563428fa8fae6c379d981a0": {
      "model_module": "@jupyter-widgets/controls",
      "model_module_version": "1.5.0",
      "model_name": "DatePickerModel",
      "state": {
       "description": "Cut-off date:",
       "disabled": false,
       "layout": "IPY_MODEL_966e8acd7fc34b7983f32f7612afa49d",
       "style": "IPY_MODEL_0ccfd8081f5b461bb3f8470d7bcef3bf"
      }
     },
     "e5f71c9250104c0a901c0675ae6b6565": {
      "model_module": "@jupyter-widgets/controls",
      "model_module_version": "1.5.0",
      "model_name": "ButtonStyleModel",
      "state": {}
     },
     "e6969caa15c7410ea7881d0f631bb15f": {
      "model_module": "@jupyter-widgets/controls",
      "model_module_version": "1.5.0",
      "model_name": "DescriptionStyleModel",
      "state": {
       "description_width": ""
      }
     },
     "e8399bc5fc2a4ba8814fa9144d312d26": {
      "model_module": "@jupyter-widgets/controls",
      "model_module_version": "1.5.0",
      "model_name": "DatePickerModel",
      "state": {
       "description": "Cut-off date:",
       "disabled": false,
       "layout": "IPY_MODEL_b53b4c0fbf6b47c8b17ad9397214c39f",
       "style": "IPY_MODEL_ad9637bf67b94458a60a9ddc5270f632"
      }
     },
     "e93e8b69a1844ef4b693e8448abd8b64": {
      "model_module": "@jupyter-widgets/controls",
      "model_module_version": "1.5.0",
      "model_name": "DescriptionStyleModel",
      "state": {
       "description_width": ""
      }
     },
     "efe12bc49fe94e11a920f98e3f6b8759": {
      "model_module": "@jupyter-widgets/controls",
      "model_module_version": "1.5.0",
      "model_name": "ButtonStyleModel",
      "state": {}
     },
     "f0057d3430e94bd383e73600481321c9": {
      "model_module": "@jupyter-widgets/controls",
      "model_module_version": "1.5.0",
      "model_name": "ButtonModel",
      "state": {
       "description": "Save \"config.ini\"",
       "layout": "IPY_MODEL_dcb7c70d63244107abdaf3a6458da1d5",
       "style": "IPY_MODEL_7b9cb114ccb14f0b81bcb1320f4006ea"
      }
     },
     "f02968fe85ba48de87554f8253738318": {
      "model_module": "@jupyter-widgets/controls",
      "model_module_version": "1.5.0",
      "model_name": "TextModel",
      "state": {
       "description": "Metadata file:",
       "layout": "IPY_MODEL_a4cc91ee8dc443fabd29c129797b98f0",
       "style": "IPY_MODEL_e93e8b69a1844ef4b693e8448abd8b64",
       "value": "metadata.xlsx"
      }
     },
     "f39f3b8a31a748b88ae3d6f823d55fc0": {
      "model_module": "@jupyter-widgets/controls",
      "model_module_version": "1.5.0",
      "model_name": "DescriptionStyleModel",
      "state": {
       "description_width": ""
      }
     },
     "fa29459c4afd41048f8986743abd1414": {
      "model_module": "@jupyter-widgets/base",
      "model_module_version": "1.2.0",
      "model_name": "LayoutModel",
      "state": {}
     }
    },
    "version_major": 2,
    "version_minor": 0
   }
  }
 },
 "nbformat": 4,
 "nbformat_minor": 5
}
