{
 "cells": [
  {
   "cell_type": "markdown",
   "id": "1fdbfb92-e637-40a1-99e9-129e5958c180",
   "metadata": {},
   "source": [
    "# Configuration\n",
    "\n",
    "Different variables can be defined here (e.g., paths of data). These changes will be saved in a configuration file (by default, ```config.ini```) and will therefore not have to be redefined each time. Note that other tabs can also modified this file."
   ]
  },
  {
   "cell_type": "code",
   "execution_count": 1,
   "id": "2f2c795d-95b7-4dd8-97a5-7f84cba5c12e",
   "metadata": {
    "jupyter": {
     "source_hidden": true
    },
    "scrolled": true
   },
   "outputs": [
    {
     "data": {
      "application/vnd.jupyter.widget-view+json": {
       "model_id": "49688e2d58d54c9b8c7232fc411d30fb",
       "version_major": 2,
       "version_minor": 0
      },
      "text/plain": [
       "HBox(children=(Combobox(value='config.ini', description='Configuration file:', ensure_option=True, options=('c…"
      ]
     },
     "metadata": {},
     "output_type": "display_data"
    }
   ],
   "source": [
    "import ipywidgets as widgets\n",
    "import os\n",
    "\n",
    "list_config_files = [x for x in os.listdir() if '.ini' in x]\n",
    "\n",
    "# config_w = widgets.Text(value=(list_config_files[0] if list_config_files != [] else 'config.ini'),\n",
    "#                         description='Configuration file:', disabled=False)\n",
    "\n",
    "config_w = widgets.Combobox(value=(list_config_files[0] if list_config_files != [] else 'config.ini'),\n",
    "    placeholder='Choose config file',\n",
    "    options=list_config_files,\n",
    "    description='Configuration file:',\n",
    "    ensure_option=True,\n",
    "    disabled=False\n",
    ")\n",
    "widgets.HBox([config_w])"
   ]
  },
  {
   "cell_type": "markdown",
   "id": "d299474a",
   "metadata": {},
   "source": [
    "The database is a structure of files organized in different folders. Some files are mandatory and other are optionnals. Let first introduce the mandatory files and associated options (the next section for optional files and options).\n",
    "\n",
    "All paths are given according to the root of the database, the default minimum structure is:\n",
    "- a ```.\\data\\``` folder that contains the files of data (one per patient).\n",
    "- a ```.\\*.xlsx``` file that contain the metadata of patients."
   ]
  },
  {
   "cell_type": "code",
   "execution_count": 2,
   "id": "f313e5b6-4495-47d0-a333-94febf3542ee",
   "metadata": {
    "jupyter": {
     "source_hidden": true
    },
    "scrolled": false,
    "tags": []
   },
   "outputs": [
    {
     "data": {
      "application/vnd.jupyter.widget-view+json": {
       "model_id": "f71840d26b9047f0bceb98467e341fb4",
       "version_major": 2,
       "version_minor": 0
      },
      "text/plain": [
       "VBox(children=(Text(value='C:\\\\Users\\\\Fabien Boux\\\\Code\\\\Oncology-clinical-trial\\\\data\\\\dummy', description='P…"
      ]
     },
     "metadata": {},
     "output_type": "display_data"
    }
   ],
   "source": [
    "from datetime import datetime\n",
    "from functions.config import Config\n",
    "\n",
    "config_filename = config_w.value\n",
    "\n",
    "if not os.path.isfile(config_filename):\n",
    "    f = open(config_filename, \"w\")\n",
    "    f.close()\n",
    "\n",
    "config = Config(config_filename)\n",
    "config.read()\n",
    "\n",
    "path_database = widgets.Text(value=(config.get_value('database') if config.is_key('database') else ''),\n",
    "                             description='Path of database:', disabled=False)\n",
    "\n",
    "metadata_filename = widgets.Text(value=(config.get_value('metadata') if config.is_key('metadata') else ''),\n",
    "                                 description='Metadata file:', disabled=False)\n",
    "\n",
    "def on_button_save_clicked(var):\n",
    "    config.set_value(path_database.value, 'database', section='PATH')\n",
    "    config.set_value(metadata_filename.value, 'metadata', section='PATH')\n",
    "    config.write()\n",
    "\n",
    "button_save = widgets.Button(description='Save \"{}\"'.format(config_filename))\n",
    "button_save.on_click(on_button_save_clicked)\n",
    "\n",
    "widgets.VBox([path_database, \n",
    "              widgets.HBox([metadata_filename, widgets.Label(value='This can be a relative path from the path of the database (previous field).')]),\n",
    "              button_save])"
   ]
  },
  {
   "cell_type": "markdown",
   "id": "e65ac3c3",
   "metadata": {},
   "source": [
    "The next options are used for specific analysis. Some of these options allow to go further in the analyses and others to modify the analysis framework (e.g., the cut-off date allows to repeat analyses at a given time)."
   ]
  },
  {
   "cell_type": "code",
   "execution_count": 4,
   "id": "242254c2",
   "metadata": {
    "scrolled": true
   },
   "outputs": [
    {
     "data": {
      "application/vnd.jupyter.widget-view+json": {
       "model_id": "f20e0b9a783a4edb93a7effadb94c2dc",
       "version_major": 2,
       "version_minor": 0
      },
      "text/plain": [
       "VBox(children=(DatePicker(value=None, description='Cut-off date:'), HBox(children=(IntText(value=0, descriptio…"
      ]
     },
     "metadata": {},
     "output_type": "display_data"
    },
    {
     "ename": "TypeError",
     "evalue": "option values must be strings",
     "output_type": "error",
     "traceback": [
      "\u001b[1;31m---------------------------------------------------------------------------\u001b[0m",
      "\u001b[1;31mTypeError\u001b[0m                                 Traceback (most recent call last)",
      "Input \u001b[1;32mIn [4]\u001b[0m, in \u001b[0;36mon_button_save_clicked\u001b[1;34m(var)\u001b[0m\n\u001b[0;32m     27\u001b[0m \u001b[38;5;28;01melse\u001b[39;00m:\n\u001b[0;32m     28\u001b[0m     config\u001b[38;5;241m.\u001b[39mremove_value(\u001b[38;5;124m'\u001b[39m\u001b[38;5;124mcutoff_date\u001b[39m\u001b[38;5;124m'\u001b[39m, section\u001b[38;5;241m=\u001b[39m\u001b[38;5;124m'\u001b[39m\u001b[38;5;124mOTHER\u001b[39m\u001b[38;5;124m'\u001b[39m)\n\u001b[1;32m---> 29\u001b[0m \u001b[43mconfig\u001b[49m\u001b[38;5;241;43m.\u001b[39;49m\u001b[43mset_value\u001b[49m\u001b[43m(\u001b[49m\u001b[43mfollowup\u001b[49m\u001b[38;5;241;43m.\u001b[39;49m\u001b[43mvalue\u001b[49m\u001b[43m,\u001b[49m\u001b[43m \u001b[49m\u001b[38;5;124;43m'\u001b[39;49m\u001b[38;5;124;43mfollowup\u001b[39;49m\u001b[38;5;124;43m'\u001b[39;49m\u001b[43m,\u001b[49m\u001b[43m \u001b[49m\u001b[43msection\u001b[49m\u001b[38;5;241;43m=\u001b[39;49m\u001b[38;5;124;43m'\u001b[39;49m\u001b[38;5;124;43mOTHER\u001b[39;49m\u001b[38;5;124;43m'\u001b[39;49m\u001b[43m)\u001b[49m\n\u001b[0;32m     30\u001b[0m config\u001b[38;5;241m.\u001b[39mwrite()\n",
      "File \u001b[1;32m~\\Code\\Oncology-clinical-trial\\functions\\config.py:64\u001b[0m, in \u001b[0;36mConfig.set_value\u001b[1;34m(self, val, key, section)\u001b[0m\n\u001b[0;32m     62\u001b[0m \u001b[38;5;28;01mif\u001b[39;00m \u001b[38;5;129;01mnot\u001b[39;00m \u001b[38;5;28mself\u001b[39m\u001b[38;5;241m.\u001b[39mis_section(section):\n\u001b[0;32m     63\u001b[0m     \u001b[38;5;28mself\u001b[39m\u001b[38;5;241m.\u001b[39mconfig\u001b[38;5;241m.\u001b[39madd_section(section)\n\u001b[1;32m---> 64\u001b[0m \u001b[38;5;28;43mself\u001b[39;49m\u001b[38;5;241;43m.\u001b[39;49m\u001b[43mconfig\u001b[49m\u001b[38;5;241;43m.\u001b[39;49m\u001b[43mset\u001b[49m\u001b[43m(\u001b[49m\u001b[43msection\u001b[49m\u001b[43m,\u001b[49m\u001b[43m \u001b[49m\u001b[43mkey\u001b[49m\u001b[43m,\u001b[49m\u001b[43m \u001b[49m\u001b[43mval\u001b[49m\u001b[43m)\u001b[49m\n",
      "File \u001b[1;32mC:\\ProgramData\\Anaconda3\\envs\\NanoRad\\lib\\configparser.py:1203\u001b[0m, in \u001b[0;36mConfigParser.set\u001b[1;34m(self, section, option, value)\u001b[0m\n\u001b[0;32m   1200\u001b[0m \u001b[38;5;28;01mdef\u001b[39;00m \u001b[38;5;21mset\u001b[39m(\u001b[38;5;28mself\u001b[39m, section, option, value\u001b[38;5;241m=\u001b[39m\u001b[38;5;28;01mNone\u001b[39;00m):\n\u001b[0;32m   1201\u001b[0m     \u001b[38;5;124;03m\"\"\"Set an option.  Extends RawConfigParser.set by validating type and\u001b[39;00m\n\u001b[0;32m   1202\u001b[0m \u001b[38;5;124;03m    interpolation syntax on the value.\"\"\"\u001b[39;00m\n\u001b[1;32m-> 1203\u001b[0m     \u001b[38;5;28;43mself\u001b[39;49m\u001b[38;5;241;43m.\u001b[39;49m\u001b[43m_validate_value_types\u001b[49m\u001b[43m(\u001b[49m\u001b[43moption\u001b[49m\u001b[38;5;241;43m=\u001b[39;49m\u001b[43moption\u001b[49m\u001b[43m,\u001b[49m\u001b[43m \u001b[49m\u001b[43mvalue\u001b[49m\u001b[38;5;241;43m=\u001b[39;49m\u001b[43mvalue\u001b[49m\u001b[43m)\u001b[49m\n\u001b[0;32m   1204\u001b[0m     \u001b[38;5;28msuper\u001b[39m()\u001b[38;5;241m.\u001b[39mset(section, option, value)\n",
      "File \u001b[1;32mC:\\ProgramData\\Anaconda3\\envs\\NanoRad\\lib\\configparser.py:1188\u001b[0m, in \u001b[0;36mRawConfigParser._validate_value_types\u001b[1;34m(self, section, option, value)\u001b[0m\n\u001b[0;32m   1186\u001b[0m \u001b[38;5;28;01mif\u001b[39;00m \u001b[38;5;129;01mnot\u001b[39;00m \u001b[38;5;28mself\u001b[39m\u001b[38;5;241m.\u001b[39m_allow_no_value \u001b[38;5;129;01mor\u001b[39;00m value:\n\u001b[0;32m   1187\u001b[0m     \u001b[38;5;28;01mif\u001b[39;00m \u001b[38;5;129;01mnot\u001b[39;00m \u001b[38;5;28misinstance\u001b[39m(value, \u001b[38;5;28mstr\u001b[39m):\n\u001b[1;32m-> 1188\u001b[0m         \u001b[38;5;28;01mraise\u001b[39;00m \u001b[38;5;167;01mTypeError\u001b[39;00m(\u001b[38;5;124m\"\u001b[39m\u001b[38;5;124moption values must be strings\u001b[39m\u001b[38;5;124m\"\u001b[39m)\n",
      "\u001b[1;31mTypeError\u001b[0m: option values must be strings"
     ]
    }
   ],
   "source": [
    "from datetime import datetime\n",
    "from functions.config import Config\n",
    "\n",
    "config_filename = config_w.value\n",
    "\n",
    "if not os.path.isfile(config_filename):\n",
    "    f = open(config_filename, \"w\")\n",
    "    f.close()\n",
    "\n",
    "config = Config(config_filename)\n",
    "config.read()\n",
    "\n",
    "visits = widgets.Text(value=(str(config.get_value('visits')).replace(\"'\", \"\")[1:-1] if config.is_key('visits') else ''), placeholder='Visits', description='Visits:',\n",
    "                      disabled=False)\n",
    "\n",
    "\n",
    "cutoff_date = widgets.DatePicker(description='Cut-off date:', value=(datetime.strptime(config.get_value('cutoff_date'), '%Y-%m-%d') if config.is_key('cutoff_date') else None), \n",
    "                                 disabled=False)\n",
    "\n",
    "followup = widgets.IntText(value=(config.get_value('followup') if config.is_key('followup') else 0),\n",
    "                description='Follow-up:', disabled=False)\n",
    "\n",
    "def on_button_save_clicked(var):\n",
    "    config.set_value(visits.value.replace(' ','').split(','), 'visits', section='OTHER')\n",
    "    if cutoff_date.value is not None:\n",
    "        config.set_value(str(cutoff_date.value), 'cutoff_date', section='OTHER')\n",
    "    else:\n",
    "        config.remove_value('cutoff_date', section='OTHER')\n",
    "    config.set_value(followup.value, 'followup', section='OTHER')\n",
    "    config.write()\n",
    "\n",
    "button_save = widgets.Button(description='Save \"{}\"'.format(config_filename))\n",
    "button_save.on_click(on_button_save_clicked)\n",
    "\n",
    "widgets.VBox([cutoff_date,\n",
    "              widgets.HBox([followup, widgets.Label(value='Duration in days')]),\n",
    "              widgets.HBox([visits, widgets.Label(value='List of visits separeted by commas. Format is unit letter and number (e.g., \"W5\" for 5 weeks or \"M2\" for 2 months)')]),\n",
    "              button_save])"
   ]
  }
 ],
 "metadata": {
  "celltoolbar": "Aucun(e)",
  "hide_input": false,
  "kernelspec": {
   "display_name": "Python 3 (ipykernel)",
   "language": "python",
   "name": "python3"
  },
  "language_info": {
   "codemirror_mode": {
    "name": "ipython",
    "version": 3
   },
   "file_extension": ".py",
   "mimetype": "text/x-python",
   "name": "python",
   "nbconvert_exporter": "python",
   "pygments_lexer": "ipython3",
   "version": "3.9.10"
  },
  "widgets": {
   "application/vnd.jupyter.widget-state+json": {
    "state": {
     "055a868ba3d14078b953d9da426b37af": {
      "model_module": "@jupyter-widgets/controls",
      "model_module_version": "1.5.0",
      "model_name": "ButtonStyleModel",
      "state": {}
     },
     "08e5dab6b9b3430194a498e0285ce5e8": {
      "model_module": "@jupyter-widgets/base",
      "model_module_version": "1.2.0",
      "model_name": "LayoutModel",
      "state": {}
     },
     "0b0b6da0f30340a28a787e92c889cf8e": {
      "model_module": "@jupyter-widgets/controls",
      "model_module_version": "1.5.0",
      "model_name": "VBoxModel",
      "state": {
       "children": [
        "IPY_MODEL_4ecb668aaada4977a3262472406fb6a8",
        "IPY_MODEL_16233ebe291b4a1fb0bcfc66518530df",
        "IPY_MODEL_36554a4899c64f07b5304c2a7f15da13",
        "IPY_MODEL_1553e7eeb4a647b3af9532c5929e9475"
       ],
       "layout": "IPY_MODEL_ccc9f78aee554dd892ea0eb5a39e539c"
      }
     },
     "0f22539d894f40fb9554cf3f159a152d": {
      "model_module": "@jupyter-widgets/controls",
      "model_module_version": "1.5.0",
      "model_name": "HBoxModel",
      "state": {
       "children": [
        "IPY_MODEL_1e165120df44415487ae1ce6a6575e12",
        "IPY_MODEL_9541575cf6ab4feb96a0ab4c21fa0bbc"
       ],
       "layout": "IPY_MODEL_736f7bab648542b9b0be52ce630ecfc0"
      }
     },
     "100e8689e2c34e629bf9d36579fa20f3": {
      "model_module": "@jupyter-widgets/controls",
      "model_module_version": "1.5.0",
      "model_name": "DescriptionStyleModel",
      "state": {
       "description_width": ""
      }
     },
     "1356bcc6bc37412faa0ba5a33e22401c": {
      "model_module": "@jupyter-widgets/controls",
      "model_module_version": "1.5.0",
      "model_name": "ButtonModel",
      "state": {
       "description": "Save \"test.ini\"",
       "layout": "IPY_MODEL_d1cc72d49d3a4e28a7309c6966e80434",
       "style": "IPY_MODEL_86870a825eb2463ba7dc6de474070373"
      }
     },
     "1553e7eeb4a647b3af9532c5929e9475": {
      "model_module": "@jupyter-widgets/controls",
      "model_module_version": "1.5.0",
      "model_name": "ButtonModel",
      "state": {
       "description": "Save \"config.ini\"",
       "layout": "IPY_MODEL_fcd3f17988ac48b5abee48181fdb35ec",
       "style": "IPY_MODEL_055a868ba3d14078b953d9da426b37af"
      }
     },
     "16233ebe291b4a1fb0bcfc66518530df": {
      "model_module": "@jupyter-widgets/controls",
      "model_module_version": "1.5.0",
      "model_name": "HBoxModel",
      "state": {
       "children": [
        "IPY_MODEL_653ec69c3f114cedba1e1f4254111d0d",
        "IPY_MODEL_8c5ce86144f7429194b1bbcc93fee038"
       ],
       "layout": "IPY_MODEL_4f8cb5225b00412491fd7ae285f399c3"
      }
     },
     "189d2b1a2599470b8d2a4d7c6e0c65ab": {
      "model_module": "@jupyter-widgets/controls",
      "model_module_version": "1.5.0",
      "model_name": "DescriptionStyleModel",
      "state": {
       "description_width": ""
      }
     },
     "1e165120df44415487ae1ce6a6575e12": {
      "model_module": "@jupyter-widgets/controls",
      "model_module_version": "1.5.0",
      "model_name": "TextModel",
      "state": {
       "description": "Metadata file:",
       "layout": "IPY_MODEL_c665f89222774b399fae38193f0dd20b",
       "style": "IPY_MODEL_6f31c3b55d414a49a1216aa4f20c222d",
       "value": "test"
      }
     },
     "20137e3e90be4fee8bdb30f0b966ece0": {
      "model_module": "@jupyter-widgets/controls",
      "model_module_version": "1.5.0",
      "model_name": "TextModel",
      "state": {
       "description": "Configuration file:",
       "layout": "IPY_MODEL_d8a87510dc7146aaa658c608987c0203",
       "style": "IPY_MODEL_b64b8ffb7e9b47ddb6f20a2f5e39b98f",
       "value": "config.ini"
      }
     },
     "22e7a5a36a5044a9ba9ae17a7d5173e5": {
      "model_module": "@jupyter-widgets/base",
      "model_module_version": "1.2.0",
      "model_name": "LayoutModel",
      "state": {}
     },
     "36554a4899c64f07b5304c2a7f15da13": {
      "model_module": "@jupyter-widgets/controls",
      "model_module_version": "1.5.0",
      "model_name": "DatePickerModel",
      "state": {
       "description": "Cut-off date:",
       "disabled": false,
       "layout": "IPY_MODEL_84171dc028684a1bb3f9206f887e5db7",
       "style": "IPY_MODEL_4bd8b74e62f5453d94320900bbcd37f0"
      }
     },
     "3d5e91dd73964544834b954b0867caa7": {
      "model_module": "@jupyter-widgets/base",
      "model_module_version": "1.2.0",
      "model_name": "LayoutModel",
      "state": {}
     },
     "3e78739e48144853abfeff7035a2181c": {
      "model_module": "@jupyter-widgets/base",
      "model_module_version": "1.2.0",
      "model_name": "LayoutModel",
      "state": {}
     },
     "413011b0af8b479ca31e498013a15ae8": {
      "model_module": "@jupyter-widgets/controls",
      "model_module_version": "1.5.0",
      "model_name": "DatePickerModel",
      "state": {
       "description": "Cut-off date:",
       "disabled": false,
       "layout": "IPY_MODEL_bd32707135894055862c8b0c6596751e",
       "style": "IPY_MODEL_898b1f7fa38342c3bae43221f21981eb"
      }
     },
     "4bd8b74e62f5453d94320900bbcd37f0": {
      "model_module": "@jupyter-widgets/controls",
      "model_module_version": "1.5.0",
      "model_name": "DescriptionStyleModel",
      "state": {
       "description_width": ""
      }
     },
     "4ce4ff0fa23343319e3d41eb319c3674": {
      "model_module": "@jupyter-widgets/controls",
      "model_module_version": "1.5.0",
      "model_name": "VBoxModel",
      "state": {
       "children": [
        "IPY_MODEL_c1e80bd627624e81b828374ddc5f5966",
        "IPY_MODEL_0f22539d894f40fb9554cf3f159a152d",
        "IPY_MODEL_dcb59eca31474c6fa46a44158ab0e6c0",
        "IPY_MODEL_1356bcc6bc37412faa0ba5a33e22401c"
       ],
       "layout": "IPY_MODEL_9799464fd36d48f895250fd0f80d42b7"
      }
     },
     "4ecb668aaada4977a3262472406fb6a8": {
      "model_module": "@jupyter-widgets/controls",
      "model_module_version": "1.5.0",
      "model_name": "TextModel",
      "state": {
       "description": "Path of database:",
       "layout": "IPY_MODEL_d5ea320052e34957b4e62f230e2e471a",
       "style": "IPY_MODEL_6352911efae74a10bef6c894ea345cb4",
       "value": "C:\\Users\\Fabien Boux\\Code\\Oncology-clinical-trial\\data\\dummy"
      }
     },
     "4f8cb5225b00412491fd7ae285f399c3": {
      "model_module": "@jupyter-widgets/base",
      "model_module_version": "1.2.0",
      "model_name": "LayoutModel",
      "state": {}
     },
     "5dbaf878c9e54b9ea980bcdb4f8d0e98": {
      "model_module": "@jupyter-widgets/controls",
      "model_module_version": "1.5.0",
      "model_name": "HBoxModel",
      "state": {
       "children": [
        "IPY_MODEL_93fb81219a0e45b8960fbf4c349fc862",
        "IPY_MODEL_e1ebffc1411f4c2eaf2ce94da7dce35b"
       ],
       "layout": "IPY_MODEL_6b24393c89414549a97627db18fe72f7"
      }
     },
     "6352911efae74a10bef6c894ea345cb4": {
      "model_module": "@jupyter-widgets/controls",
      "model_module_version": "1.5.0",
      "model_name": "DescriptionStyleModel",
      "state": {
       "description_width": ""
      }
     },
     "653ec69c3f114cedba1e1f4254111d0d": {
      "model_module": "@jupyter-widgets/controls",
      "model_module_version": "1.5.0",
      "model_name": "TextModel",
      "state": {
       "description": "Metadata file:",
       "layout": "IPY_MODEL_d8fd853c5ee840b9bad47cbf8ff548a7",
       "style": "IPY_MODEL_c3cb9f7ca0664fcfa745988c1d958ab8",
       "value": "metadata.xlsx"
      }
     },
     "654a3004a02b4dde8ca975b381c870f7": {
      "model_module": "@jupyter-widgets/controls",
      "model_module_version": "1.5.0",
      "model_name": "TextModel",
      "state": {
       "description": "Path of database:",
       "layout": "IPY_MODEL_3e78739e48144853abfeff7035a2181c",
       "style": "IPY_MODEL_ef6758872c454d52896b060678cdc470",
       "value": "C:\\Users\\Fabien Boux\\Code\\Oncology-clinical-trial\\data\\dummy"
      }
     },
     "65965657963f4278b084e265f1468519": {
      "model_module": "@jupyter-widgets/controls",
      "model_module_version": "1.5.0",
      "model_name": "DescriptionStyleModel",
      "state": {
       "description_width": ""
      }
     },
     "6b24393c89414549a97627db18fe72f7": {
      "model_module": "@jupyter-widgets/base",
      "model_module_version": "1.2.0",
      "model_name": "LayoutModel",
      "state": {}
     },
     "6f31c3b55d414a49a1216aa4f20c222d": {
      "model_module": "@jupyter-widgets/controls",
      "model_module_version": "1.5.0",
      "model_name": "DescriptionStyleModel",
      "state": {
       "description_width": ""
      }
     },
     "736f7bab648542b9b0be52ce630ecfc0": {
      "model_module": "@jupyter-widgets/base",
      "model_module_version": "1.2.0",
      "model_name": "LayoutModel",
      "state": {}
     },
     "779d4149e1524e9aa46b5f798dd5a8c1": {
      "model_module": "@jupyter-widgets/base",
      "model_module_version": "1.2.0",
      "model_name": "LayoutModel",
      "state": {}
     },
     "7b940a170650400c9464abf3ca1b68e9": {
      "model_module": "@jupyter-widgets/base",
      "model_module_version": "1.2.0",
      "model_name": "LayoutModel",
      "state": {}
     },
     "7d635ba1b8204af1abdb1b671242c20a": {
      "model_module": "@jupyter-widgets/base",
      "model_module_version": "1.2.0",
      "model_name": "LayoutModel",
      "state": {}
     },
     "84171dc028684a1bb3f9206f887e5db7": {
      "model_module": "@jupyter-widgets/base",
      "model_module_version": "1.2.0",
      "model_name": "LayoutModel",
      "state": {}
     },
     "86870a825eb2463ba7dc6de474070373": {
      "model_module": "@jupyter-widgets/controls",
      "model_module_version": "1.5.0",
      "model_name": "ButtonStyleModel",
      "state": {}
     },
     "898b1f7fa38342c3bae43221f21981eb": {
      "model_module": "@jupyter-widgets/controls",
      "model_module_version": "1.5.0",
      "model_name": "DescriptionStyleModel",
      "state": {
       "description_width": ""
      }
     },
     "8c5ce86144f7429194b1bbcc93fee038": {
      "model_module": "@jupyter-widgets/controls",
      "model_module_version": "1.5.0",
      "model_name": "LabelModel",
      "state": {
       "layout": "IPY_MODEL_779d4149e1524e9aa46b5f798dd5a8c1",
       "style": "IPY_MODEL_100e8689e2c34e629bf9d36579fa20f3",
       "value": "This can be a relative path from the path of the database (previous field)."
      }
     },
     "93fb81219a0e45b8960fbf4c349fc862": {
      "model_module": "@jupyter-widgets/controls",
      "model_module_version": "1.5.0",
      "model_name": "TextModel",
      "state": {
       "description": "Metadata file:",
       "layout": "IPY_MODEL_c74394ccc06e43d5b3701129c404e4f1",
       "style": "IPY_MODEL_65965657963f4278b084e265f1468519",
       "value": "metadata.xlsx"
      }
     },
     "9541575cf6ab4feb96a0ab4c21fa0bbc": {
      "model_module": "@jupyter-widgets/controls",
      "model_module_version": "1.5.0",
      "model_name": "LabelModel",
      "state": {
       "layout": "IPY_MODEL_22e7a5a36a5044a9ba9ae17a7d5173e5",
       "style": "IPY_MODEL_189d2b1a2599470b8d2a4d7c6e0c65ab",
       "value": "This can be a relative path from the path of the database (previous field)."
      }
     },
     "9799464fd36d48f895250fd0f80d42b7": {
      "model_module": "@jupyter-widgets/base",
      "model_module_version": "1.2.0",
      "model_name": "LayoutModel",
      "state": {}
     },
     "b1ac5115bc0f4240a0f8248c7855f269": {
      "model_module": "@jupyter-widgets/controls",
      "model_module_version": "1.5.0",
      "model_name": "ButtonStyleModel",
      "state": {}
     },
     "b3fc4837218e48dbb312af22d719883d": {
      "model_module": "@jupyter-widgets/controls",
      "model_module_version": "1.5.0",
      "model_name": "HBoxModel",
      "state": {
       "children": [
        "IPY_MODEL_20137e3e90be4fee8bdb30f0b966ece0"
       ],
       "layout": "IPY_MODEL_7d635ba1b8204af1abdb1b671242c20a"
      }
     },
     "b4dd88316b244c4db668de1cc6ed04cd": {
      "model_module": "@jupyter-widgets/controls",
      "model_module_version": "1.5.0",
      "model_name": "ButtonModel",
      "state": {
       "description": "Save \"config.ini\"",
       "layout": "IPY_MODEL_ebd120bf039d4a2188e3b83d3e960ea1",
       "style": "IPY_MODEL_b1ac5115bc0f4240a0f8248c7855f269"
      }
     },
     "b64b8ffb7e9b47ddb6f20a2f5e39b98f": {
      "model_module": "@jupyter-widgets/controls",
      "model_module_version": "1.5.0",
      "model_name": "DescriptionStyleModel",
      "state": {
       "description_width": ""
      }
     },
     "b8e2bf53133a4b539c73676ad22188f9": {
      "model_module": "@jupyter-widgets/controls",
      "model_module_version": "1.5.0",
      "model_name": "DescriptionStyleModel",
      "state": {
       "description_width": ""
      }
     },
     "b9729f33877c4d90ad2183af277f019c": {
      "model_module": "@jupyter-widgets/base",
      "model_module_version": "1.2.0",
      "model_name": "LayoutModel",
      "state": {}
     },
     "bd32707135894055862c8b0c6596751e": {
      "model_module": "@jupyter-widgets/base",
      "model_module_version": "1.2.0",
      "model_name": "LayoutModel",
      "state": {}
     },
     "c1e80bd627624e81b828374ddc5f5966": {
      "model_module": "@jupyter-widgets/controls",
      "model_module_version": "1.5.0",
      "model_name": "TextModel",
      "state": {
       "description": "Path of database:",
       "layout": "IPY_MODEL_3d5e91dd73964544834b954b0867caa7",
       "style": "IPY_MODEL_b8e2bf53133a4b539c73676ad22188f9",
       "value": "test"
      }
     },
     "c3cb9f7ca0664fcfa745988c1d958ab8": {
      "model_module": "@jupyter-widgets/controls",
      "model_module_version": "1.5.0",
      "model_name": "DescriptionStyleModel",
      "state": {
       "description_width": ""
      }
     },
     "c5dc7c618bb14b73a078dea0ac276d96": {
      "model_module": "@jupyter-widgets/controls",
      "model_module_version": "1.5.0",
      "model_name": "DescriptionStyleModel",
      "state": {
       "description_width": ""
      }
     },
     "c665f89222774b399fae38193f0dd20b": {
      "model_module": "@jupyter-widgets/base",
      "model_module_version": "1.2.0",
      "model_name": "LayoutModel",
      "state": {}
     },
     "c74394ccc06e43d5b3701129c404e4f1": {
      "model_module": "@jupyter-widgets/base",
      "model_module_version": "1.2.0",
      "model_name": "LayoutModel",
      "state": {}
     },
     "ccc9f78aee554dd892ea0eb5a39e539c": {
      "model_module": "@jupyter-widgets/base",
      "model_module_version": "1.2.0",
      "model_name": "LayoutModel",
      "state": {}
     },
     "d1cc72d49d3a4e28a7309c6966e80434": {
      "model_module": "@jupyter-widgets/base",
      "model_module_version": "1.2.0",
      "model_name": "LayoutModel",
      "state": {}
     },
     "d5ea320052e34957b4e62f230e2e471a": {
      "model_module": "@jupyter-widgets/base",
      "model_module_version": "1.2.0",
      "model_name": "LayoutModel",
      "state": {}
     },
     "d6ab846f23674efaae9f88866abaa159": {
      "model_module": "@jupyter-widgets/controls",
      "model_module_version": "1.5.0",
      "model_name": "DescriptionStyleModel",
      "state": {
       "description_width": ""
      }
     },
     "d8a87510dc7146aaa658c608987c0203": {
      "model_module": "@jupyter-widgets/base",
      "model_module_version": "1.2.0",
      "model_name": "LayoutModel",
      "state": {}
     },
     "d8fd853c5ee840b9bad47cbf8ff548a7": {
      "model_module": "@jupyter-widgets/base",
      "model_module_version": "1.2.0",
      "model_name": "LayoutModel",
      "state": {}
     },
     "dcb59eca31474c6fa46a44158ab0e6c0": {
      "model_module": "@jupyter-widgets/controls",
      "model_module_version": "1.5.0",
      "model_name": "DatePickerModel",
      "state": {
       "description": "Cut-off date:",
       "disabled": false,
       "layout": "IPY_MODEL_08e5dab6b9b3430194a498e0285ce5e8",
       "style": "IPY_MODEL_c5dc7c618bb14b73a078dea0ac276d96",
       "value": {
        "date": 10,
        "month": 1,
        "year": 2022
       }
      }
     },
     "e1ebffc1411f4c2eaf2ce94da7dce35b": {
      "model_module": "@jupyter-widgets/controls",
      "model_module_version": "1.5.0",
      "model_name": "LabelModel",
      "state": {
       "layout": "IPY_MODEL_b9729f33877c4d90ad2183af277f019c",
       "style": "IPY_MODEL_d6ab846f23674efaae9f88866abaa159",
       "value": "This can be a relative path from the path of the database (previous field)."
      }
     },
     "ebd120bf039d4a2188e3b83d3e960ea1": {
      "model_module": "@jupyter-widgets/base",
      "model_module_version": "1.2.0",
      "model_name": "LayoutModel",
      "state": {}
     },
     "ef6758872c454d52896b060678cdc470": {
      "model_module": "@jupyter-widgets/controls",
      "model_module_version": "1.5.0",
      "model_name": "DescriptionStyleModel",
      "state": {
       "description_width": ""
      }
     },
     "fc1f0608f0224d8a87e39452f95d3562": {
      "model_module": "@jupyter-widgets/controls",
      "model_module_version": "1.5.0",
      "model_name": "VBoxModel",
      "state": {
       "children": [
        "IPY_MODEL_654a3004a02b4dde8ca975b381c870f7",
        "IPY_MODEL_5dbaf878c9e54b9ea980bcdb4f8d0e98",
        "IPY_MODEL_413011b0af8b479ca31e498013a15ae8",
        "IPY_MODEL_b4dd88316b244c4db668de1cc6ed04cd"
       ],
       "layout": "IPY_MODEL_7b940a170650400c9464abf3ca1b68e9"
      }
     },
     "fcd3f17988ac48b5abee48181fdb35ec": {
      "model_module": "@jupyter-widgets/base",
      "model_module_version": "1.2.0",
      "model_name": "LayoutModel",
      "state": {}
     }
    },
    "version_major": 2,
    "version_minor": 0
   }
  }
 },
 "nbformat": 4,
 "nbformat_minor": 5
}
