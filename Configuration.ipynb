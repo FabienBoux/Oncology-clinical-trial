{
 "cells": [
  {
   "cell_type": "markdown",
   "id": "1fdbfb92-e637-40a1-99e9-129e5958c180",
   "metadata": {},
   "source": [
    "# Configuration\n",
    "\n",
    "Different variables can be defined here (eg. paths of data). These changes will be saved in the ```config.ini``` file and will therefore not have to be redefined each time. Note that other tabs can also modified this file."
   ]
  },
  {
   "cell_type": "code",
   "execution_count": 1,
   "id": "2f2c795d-95b7-4dd8-97a5-7f84cba5c12e",
   "metadata": {
    "jupyter": {
     "source_hidden": true
    },
    "tags": []
   },
   "outputs": [
    {
     "data": {
      "application/vnd.jupyter.widget-view+json": {
       "model_id": "4c6d1e02cf4e4f0e83dcf5f85bc1a6c7",
       "version_major": 2,
       "version_minor": 0
      },
      "text/plain": [
       "VBox(children=(Text(value='config.ini', description='Configuration file:'),))"
      ]
     },
     "metadata": {},
     "output_type": "display_data"
    }
   ],
   "source": [
    "import ipywidgets as widgets\n",
    "import os\n",
    "\n",
    "list_config_files = [x for x in os.listdir() if '.ini' in x]\n",
    "\n",
    "config_w = widgets.Text(value=(list_config_files[0] if list_config_files != [] else ''),\n",
    "                        description='Configuration file:', disabled=False)\n",
    "\n",
    "widgets.VBox([config_w])\n"
   ]
  },
  {
   "cell_type": "code",
   "execution_count": 2,
   "id": "f313e5b6-4495-47d0-a333-94febf3542ee",
   "metadata": {
    "jupyter": {
     "source_hidden": true
    },
    "tags": []
   },
   "outputs": [
    {
     "data": {
      "application/vnd.jupyter.widget-view+json": {
       "model_id": "ac0f69339fc5403fa3580c1bb4fac820",
       "version_major": 2,
       "version_minor": 0
      },
      "text/plain": [
       "VBox(children=(Text(value='C:\\\\Users\\\\Fabien Boux\\\\Code\\\\Oncology-clinical-trial\\\\data\\\\dummy', description='P…"
      ]
     },
     "metadata": {},
     "output_type": "display_data"
    }
   ],
   "source": [
    "from datetime import datetime\n",
    "from functions.config import Config\n",
    "\n",
    "config_filename = config_w.value\n",
    "\n",
    "if not os.path.isfile(config_filename):\n",
    "    f = open(config_filename, \"w\")\n",
    "    f.close()\n",
    "\n",
    "config = Config(config_filename)\n",
    "config.read()\n",
    "\n",
    "\n",
    "path_database = widgets.Text(value=(config.get_value('database') if config.is_key('database') else ''),\n",
    "                             description='Path of database:', disabled=False)\n",
    "\n",
    "metadata_filename = widgets.Text(value=(config.get_value('metadata') if config.is_key('metadata') else ''),\n",
    "                                 description='Metadata file:', disabled=False)\n",
    "\n",
    "cutoff_date = widgets.DatePicker(description='Cut-off date:', value=(datetime.strptime(config.get_value('cutoff_date'), '%Y-%m-%d') if config.is_key('cutoff_date') else None), \n",
    "                                 disabled=False)\n",
    "\n",
    "def on_button_save_clicked(var):\n",
    "    config.set_value(path_database.value, 'database', section='PATH')\n",
    "    config.set_value(metadata_filename.value, 'metadata', section='PATH')\n",
    "    if cutoff_date.value is not None:\n",
    "        config.set_value(str(cutoff_date.value), 'cutoff_date', section='OTHER')\n",
    "    else:\n",
    "        config.remove_value('cutoff_date', section='OTHER')\n",
    "        \n",
    "    config.write()\n",
    "\n",
    "button_save = widgets.Button(description='Save \"{}\"'.format(config_filename), command=on_button_save_clicked)\n",
    "button_save.on_click(on_button_save_clicked)\n",
    "\n",
    "widgets.VBox([path_database, \n",
    "              widgets.HBox([metadata_filename, widgets.Label(value='This can be a relative path from the path of the database.')]),\n",
    "              cutoff_date,\n",
    "              button_save])"
   ]
  }
 ],
 "metadata": {
  "kernelspec": {
   "display_name": "Python 3 (ipykernel)",
   "language": "python",
   "name": "python3"
  },
  "language_info": {
   "codemirror_mode": {
    "name": "ipython",
    "version": 3
   },
   "file_extension": ".py",
   "mimetype": "text/x-python",
   "name": "python",
   "nbconvert_exporter": "python",
   "pygments_lexer": "ipython3",
   "version": "3.9.9"
  },
  "widgets": {
   "application/vnd.jupyter.widget-state+json": {
    "state": {
     "106f409663bb432abc5e4f51415d27eb": {
      "model_module": "@jupyter-widgets/controls",
      "model_module_version": "1.5.0",
      "model_name": "HBoxModel",
      "state": {
       "children": [
        "IPY_MODEL_be22bf8b9715421ca614df1298a8cb2f",
        "IPY_MODEL_d9374101d83d4c83be200e051aef84b5"
       ],
       "layout": "IPY_MODEL_bba296b99724423e8423bf9cb41e9b06"
      }
     },
     "13f753dcea29428397e5f9b02504b3d1": {
      "model_module": "@jupyter-widgets/controls",
      "model_module_version": "1.5.0",
      "model_name": "DescriptionStyleModel",
      "state": {
       "description_width": ""
      }
     },
     "1c4623144dee4a37b835ee9db6ac4def": {
      "model_module": "@jupyter-widgets/controls",
      "model_module_version": "1.5.0",
      "model_name": "DatePickerModel",
      "state": {
       "description": "Cut-off date:",
       "disabled": false,
       "layout": "IPY_MODEL_d59d807fec564fd6bc7081677d774bc4",
       "style": "IPY_MODEL_13f753dcea29428397e5f9b02504b3d1"
      }
     },
     "2a756ecbfdf84e54afb9a8b2b7144fbd": {
      "model_module": "@jupyter-widgets/base",
      "model_module_version": "1.2.0",
      "model_name": "LayoutModel",
      "state": {}
     },
     "2d76d963823d42f4bef871d082c3ab3e": {
      "model_module": "@jupyter-widgets/base",
      "model_module_version": "1.2.0",
      "model_name": "LayoutModel",
      "state": {}
     },
     "413568dd174a4308a4a751bbde2d9558": {
      "model_module": "@jupyter-widgets/base",
      "model_module_version": "1.2.0",
      "model_name": "LayoutModel",
      "state": {}
     },
     "4c6d1e02cf4e4f0e83dcf5f85bc1a6c7": {
      "model_module": "@jupyter-widgets/controls",
      "model_module_version": "1.5.0",
      "model_name": "VBoxModel",
      "state": {
       "children": [
        "IPY_MODEL_8cd991b10ff34b24949387887d04d86d"
       ],
       "layout": "IPY_MODEL_c54c954030a84cbf9633ec7e3f75fc64"
      }
     },
     "648629ac37d345f4aac5f6eebaefdc11": {
      "model_module": "@jupyter-widgets/controls",
      "model_module_version": "1.5.0",
      "model_name": "DescriptionStyleModel",
      "state": {
       "description_width": ""
      }
     },
     "67e25b1c826b4060814b261b43c92000": {
      "model_module": "@jupyter-widgets/controls",
      "model_module_version": "1.5.0",
      "model_name": "DescriptionStyleModel",
      "state": {
       "description_width": ""
      }
     },
     "78656f6e98774357a5fc3baa1a7fa1fc": {
      "model_module": "@jupyter-widgets/controls",
      "model_module_version": "1.5.0",
      "model_name": "ButtonModel",
      "state": {
       "description": "Save \"config.ini\"",
       "layout": "IPY_MODEL_2a756ecbfdf84e54afb9a8b2b7144fbd",
       "style": "IPY_MODEL_cd86accc3a6a41d09086d48bb41f2cc9"
      }
     },
     "8430231e737a4681b1daf1c09f3b8ede": {
      "model_module": "@jupyter-widgets/base",
      "model_module_version": "1.2.0",
      "model_name": "LayoutModel",
      "state": {}
     },
     "8cd991b10ff34b24949387887d04d86d": {
      "model_module": "@jupyter-widgets/controls",
      "model_module_version": "1.5.0",
      "model_name": "TextModel",
      "state": {
       "description": "Configuration file:",
       "layout": "IPY_MODEL_2d76d963823d42f4bef871d082c3ab3e",
       "style": "IPY_MODEL_d709ab61822c4e3485da183a8802a733",
       "value": "config.ini"
      }
     },
     "9590b30b248a45c7aba259e6e7fa921d": {
      "model_module": "@jupyter-widgets/base",
      "model_module_version": "1.2.0",
      "model_name": "LayoutModel",
      "state": {}
     },
     "ac0f69339fc5403fa3580c1bb4fac820": {
      "model_module": "@jupyter-widgets/controls",
      "model_module_version": "1.5.0",
      "model_name": "VBoxModel",
      "state": {
       "children": [
        "IPY_MODEL_b5a7ce9e30c24ccfbef131adb7d9eb88",
        "IPY_MODEL_106f409663bb432abc5e4f51415d27eb",
        "IPY_MODEL_1c4623144dee4a37b835ee9db6ac4def",
        "IPY_MODEL_78656f6e98774357a5fc3baa1a7fa1fc"
       ],
       "layout": "IPY_MODEL_413568dd174a4308a4a751bbde2d9558"
      }
     },
     "b4f32e5174f44c529dff04d8214f4dd9": {
      "model_module": "@jupyter-widgets/controls",
      "model_module_version": "1.5.0",
      "model_name": "DescriptionStyleModel",
      "state": {
       "description_width": ""
      }
     },
     "b5a7ce9e30c24ccfbef131adb7d9eb88": {
      "model_module": "@jupyter-widgets/controls",
      "model_module_version": "1.5.0",
      "model_name": "TextModel",
      "state": {
       "description": "Path of database:",
       "layout": "IPY_MODEL_d0921eae891848d89cb19a32f6ec38bc",
       "style": "IPY_MODEL_b4f32e5174f44c529dff04d8214f4dd9",
       "value": "C:\\Users\\Fabien Boux\\Code\\Oncology-clinical-trial\\data\\dummy"
      }
     },
     "bba296b99724423e8423bf9cb41e9b06": {
      "model_module": "@jupyter-widgets/base",
      "model_module_version": "1.2.0",
      "model_name": "LayoutModel",
      "state": {}
     },
     "be22bf8b9715421ca614df1298a8cb2f": {
      "model_module": "@jupyter-widgets/controls",
      "model_module_version": "1.5.0",
      "model_name": "TextModel",
      "state": {
       "description": "Metadata file:",
       "layout": "IPY_MODEL_9590b30b248a45c7aba259e6e7fa921d",
       "style": "IPY_MODEL_648629ac37d345f4aac5f6eebaefdc11",
       "value": "metadata.xlsx"
      }
     },
     "c54c954030a84cbf9633ec7e3f75fc64": {
      "model_module": "@jupyter-widgets/base",
      "model_module_version": "1.2.0",
      "model_name": "LayoutModel",
      "state": {}
     },
     "cd86accc3a6a41d09086d48bb41f2cc9": {
      "model_module": "@jupyter-widgets/controls",
      "model_module_version": "1.5.0",
      "model_name": "ButtonStyleModel",
      "state": {}
     },
     "d0921eae891848d89cb19a32f6ec38bc": {
      "model_module": "@jupyter-widgets/base",
      "model_module_version": "1.2.0",
      "model_name": "LayoutModel",
      "state": {}
     },
     "d59d807fec564fd6bc7081677d774bc4": {
      "model_module": "@jupyter-widgets/base",
      "model_module_version": "1.2.0",
      "model_name": "LayoutModel",
      "state": {}
     },
     "d709ab61822c4e3485da183a8802a733": {
      "model_module": "@jupyter-widgets/controls",
      "model_module_version": "1.5.0",
      "model_name": "DescriptionStyleModel",
      "state": {
       "description_width": ""
      }
     },
     "d9374101d83d4c83be200e051aef84b5": {
      "model_module": "@jupyter-widgets/controls",
      "model_module_version": "1.5.0",
      "model_name": "LabelModel",
      "state": {
       "layout": "IPY_MODEL_8430231e737a4681b1daf1c09f3b8ede",
       "style": "IPY_MODEL_67e25b1c826b4060814b261b43c92000",
       "value": "This can be a relative path from the path of the database."
      }
     }
    },
    "version_major": 2,
    "version_minor": 0
   }
  }
 },
 "nbformat": 4,
 "nbformat_minor": 5
}
