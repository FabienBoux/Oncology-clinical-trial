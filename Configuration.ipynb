{
 "cells": [
  {
   "cell_type": "markdown",
   "id": "1fdbfb92-e637-40a1-99e9-129e5958c180",
   "metadata": {},
   "source": [
    "# Configuration\n",
    "\n",
    "Different variables can be defined here (eg. paths of data). These changes will be saved in the ```config.ini``` file and will therefore not have to be redefined each time. Note that other tabs can also modified this file."
   ]
  },
  {
   "cell_type": "code",
   "execution_count": 1,
   "id": "2f2c795d-95b7-4dd8-97a5-7f84cba5c12e",
   "metadata": {
    "jupyter": {
     "source_hidden": true
    },
    "tags": []
   },
   "outputs": [
    {
     "data": {
      "application/vnd.jupyter.widget-view+json": {
       "model_id": "d206a3d0de354961b7d7c3acb6efa10a",
       "version_major": 2,
       "version_minor": 0
      },
      "text/plain": [
       "HBox(children=(Text(value='config.ini', description='Configuration file:'),))"
      ]
     },
     "metadata": {},
     "output_type": "display_data"
    }
   ],
   "source": [
    "import ipywidgets as widgets\n",
    "import os\n",
    "\n",
    "list_config_files = [x for x in os.listdir() if '.ini' in x]\n",
    "\n",
    "config_w = widgets.Text(value=(list_config_files[0] if list_config_files != [] else ''),\n",
    "                        description='Configuration file:', disabled=False)\n",
    "\n",
    "# def on_button_run_clicked(var):\n",
    "#     import sys\n",
    "#     sys.path.append(\"C:\\\\Users\\\\Fabien Boux\\\\Code\\\\ClinLib\")\n",
    "\n",
    "#     from functions.config import Config\n",
    "#     config = Config(config_w.value)\n",
    "#     config.read()\n",
    "\n",
    "#     from clinlib.database import Database\n",
    "#     database = Database(config.get_value('database', section='PATH'), idlength=3)\n",
    "#     database.add_resource({'metadata': os.path.join(config.get_value('database', section='PATH'), config.get_value('metadata', section='PATH'))})\n",
    "\n",
    "# button_run = widgets.Button(description='Run', command=on_button_run_clicked)\n",
    "# button_run.on_click(on_button_run_clicked)\n",
    "\n",
    "# widgets.HBox([config_w, button_run])\n",
    "widgets.HBox([config_w])\n"
   ]
  },
  {
   "cell_type": "code",
   "execution_count": 2,
   "id": "f313e5b6-4495-47d0-a333-94febf3542ee",
   "metadata": {
    "jupyter": {
     "source_hidden": true
    },
    "tags": []
   },
   "outputs": [
    {
     "data": {
      "application/vnd.jupyter.widget-view+json": {
       "model_id": "76c7880befc24096bd685cb7600fb16a",
       "version_major": 2,
       "version_minor": 0
      },
      "text/plain": [
       "VBox(children=(Text(value='C:\\\\Users\\\\Fabien Boux\\\\Code\\\\Oncology-clinical-trial\\\\data\\\\dummy', description='P…"
      ]
     },
     "metadata": {},
     "output_type": "display_data"
    }
   ],
   "source": [
    "from datetime import datetime\n",
    "from functions.config import Config\n",
    "\n",
    "config_filename = config_w.value\n",
    "\n",
    "if not os.path.isfile(config_filename):\n",
    "    f = open(config_filename, \"w\")\n",
    "    f.close()\n",
    "\n",
    "config = Config(config_filename)\n",
    "config.read()\n",
    "\n",
    "\n",
    "path_database = widgets.Text(value=(config.get_value('database') if config.is_key('database') else ''),\n",
    "                             description='Path of database:', disabled=False)\n",
    "\n",
    "metadata_filename = widgets.Text(value=(config.get_value('metadata') if config.is_key('metadata') else ''),\n",
    "                                 description='Metadata file:', disabled=False)\n",
    "\n",
    "cutoff_date = widgets.DatePicker(description='Cut-off date:', value=(datetime.strptime(config.get_value('cutoff_date'), '%Y-%m-%d') if config.is_key('cutoff_date') else None), \n",
    "                                 disabled=False)\n",
    "\n",
    "def on_button_save_clicked(var):\n",
    "    config.set_value(path_database.value, 'database', section='PATH')\n",
    "    config.set_value(metadata_filename.value, 'metadata', section='PATH')\n",
    "    if cutoff_date.value is not None:\n",
    "        config.set_value(str(cutoff_date.value), 'cutoff_date', section='OTHER')\n",
    "    else:\n",
    "        config.remove_value('cutoff_date', section='OTHER')\n",
    "    config.write()\n",
    "\n",
    "button_save = widgets.Button(description='Save \"{}\"'.format(config_filename), command=on_button_save_clicked)\n",
    "button_save.on_click(on_button_save_clicked)\n",
    "\n",
    "widgets.VBox([path_database, \n",
    "              widgets.HBox([metadata_filename, widgets.Label(value='This can be a relative path from the path of the database.')]),\n",
    "              cutoff_date,\n",
    "              button_save])"
   ]
  }
 ],
 "metadata": {
  "kernelspec": {
   "display_name": "Python 3 (ipykernel)",
   "language": "python",
   "name": "python3"
  },
  "language_info": {
   "codemirror_mode": {
    "name": "ipython",
    "version": 3
   },
   "file_extension": ".py",
   "mimetype": "text/x-python",
   "name": "python",
   "nbconvert_exporter": "python",
   "pygments_lexer": "ipython3",
   "version": "3.9.9"
  },
  "widgets": {
   "application/vnd.jupyter.widget-state+json": {
    "state": {
     "0f67b41417c94a218e460df444c51379": {
      "model_module": "@jupyter-widgets/controls",
      "model_module_version": "1.5.0",
      "model_name": "DescriptionStyleModel",
      "state": {
       "description_width": ""
      }
     },
     "13fa47cd39834dc8a32aeb5893d3edc2": {
      "model_module": "@jupyter-widgets/base",
      "model_module_version": "1.2.0",
      "model_name": "LayoutModel",
      "state": {}
     },
     "1c347b2e99a44ec5a139e9367d4ac99a": {
      "model_module": "@jupyter-widgets/controls",
      "model_module_version": "1.5.0",
      "model_name": "DescriptionStyleModel",
      "state": {
       "description_width": ""
      }
     },
     "1cccf806d5bb4fdab58e3752459660bc": {
      "model_module": "@jupyter-widgets/base",
      "model_module_version": "1.2.0",
      "model_name": "LayoutModel",
      "state": {}
     },
     "231f3e6ad6da4454afd0ac18018e8b12": {
      "model_module": "@jupyter-widgets/base",
      "model_module_version": "1.2.0",
      "model_name": "LayoutModel",
      "state": {}
     },
     "25772f18082b48c0877cdc178d74b923": {
      "model_module": "@jupyter-widgets/controls",
      "model_module_version": "1.5.0",
      "model_name": "DescriptionStyleModel",
      "state": {
       "description_width": ""
      }
     },
     "258b0a6c77074d0fb2f3dca90bb81828": {
      "model_module": "@jupyter-widgets/base",
      "model_module_version": "1.2.0",
      "model_name": "LayoutModel",
      "state": {}
     },
     "2f0bdc52372542078ce9d6c441cc4bb0": {
      "model_module": "@jupyter-widgets/base",
      "model_module_version": "1.2.0",
      "model_name": "LayoutModel",
      "state": {}
     },
     "3093caa862ac4e8ba0a19502a294dd0f": {
      "model_module": "@jupyter-widgets/controls",
      "model_module_version": "1.5.0",
      "model_name": "ButtonStyleModel",
      "state": {}
     },
     "4ddde6ddc6d74ac98ccb66674638c3b7": {
      "model_module": "@jupyter-widgets/controls",
      "model_module_version": "1.5.0",
      "model_name": "TextModel",
      "state": {
       "description": "Path of database:",
       "layout": "IPY_MODEL_7a92bd3d6f1a4531bf991a22eaf8e0ac",
       "style": "IPY_MODEL_25772f18082b48c0877cdc178d74b923",
       "value": "C:\\Users\\Fabien Boux\\Code\\Oncology-clinical-trial\\data\\dummy"
      }
     },
     "63bb132ef0a14b7883d0459f4c936fd1": {
      "model_module": "@jupyter-widgets/controls",
      "model_module_version": "1.5.0",
      "model_name": "DescriptionStyleModel",
      "state": {
       "description_width": ""
      }
     },
     "6779927fb6464e11800bd094b583c229": {
      "model_module": "@jupyter-widgets/controls",
      "model_module_version": "1.5.0",
      "model_name": "DescriptionStyleModel",
      "state": {
       "description_width": ""
      }
     },
     "76c7880befc24096bd685cb7600fb16a": {
      "model_module": "@jupyter-widgets/controls",
      "model_module_version": "1.5.0",
      "model_name": "VBoxModel",
      "state": {
       "children": [
        "IPY_MODEL_4ddde6ddc6d74ac98ccb66674638c3b7",
        "IPY_MODEL_c26d5d4f5d1f4b61884077c5864bb3b0",
        "IPY_MODEL_f47d7c325c4e45788c6bb58937595250",
        "IPY_MODEL_78833e0bc45e40c68afe49c18beafe39"
       ],
       "layout": "IPY_MODEL_258b0a6c77074d0fb2f3dca90bb81828"
      }
     },
     "78833e0bc45e40c68afe49c18beafe39": {
      "model_module": "@jupyter-widgets/controls",
      "model_module_version": "1.5.0",
      "model_name": "ButtonModel",
      "state": {
       "description": "Save \"config.ini\"",
       "layout": "IPY_MODEL_ae52d1580bd948baa96db5d2e345776a",
       "style": "IPY_MODEL_3093caa862ac4e8ba0a19502a294dd0f"
      }
     },
     "7a92bd3d6f1a4531bf991a22eaf8e0ac": {
      "model_module": "@jupyter-widgets/base",
      "model_module_version": "1.2.0",
      "model_name": "LayoutModel",
      "state": {}
     },
     "ae52d1580bd948baa96db5d2e345776a": {
      "model_module": "@jupyter-widgets/base",
      "model_module_version": "1.2.0",
      "model_name": "LayoutModel",
      "state": {}
     },
     "c26d5d4f5d1f4b61884077c5864bb3b0": {
      "model_module": "@jupyter-widgets/controls",
      "model_module_version": "1.5.0",
      "model_name": "HBoxModel",
      "state": {
       "children": [
        "IPY_MODEL_c8c6ccb0cdbc4b56b2b4cb913f008be5",
        "IPY_MODEL_f77cd35ddc534bcd8c793e15819d27fc"
       ],
       "layout": "IPY_MODEL_2f0bdc52372542078ce9d6c441cc4bb0"
      }
     },
     "c43bf1e3ea26428e9cd55309499fac40": {
      "model_module": "@jupyter-widgets/controls",
      "model_module_version": "1.5.0",
      "model_name": "TextModel",
      "state": {
       "description": "Configuration file:",
       "layout": "IPY_MODEL_231f3e6ad6da4454afd0ac18018e8b12",
       "style": "IPY_MODEL_0f67b41417c94a218e460df444c51379",
       "value": "config.ini"
      }
     },
     "c8c6ccb0cdbc4b56b2b4cb913f008be5": {
      "model_module": "@jupyter-widgets/controls",
      "model_module_version": "1.5.0",
      "model_name": "TextModel",
      "state": {
       "description": "Metadata file:",
       "layout": "IPY_MODEL_1cccf806d5bb4fdab58e3752459660bc",
       "style": "IPY_MODEL_6779927fb6464e11800bd094b583c229",
       "value": "metadata.xlsx"
      }
     },
     "d206a3d0de354961b7d7c3acb6efa10a": {
      "model_module": "@jupyter-widgets/controls",
      "model_module_version": "1.5.0",
      "model_name": "HBoxModel",
      "state": {
       "children": [
        "IPY_MODEL_c43bf1e3ea26428e9cd55309499fac40"
       ],
       "layout": "IPY_MODEL_13fa47cd39834dc8a32aeb5893d3edc2"
      }
     },
     "d63175f7444448eca97a358f407e805d": {
      "model_module": "@jupyter-widgets/base",
      "model_module_version": "1.2.0",
      "model_name": "LayoutModel",
      "state": {}
     },
     "f2a32a948c774fc8ab572242fcdab0fb": {
      "model_module": "@jupyter-widgets/base",
      "model_module_version": "1.2.0",
      "model_name": "LayoutModel",
      "state": {}
     },
     "f47d7c325c4e45788c6bb58937595250": {
      "model_module": "@jupyter-widgets/controls",
      "model_module_version": "1.5.0",
      "model_name": "DatePickerModel",
      "state": {
       "description": "Cut-off date:",
       "disabled": false,
       "layout": "IPY_MODEL_f2a32a948c774fc8ab572242fcdab0fb",
       "style": "IPY_MODEL_1c347b2e99a44ec5a139e9367d4ac99a"
      }
     },
     "f77cd35ddc534bcd8c793e15819d27fc": {
      "model_module": "@jupyter-widgets/controls",
      "model_module_version": "1.5.0",
      "model_name": "LabelModel",
      "state": {
       "layout": "IPY_MODEL_d63175f7444448eca97a358f407e805d",
       "style": "IPY_MODEL_63bb132ef0a14b7883d0459f4c936fd1",
       "value": "This can be a relative path from the path of the database."
      }
     }
    },
    "version_major": 2,
    "version_minor": 0
   }
  }
 },
 "nbformat": 4,
 "nbformat_minor": 5
}
