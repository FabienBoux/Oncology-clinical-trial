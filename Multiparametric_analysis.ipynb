{
 "cells": [
  {
   "cell_type": "markdown",
   "id": "5309dcea",
   "metadata": {},
   "source": [
    "# Multiparametric analysis\n",
    "\n",
    "This tab aims to investigate the potential biomarkers that could predict the response to treatment. This analysis could also point difference at inclusion that could not be detected with randomisation data. First, we propose to select parameters (found in data) that could have *a priori* an impact in the study."
   ]
  },
  {
   "cell_type": "code",
   "execution_count": 1,
   "id": "586f1cc5",
   "metadata": {},
   "outputs": [],
   "source": [
    "import os\n",
    "import sys\n",
    "sys.path.append(\"C:\\\\Users\\\\Fabien Boux\\\\Code\\\\ClinLib\")\n",
    "\n",
    "from functions.config import Config\n",
    "from clinlib.database import Database\n",
    "\n",
    "with open('init.txt') as f:\n",
    "    lines = f.readlines()\n",
    "config = Config(os.path.join('ini', lines[0]))\n",
    "config.read()\n",
    "\n",
    "database = Database(config.get_value('database', section='PATH'), idlength=(int(config.get_value('id_length', section='OTHER')) if config.is_key('id_length') else 3))\n",
    "database.add_resource({'metadata': os.path.join(config.get_value('database', section='PATH'), config.get_value('metadata', section='PATH'))})\n",
    "\n",
    "import ipywidgets as widgets\n",
    "from ipywidgets import interact, interactive\n",
    "import matplotlib.pyplot as plt\n",
    "from IPython.display import display"
   ]
  },
  {
   "cell_type": "code",
   "execution_count": 2,
   "id": "d1cf6658",
   "metadata": {
    "scrolled": true
   },
   "outputs": [
    {
     "data": {
      "application/vnd.jupyter.widget-view+json": {
       "model_id": "8e41e773ccf44c3a9369496568270c9b",
       "version_major": 2,
       "version_minor": 0
      },
      "text/plain": [
       "HBox(children=(Select(description='Data:', options=('Diameter', 'Volume', 'ADC', 'R1_MAP', 'Remarks', 'RECIST'…"
      ]
     },
     "metadata": {},
     "output_type": "display_data"
    }
   ],
   "source": [
    "import ipywidgets as widgets\n",
    "\n",
    "if config.is_key('list_data'):\n",
    "    list_data = config.get_value('list_data')\n",
    "else:\n",
    "    list_data = config.extract_config_values('list_data')\n",
    "    config.write()\n",
    "    \n",
    "if config.is_key('monitored_data'):\n",
    "    list_selected = config.get_value('monitored_data')\n",
    "else:\n",
    "    list_selected = list_data[:1]\n",
    "\n",
    "all_data = widgets.Select(\n",
    "    options=list_data,\n",
    "    value=list_data[0],\n",
    "    description='Data:',\n",
    "    disabled=False\n",
    ")\n",
    "\n",
    "selected_data = widgets.Select(\n",
    "    options=list_selected,\n",
    "    value=list_selected[0],\n",
    "    description='Monitored:',\n",
    "    disabled=False\n",
    ")\n",
    "\n",
    "def on_button_add_clicked(var):\n",
    "    if all_data.value not in list_selected:\n",
    "        list_selected.append(all_data.value)\n",
    "        list_selected.sort()\n",
    "        selected_data.options = list_selected\n",
    "\n",
    "def on_button_remove_clicked(var):\n",
    "    list_selected.remove(selected_data.value)\n",
    "    selected_data.options = list_selected\n",
    "\n",
    "def on_button_save_clicked(var):\n",
    "    config.set_value(list_selected, 'monitored_data', section='DATA')\n",
    "    config.write()\n",
    "    \n",
    "button_add = widgets.Button(description='Add', command=on_button_add_clicked)\n",
    "button_remove = widgets.Button(description='Remove', command=on_button_remove_clicked)\n",
    "button_save = widgets.Button(description='Save', command=on_button_save_clicked)\n",
    "\n",
    "button_add.on_click(on_button_add_clicked)\n",
    "button_remove.on_click(on_button_remove_clicked)\n",
    "button_save.on_click(on_button_save_clicked)\n",
    "\n",
    "widgets.HBox([all_data, widgets.VBox([button_add, button_remove, button_save]), selected_data])"
   ]
  },
  {
   "cell_type": "markdown",
   "id": "c72ce38f",
   "metadata": {},
   "source": [
    "## 1. Correlations \n",
    "\n",
    "The following matrix correlation allows to identify potential correlation between parameters (correlation *r* is between -1 and 1). Usually, depending on the *r* value, not considering the sign, the correlations highlight:\n",
    "- *r* < 0.25: no relationship,\n",
    "- 0.25 < *r* < 0.5: weak relationship,\n",
    "- 0.5 < *r* < 0.75: moderate relationship,\n",
    "- *r* > 0.75: strong relationship.\n",
    "\n",
    "Note that the matrix of correlations can be threshold according to these ranges."
   ]
  },
  {
   "cell_type": "code",
   "execution_count": 3,
   "id": "9f52088e",
   "metadata": {},
   "outputs": [
    {
     "name": "stderr",
     "output_type": "stream",
     "text": [
      "C:\\ProgramData\\Anaconda3\\envs\\NanoRad\\lib\\site-packages\\statsmodels\\compat\\pandas.py:61: FutureWarning: pandas.Int64Index is deprecated and will be removed from pandas in a future version. Use pandas.Index with the appropriate dtype instead.\n",
      "  from pandas import Int64Index as NumericIndex\n"
     ]
    },
    {
     "data": {
      "application/vnd.jupyter.widget-view+json": {
       "model_id": "06739530ed8c4797b60c61431822f525",
       "version_major": 2,
       "version_minor": 0
      },
      "text/plain": [
       "interactive(children=(Dropdown(description='Visit', options=('Baseline', 'W6', 'M3', 'M6', 'M9', 'M12'), value…"
      ]
     },
     "metadata": {},
     "output_type": "display_data"
    }
   ],
   "source": [
    "%matplotlib widget\n",
    "\n",
    "from functions.graph import correlation_matrix_plot\n",
    "\n",
    "visits = (config.get_value('visits', section='OTHER') if config.is_key('visits') else None)\n",
    "list_selected = (config.get_value('monitored_data') if config.is_key('monitored_data') else [])\n",
    "\n",
    "def plot_corr(Visit=visits[0], Thresholded=False):\n",
    "    correlation_matrix_plot(database, list_selected, visit=Visit, threshold=Thresholded)\n",
    "    plt.show()\n",
    "\n",
    "interact(plot_corr, Visit=visits, Thresholded=False);"
   ]
  },
  {
   "cell_type": "markdown",
   "id": "f022162f",
   "metadata": {},
   "source": [
    "## 2. Multiparametric vizualisation\n",
    "\n",
    "A representation in two dimensions (ie. reduction dimension) of multidimensional is performed in order to investigate potential separation of data. Different representations are proposed, based on:\n",
    "- principal component analysis (PCA): used to project each data point onto only the first few principal components (here, 2) to obtain lower-dimensional data while preserving as much of the data's variation as possible. The first principal component can equivalently be defined as a direction that maximizes the variance of the projected data. The 2nd principal component can be taken as a direction orthogonal to the first.\n",
    "- t-distributed stochastic neighbor embedding (t-SNE): nonlinear dimensionality reduction technique well-suited for embedding high-dimensional data for visualization in a low-dimensional space of 2 dimensions. Specifically, it models each high-dimensional object by a two-dimensional point in such a way that similar objects are modeled by nearby points and dissimilar objects are modeled by distant points with high probability. \n",
    "\n",
    "Using an isolation forest algorithm, you can specifid a percentage of \"outliers\" (generally, based on prior information such as observation of lesions) can be provided. The method proposed identify in this case the data that deviate from others."
   ]
  },
  {
   "cell_type": "code",
   "execution_count": 4,
   "id": "32e96c96",
   "metadata": {},
   "outputs": [
    {
     "data": {
      "application/vnd.jupyter.widget-view+json": {
       "model_id": "8979b3c5e7794e65b591d06f469a781e",
       "version_major": 2,
       "version_minor": 0
      },
      "text/plain": [
       "interactive(children=(Dropdown(description='Visit', options=('Baseline', 'W6', 'M3', 'M6', 'M9', 'M12'), value…"
      ]
     },
     "metadata": {},
     "output_type": "display_data"
    }
   ],
   "source": [
    "%matplotlib widget\n",
    "\n",
    "from functions.graph import dim_reduction_plot\n",
    "\n",
    "visits = (config.get_value('visits', section='OTHER') if config.is_key('visits') else None)\n",
    "list_selected = (config.get_value('monitored_data') if config.is_key('monitored_data') else [])\n",
    "\n",
    "# list_selected = ['ADC', 'FLAIR', 'T1', 'SWI']\n",
    "\n",
    "def plot_dim_reduc(Visit=visits[0], Method='PCA', Outliers=0):\n",
    "    dim_reduction_plot(database, list_selected, visit=Visit, method=Method, outliers=Outliers)\n",
    "    plt.show()\n",
    "\n",
    "interact(plot_dim_reduc, Visit=visits, Method=['PCA', 't-SNE'], Outliers=(0, 50, 2.5));"
   ]
  },
  {
   "cell_type": "markdown",
   "id": "dd92fc06",
   "metadata": {},
   "source": [
    "## 3. Volumetric biomarker\n",
    "\n",
    "To investigate parameters that could be involve in the size evolution of lesions, value of parameters are plotted in function of the volume normalized by the initial volume (ie. volume at reference visit).\n",
    "\n",
    "Note that the size of symbols is proportionnal to the size of metastases at inclusion."
   ]
  },
  {
   "cell_type": "code",
   "execution_count": 5,
   "id": "9a7e90ba",
   "metadata": {
    "scrolled": false
   },
   "outputs": [
    {
     "data": {
      "application/vnd.jupyter.widget-view+json": {
       "model_id": "915fa46ff67b43c0ab7301b5adbc13ff",
       "version_major": 2,
       "version_minor": 0
      },
      "text/plain": [
       "interactive(children=(Dropdown(description='Data', options=('FLAIR', 'SE', 'SWI', 'T1'), value='FLAIR'), Outpu…"
      ]
     },
     "metadata": {},
     "output_type": "display_data"
    }
   ],
   "source": [
    "%matplotlib widget\n",
    "\n",
    "from functions.graph import evolution_plot\n",
    "\n",
    "metric = (config.get_value('volume_label') if config.is_key('volume_label') else 'Volume')\n",
    "visits = (config.get_value('visits', section='OTHER') if config.is_key('visits') else None)\n",
    "list_selected = (config.get_value('monitored_data') if config.is_key('monitored_data') else [])\n",
    "groups = (config.get_value('groups', section='OTHER') if config.is_key('groups') else None)\n",
    "\n",
    "def plot_evol(Data=list_selected[0]):\n",
    "    evolution_plot(database, Data, visit=[visits[0], 'W6', 'M3', 'M6'], metric=metric, groups=groups)\n",
    "    plt.show()\n",
    "\n",
    "interact(plot_evol, Data=list_selected);"
   ]
  }
 ],
 "metadata": {
  "hide_input": false,
  "kernelspec": {
   "display_name": "Python 3 (ipykernel)",
   "language": "python",
   "name": "python3"
  },
  "language_info": {
   "codemirror_mode": {
    "name": "ipython",
    "version": 3
   },
   "file_extension": ".py",
   "mimetype": "text/x-python",
   "name": "python",
   "nbconvert_exporter": "python",
   "pygments_lexer": "ipython3",
   "version": "3.9.7"
  }
 },
 "nbformat": 4,
 "nbformat_minor": 5
}
